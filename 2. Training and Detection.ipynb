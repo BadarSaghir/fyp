{
 "cells": [
  {
   "cell_type": "markdown",
   "metadata": {
    "id": "QUANWN3rpfC9"
   },
   "source": [
    "# 0. Setup Paths"
   ]
  },
  {
   "cell_type": "code",
   "execution_count": 3,
   "metadata": {
    "id": "146BB11JpfDA"
   },
   "outputs": [],
   "source": [
    "import os"
   ]
  },
  {
   "cell_type": "code",
   "execution_count": 4,
   "metadata": {
    "id": "42hJEdo_pfDB"
   },
   "outputs": [],
   "source": [
    "CUSTOM_MODEL_NAME = 'my_ssd_mobnet' \n",
    "PRETRAINED_MODEL_NAME = 'ssd_mobilenet_v2_fpnlite_320x320_coco17_tpu-8'\n",
    "PRETRAINED_MODEL_URL = 'http://download.tensorflow.org/models/object_detection/tf2/20200711/ssd_mobilenet_v2_fpnlite_320x320_coco17_tpu-8.tar.gz'\n",
    "TF_RECORD_SCRIPT_NAME = 'generate_tfrecord.py'\n",
    "LABEL_MAP_NAME = 'label_map.pbtxt'"
   ]
  },
  {
   "cell_type": "code",
   "execution_count": 5,
   "metadata": {
    "id": "hbPhYVy_pfDB"
   },
   "outputs": [],
   "source": [
    "paths = {\n",
    "    'WORKSPACE_PATH': os.path.join('Tensorflow', 'workspace'),\n",
    "    'SCRIPTS_PATH': os.path.join('Tensorflow','scripts'),\n",
    "    'APIMODEL_PATH': os.path.join('Tensorflow','models'),\n",
    "    'ANNOTATION_PATH': os.path.join('Tensorflow', 'workspace','annotations'),\n",
    "    'IMAGE_PATH': os.path.join('Tensorflow', 'workspace','images'),\n",
    "    'MODEL_PATH': os.path.join('Tensorflow', 'workspace','models'),\n",
    "    'PRETRAINED_MODEL_PATH': os.path.join('Tensorflow', 'workspace','pre-trained-models'),\n",
    "    'CHECKPOINT_PATH': os.path.join('Tensorflow', 'workspace','models',CUSTOM_MODEL_NAME), \n",
    "    'OUTPUT_PATH': os.path.join('Tensorflow', 'workspace','models',CUSTOM_MODEL_NAME, 'export'), \n",
    "    'TFJS_PATH':os.path.join('Tensorflow', 'workspace','models',CUSTOM_MODEL_NAME, 'tfjsexport'), \n",
    "    'TFLITE_PATH':os.path.join('Tensorflow', 'workspace','models',CUSTOM_MODEL_NAME, 'tfliteexport'), \n",
    "    'PROTOC_PATH':os.path.join('Tensorflow','protoc')\n",
    " }"
   ]
  },
  {
   "cell_type": "code",
   "execution_count": 6,
   "metadata": {
    "id": "LwhWZMI0pfDC"
   },
   "outputs": [],
   "source": [
    "files = {\n",
    "    'PIPELINE_CONFIG':os.path.join('Tensorflow', 'workspace','models', CUSTOM_MODEL_NAME, 'pipeline.config'),\n",
    "    'TF_RECORD_SCRIPT': os.path.join(paths['SCRIPTS_PATH'], TF_RECORD_SCRIPT_NAME), \n",
    "    'LABELMAP': os.path.join(paths['ANNOTATION_PATH'], LABEL_MAP_NAME)\n",
    "}"
   ]
  },
  {
   "cell_type": "code",
   "execution_count": 5,
   "metadata": {
    "id": "HR-TfDGrpfDC"
   },
   "outputs": [],
   "source": [
    "for path in paths.values():\n",
    "    if not os.path.exists(path):\n",
    "        if os.name == 'posix':\n",
    "            !mkdir -p {path}\n",
    "        if os.name == 'nt':\n",
    "            !mkdir {path}"
   ]
  },
  {
   "cell_type": "markdown",
   "metadata": {
    "id": "OLU-rs_ipfDE"
   },
   "source": [
    "# 1. Download TF Models Pretrained Models from Tensorflow Model Zoo and Install TFOD"
   ]
  },
  {
   "cell_type": "code",
   "execution_count": 6,
   "metadata": {
    "id": "K-Cmz2edpfDE",
    "scrolled": true
   },
   "outputs": [
    {
     "name": "stdout",
     "output_type": "stream",
     "text": [
      "Requirement already satisfied: wget in c:\\users\\irtis\\anaconda3\\lib\\site-packages (3.2)\n"
     ]
    }
   ],
   "source": [
    "if os.name=='nt':\n",
    "    !pip install wget\n",
    "    import wget"
   ]
  },
  {
   "cell_type": "code",
   "execution_count": 7,
   "metadata": {
    "id": "iA1DIq5OpfDE"
   },
   "outputs": [],
   "source": [
    "if not os.path.exists(os.path.join(paths['APIMODEL_PATH'], 'research', 'object_detection')):\n",
    "    !git clone https://github.com/tensorflow/models {paths['APIMODEL_PATH']}"
   ]
  },
  {
   "cell_type": "code",
   "execution_count": 8,
   "metadata": {
    "id": "rJjMHbnDs3Tv"
   },
   "outputs": [
    {
     "name": "stdout",
     "output_type": "stream",
     "text": [
      "100% [..........................................................................] 1468733 / 1468733        1 file(s) moved.\n",
      "        1 file(s) copied.\n",
      "running build\n",
      "running build_py\n",
      "copying object_detection\\protos\\anchor_generator_pb2.py -> build\\lib\\object_detection\\protos\n",
      "copying object_detection\\protos\\argmax_matcher_pb2.py -> build\\lib\\object_detection\\protos\n",
      "copying object_detection\\protos\\bipartite_matcher_pb2.py -> build\\lib\\object_detection\\protos\n",
      "copying object_detection\\protos\\box_coder_pb2.py -> build\\lib\\object_detection\\protos\n",
      "copying object_detection\\protos\\box_predictor_pb2.py -> build\\lib\\object_detection\\protos\n",
      "copying object_detection\\protos\\calibration_pb2.py -> build\\lib\\object_detection\\protos\n",
      "copying object_detection\\protos\\center_net_pb2.py -> build\\lib\\object_detection\\protos\n",
      "copying object_detection\\protos\\eval_pb2.py -> build\\lib\\object_detection\\protos\n",
      "copying object_detection\\protos\\faster_rcnn_box_coder_pb2.py -> build\\lib\\object_detection\\protos\n",
      "copying object_detection\\protos\\faster_rcnn_pb2.py -> build\\lib\\object_detection\\protos\n",
      "copying object_detection\\protos\\flexible_grid_anchor_generator_pb2.py -> build\\lib\\object_detection\\protos\n",
      "copying object_detection\\protos\\fpn_pb2.py -> build\\lib\\object_detection\\protos\n",
      "copying object_detection\\protos\\graph_rewriter_pb2.py -> build\\lib\\object_detection\\protos\n",
      "copying object_detection\\protos\\grid_anchor_generator_pb2.py -> build\\lib\\object_detection\\protos\n",
      "copying object_detection\\protos\\hyperparams_pb2.py -> build\\lib\\object_detection\\protos\n",
      "copying object_detection\\protos\\image_resizer_pb2.py -> build\\lib\\object_detection\\protos\n",
      "copying object_detection\\protos\\input_reader_pb2.py -> build\\lib\\object_detection\\protos\n",
      "copying object_detection\\protos\\keypoint_box_coder_pb2.py -> build\\lib\\object_detection\\protos\n",
      "copying object_detection\\protos\\losses_pb2.py -> build\\lib\\object_detection\\protos\n",
      "copying object_detection\\protos\\matcher_pb2.py -> build\\lib\\object_detection\\protos\n",
      "copying object_detection\\protos\\mean_stddev_box_coder_pb2.py -> build\\lib\\object_detection\\protos\n",
      "copying object_detection\\protos\\model_pb2.py -> build\\lib\\object_detection\\protos\n",
      "copying object_detection\\protos\\multiscale_anchor_generator_pb2.py -> build\\lib\\object_detection\\protos\n",
      "copying object_detection\\protos\\optimizer_pb2.py -> build\\lib\\object_detection\\protos\n",
      "copying object_detection\\protos\\pipeline_pb2.py -> build\\lib\\object_detection\\protos\n",
      "copying object_detection\\protos\\post_processing_pb2.py -> build\\lib\\object_detection\\protos\n",
      "copying object_detection\\protos\\preprocessor_pb2.py -> build\\lib\\object_detection\\protos\n",
      "copying object_detection\\protos\\region_similarity_calculator_pb2.py -> build\\lib\\object_detection\\protos\n",
      "copying object_detection\\protos\\square_box_coder_pb2.py -> build\\lib\\object_detection\\protos\n",
      "copying object_detection\\protos\\ssd_anchor_generator_pb2.py -> build\\lib\\object_detection\\protos\n",
      "copying object_detection\\protos\\ssd_pb2.py -> build\\lib\\object_detection\\protos\n",
      "copying object_detection\\protos\\string_int_label_map_pb2.py -> build\\lib\\object_detection\\protos\n",
      "copying object_detection\\protos\\target_assigner_pb2.py -> build\\lib\\object_detection\\protos\n",
      "copying object_detection\\protos\\train_pb2.py -> build\\lib\\object_detection\\protos\n",
      "running egg_info\n",
      "writing object_detection.egg-info\\PKG-INFO\n",
      "writing dependency_links to object_detection.egg-info\\dependency_links.txt\n",
      "writing requirements to object_detection.egg-info\\requires.txt\n",
      "writing top-level names to object_detection.egg-info\\top_level.txt\n",
      "reading manifest file 'object_detection.egg-info\\SOURCES.txt'\n",
      "writing manifest file 'object_detection.egg-info\\SOURCES.txt'\n",
      "running install\n",
      "running bdist_egg\n",
      "running egg_info\n",
      "writing object_detection.egg-info\\PKG-INFO\n",
      "writing dependency_links to object_detection.egg-info\\dependency_links.txt\n",
      "writing requirements to object_detection.egg-info\\requires.txt\n",
      "writing top-level names to object_detection.egg-info\\top_level.txt\n",
      "reading manifest file 'object_detection.egg-info\\SOURCES.txt'\n",
      "writing manifest file 'object_detection.egg-info\\SOURCES.txt'\n",
      "installing library code to build\\bdist.win-amd64\\egg\n",
      "running install_lib\n",
      "running build_py\n",
      "creating build\\bdist.win-amd64\\egg\n",
      "creating build\\bdist.win-amd64\\egg\\datasets\n",
      "copying build\\lib\\datasets\\build_imagenet_data.py -> build\\bdist.win-amd64\\egg\\datasets\n",
      "copying build\\lib\\datasets\\cifar10.py -> build\\bdist.win-amd64\\egg\\datasets\n",
      "copying build\\lib\\datasets\\dataset_factory.py -> build\\bdist.win-amd64\\egg\\datasets\n",
      "copying build\\lib\\datasets\\dataset_utils.py -> build\\bdist.win-amd64\\egg\\datasets\n",
      "copying build\\lib\\datasets\\download_and_convert_cifar10.py -> build\\bdist.win-amd64\\egg\\datasets\n",
      "copying build\\lib\\datasets\\download_and_convert_flowers.py -> build\\bdist.win-amd64\\egg\\datasets\n",
      "copying build\\lib\\datasets\\download_and_convert_mnist.py -> build\\bdist.win-amd64\\egg\\datasets\n",
      "copying build\\lib\\datasets\\download_and_convert_visualwakewords.py -> build\\bdist.win-amd64\\egg\\datasets\n",
      "copying build\\lib\\datasets\\download_and_convert_visualwakewords_lib.py -> build\\bdist.win-amd64\\egg\\datasets\n",
      "copying build\\lib\\datasets\\flowers.py -> build\\bdist.win-amd64\\egg\\datasets\n",
      "copying build\\lib\\datasets\\imagenet.py -> build\\bdist.win-amd64\\egg\\datasets\n",
      "copying build\\lib\\datasets\\mnist.py -> build\\bdist.win-amd64\\egg\\datasets\n",
      "copying build\\lib\\datasets\\preprocess_imagenet_validation_data.py -> build\\bdist.win-amd64\\egg\\datasets\n",
      "copying build\\lib\\datasets\\process_bounding_boxes.py -> build\\bdist.win-amd64\\egg\\datasets\n",
      "copying build\\lib\\datasets\\visualwakewords.py -> build\\bdist.win-amd64\\egg\\datasets\n",
      "copying build\\lib\\datasets\\__init__.py -> build\\bdist.win-amd64\\egg\\datasets\n",
      "creating build\\bdist.win-amd64\\egg\\deployment\n",
      "copying build\\lib\\deployment\\model_deploy.py -> build\\bdist.win-amd64\\egg\\deployment\n",
      "copying build\\lib\\deployment\\model_deploy_test.py -> build\\bdist.win-amd64\\egg\\deployment\n",
      "copying build\\lib\\deployment\\__init__.py -> build\\bdist.win-amd64\\egg\\deployment\n",
      "creating build\\bdist.win-amd64\\egg\\nets\n",
      "copying build\\lib\\nets\\alexnet.py -> build\\bdist.win-amd64\\egg\\nets\n",
      "copying build\\lib\\nets\\alexnet_test.py -> build\\bdist.win-amd64\\egg\\nets\n",
      "copying build\\lib\\nets\\cifarnet.py -> build\\bdist.win-amd64\\egg\\nets\n",
      "copying build\\lib\\nets\\cyclegan.py -> build\\bdist.win-amd64\\egg\\nets\n",
      "copying build\\lib\\nets\\cyclegan_test.py -> build\\bdist.win-amd64\\egg\\nets\n",
      "copying build\\lib\\nets\\dcgan.py -> build\\bdist.win-amd64\\egg\\nets\n",
      "copying build\\lib\\nets\\dcgan_test.py -> build\\bdist.win-amd64\\egg\\nets\n",
      "copying build\\lib\\nets\\i3d.py -> build\\bdist.win-amd64\\egg\\nets\n",
      "copying build\\lib\\nets\\i3d_test.py -> build\\bdist.win-amd64\\egg\\nets\n",
      "copying build\\lib\\nets\\i3d_utils.py -> build\\bdist.win-amd64\\egg\\nets\n",
      "copying build\\lib\\nets\\inception.py -> build\\bdist.win-amd64\\egg\\nets\n",
      "copying build\\lib\\nets\\inception_resnet_v2.py -> build\\bdist.win-amd64\\egg\\nets\n",
      "copying build\\lib\\nets\\inception_resnet_v2_test.py -> build\\bdist.win-amd64\\egg\\nets\n",
      "copying build\\lib\\nets\\inception_utils.py -> build\\bdist.win-amd64\\egg\\nets\n",
      "copying build\\lib\\nets\\inception_v1.py -> build\\bdist.win-amd64\\egg\\nets\n",
      "copying build\\lib\\nets\\inception_v1_test.py -> build\\bdist.win-amd64\\egg\\nets\n",
      "copying build\\lib\\nets\\inception_v2.py -> build\\bdist.win-amd64\\egg\\nets\n",
      "copying build\\lib\\nets\\inception_v2_test.py -> build\\bdist.win-amd64\\egg\\nets\n",
      "copying build\\lib\\nets\\inception_v3.py -> build\\bdist.win-amd64\\egg\\nets\n",
      "copying build\\lib\\nets\\inception_v3_test.py -> build\\bdist.win-amd64\\egg\\nets\n",
      "copying build\\lib\\nets\\inception_v4.py -> build\\bdist.win-amd64\\egg\\nets\n",
      "copying build\\lib\\nets\\inception_v4_test.py -> build\\bdist.win-amd64\\egg\\nets\n",
      "copying build\\lib\\nets\\lenet.py -> build\\bdist.win-amd64\\egg\\nets\n",
      "creating build\\bdist.win-amd64\\egg\\nets\\mobilenet\n",
      "copying build\\lib\\nets\\mobilenet\\conv_blocks.py -> build\\bdist.win-amd64\\egg\\nets\\mobilenet\n",
      "copying build\\lib\\nets\\mobilenet\\mobilenet.py -> build\\bdist.win-amd64\\egg\\nets\\mobilenet\n",
      "copying build\\lib\\nets\\mobilenet\\mobilenet_v2.py -> build\\bdist.win-amd64\\egg\\nets\\mobilenet\n",
      "copying build\\lib\\nets\\mobilenet\\mobilenet_v2_test.py -> build\\bdist.win-amd64\\egg\\nets\\mobilenet\n",
      "copying build\\lib\\nets\\mobilenet\\mobilenet_v3.py -> build\\bdist.win-amd64\\egg\\nets\\mobilenet\n",
      "copying build\\lib\\nets\\mobilenet\\mobilenet_v3_test.py -> build\\bdist.win-amd64\\egg\\nets\\mobilenet\n",
      "copying build\\lib\\nets\\mobilenet\\__init__.py -> build\\bdist.win-amd64\\egg\\nets\\mobilenet\n",
      "copying build\\lib\\nets\\mobilenet_v1.py -> build\\bdist.win-amd64\\egg\\nets\n",
      "copying build\\lib\\nets\\mobilenet_v1_eval.py -> build\\bdist.win-amd64\\egg\\nets\n",
      "copying build\\lib\\nets\\mobilenet_v1_test.py -> build\\bdist.win-amd64\\egg\\nets\n",
      "copying build\\lib\\nets\\mobilenet_v1_train.py -> build\\bdist.win-amd64\\egg\\nets\n",
      "creating build\\bdist.win-amd64\\egg\\nets\\nasnet\n",
      "copying build\\lib\\nets\\nasnet\\nasnet.py -> build\\bdist.win-amd64\\egg\\nets\\nasnet\n",
      "copying build\\lib\\nets\\nasnet\\nasnet_test.py -> build\\bdist.win-amd64\\egg\\nets\\nasnet\n",
      "copying build\\lib\\nets\\nasnet\\nasnet_utils.py -> build\\bdist.win-amd64\\egg\\nets\\nasnet\n",
      "copying build\\lib\\nets\\nasnet\\nasnet_utils_test.py -> build\\bdist.win-amd64\\egg\\nets\\nasnet\n",
      "copying build\\lib\\nets\\nasnet\\pnasnet.py -> build\\bdist.win-amd64\\egg\\nets\\nasnet\n",
      "copying build\\lib\\nets\\nasnet\\pnasnet_test.py -> build\\bdist.win-amd64\\egg\\nets\\nasnet\n",
      "copying build\\lib\\nets\\nasnet\\__init__.py -> build\\bdist.win-amd64\\egg\\nets\\nasnet\n",
      "copying build\\lib\\nets\\nets_factory.py -> build\\bdist.win-amd64\\egg\\nets\n",
      "copying build\\lib\\nets\\nets_factory_test.py -> build\\bdist.win-amd64\\egg\\nets\n",
      "copying build\\lib\\nets\\overfeat.py -> build\\bdist.win-amd64\\egg\\nets\n",
      "copying build\\lib\\nets\\overfeat_test.py -> build\\bdist.win-amd64\\egg\\nets\n",
      "copying build\\lib\\nets\\pix2pix.py -> build\\bdist.win-amd64\\egg\\nets\n",
      "copying build\\lib\\nets\\pix2pix_test.py -> build\\bdist.win-amd64\\egg\\nets\n",
      "copying build\\lib\\nets\\post_training_quantization.py -> build\\bdist.win-amd64\\egg\\nets\n",
      "copying build\\lib\\nets\\resnet_utils.py -> build\\bdist.win-amd64\\egg\\nets\n",
      "copying build\\lib\\nets\\resnet_v1.py -> build\\bdist.win-amd64\\egg\\nets\n",
      "copying build\\lib\\nets\\resnet_v1_test.py -> build\\bdist.win-amd64\\egg\\nets\n",
      "copying build\\lib\\nets\\resnet_v2.py -> build\\bdist.win-amd64\\egg\\nets\n",
      "copying build\\lib\\nets\\resnet_v2_test.py -> build\\bdist.win-amd64\\egg\\nets\n",
      "copying build\\lib\\nets\\s3dg.py -> build\\bdist.win-amd64\\egg\\nets\n",
      "copying build\\lib\\nets\\s3dg_test.py -> build\\bdist.win-amd64\\egg\\nets\n",
      "copying build\\lib\\nets\\vgg.py -> build\\bdist.win-amd64\\egg\\nets\n",
      "copying build\\lib\\nets\\vgg_test.py -> build\\bdist.win-amd64\\egg\\nets\n",
      "copying build\\lib\\nets\\__init__.py -> build\\bdist.win-amd64\\egg\\nets\n",
      "creating build\\bdist.win-amd64\\egg\\object_detection\n",
      "creating build\\bdist.win-amd64\\egg\\object_detection\\anchor_generators\n",
      "copying build\\lib\\object_detection\\anchor_generators\\flexible_grid_anchor_generator.py -> build\\bdist.win-amd64\\egg\\object_detection\\anchor_generators\n",
      "copying build\\lib\\object_detection\\anchor_generators\\flexible_grid_anchor_generator_test.py -> build\\bdist.win-amd64\\egg\\object_detection\\anchor_generators\n",
      "copying build\\lib\\object_detection\\anchor_generators\\grid_anchor_generator.py -> build\\bdist.win-amd64\\egg\\object_detection\\anchor_generators\n",
      "copying build\\lib\\object_detection\\anchor_generators\\grid_anchor_generator_test.py -> build\\bdist.win-amd64\\egg\\object_detection\\anchor_generators\n",
      "copying build\\lib\\object_detection\\anchor_generators\\multiple_grid_anchor_generator.py -> build\\bdist.win-amd64\\egg\\object_detection\\anchor_generators\n",
      "copying build\\lib\\object_detection\\anchor_generators\\multiple_grid_anchor_generator_test.py -> build\\bdist.win-amd64\\egg\\object_detection\\anchor_generators\n",
      "copying build\\lib\\object_detection\\anchor_generators\\multiscale_grid_anchor_generator.py -> build\\bdist.win-amd64\\egg\\object_detection\\anchor_generators\n",
      "copying build\\lib\\object_detection\\anchor_generators\\multiscale_grid_anchor_generator_test.py -> build\\bdist.win-amd64\\egg\\object_detection\\anchor_generators\n",
      "copying build\\lib\\object_detection\\anchor_generators\\__init__.py -> build\\bdist.win-amd64\\egg\\object_detection\\anchor_generators\n",
      "creating build\\bdist.win-amd64\\egg\\object_detection\\box_coders\n",
      "copying build\\lib\\object_detection\\box_coders\\faster_rcnn_box_coder.py -> build\\bdist.win-amd64\\egg\\object_detection\\box_coders\n",
      "copying build\\lib\\object_detection\\box_coders\\faster_rcnn_box_coder_test.py -> build\\bdist.win-amd64\\egg\\object_detection\\box_coders\n",
      "copying build\\lib\\object_detection\\box_coders\\keypoint_box_coder.py -> build\\bdist.win-amd64\\egg\\object_detection\\box_coders\n",
      "copying build\\lib\\object_detection\\box_coders\\keypoint_box_coder_test.py -> build\\bdist.win-amd64\\egg\\object_detection\\box_coders\n",
      "copying build\\lib\\object_detection\\box_coders\\mean_stddev_box_coder.py -> build\\bdist.win-amd64\\egg\\object_detection\\box_coders\n",
      "copying build\\lib\\object_detection\\box_coders\\mean_stddev_box_coder_test.py -> build\\bdist.win-amd64\\egg\\object_detection\\box_coders\n",
      "copying build\\lib\\object_detection\\box_coders\\square_box_coder.py -> build\\bdist.win-amd64\\egg\\object_detection\\box_coders\n",
      "copying build\\lib\\object_detection\\box_coders\\square_box_coder_test.py -> build\\bdist.win-amd64\\egg\\object_detection\\box_coders\n",
      "copying build\\lib\\object_detection\\box_coders\\__init__.py -> build\\bdist.win-amd64\\egg\\object_detection\\box_coders\n",
      "creating build\\bdist.win-amd64\\egg\\object_detection\\builders\n",
      "copying build\\lib\\object_detection\\builders\\anchor_generator_builder.py -> build\\bdist.win-amd64\\egg\\object_detection\\builders\n",
      "copying build\\lib\\object_detection\\builders\\anchor_generator_builder_test.py -> build\\bdist.win-amd64\\egg\\object_detection\\builders\n",
      "copying build\\lib\\object_detection\\builders\\box_coder_builder.py -> build\\bdist.win-amd64\\egg\\object_detection\\builders\n",
      "copying build\\lib\\object_detection\\builders\\box_coder_builder_test.py -> build\\bdist.win-amd64\\egg\\object_detection\\builders\n",
      "copying build\\lib\\object_detection\\builders\\box_predictor_builder.py -> build\\bdist.win-amd64\\egg\\object_detection\\builders\n",
      "copying build\\lib\\object_detection\\builders\\box_predictor_builder_test.py -> build\\bdist.win-amd64\\egg\\object_detection\\builders\n",
      "copying build\\lib\\object_detection\\builders\\calibration_builder.py -> build\\bdist.win-amd64\\egg\\object_detection\\builders\n",
      "copying build\\lib\\object_detection\\builders\\calibration_builder_test.py -> build\\bdist.win-amd64\\egg\\object_detection\\builders\n",
      "copying build\\lib\\object_detection\\builders\\dataset_builder.py -> build\\bdist.win-amd64\\egg\\object_detection\\builders\n",
      "copying build\\lib\\object_detection\\builders\\dataset_builder_test.py -> build\\bdist.win-amd64\\egg\\object_detection\\builders\n",
      "copying build\\lib\\object_detection\\builders\\decoder_builder.py -> build\\bdist.win-amd64\\egg\\object_detection\\builders\n",
      "copying build\\lib\\object_detection\\builders\\decoder_builder_test.py -> build\\bdist.win-amd64\\egg\\object_detection\\builders\n",
      "copying build\\lib\\object_detection\\builders\\graph_rewriter_builder.py -> build\\bdist.win-amd64\\egg\\object_detection\\builders\n",
      "copying build\\lib\\object_detection\\builders\\graph_rewriter_builder_tf1_test.py -> build\\bdist.win-amd64\\egg\\object_detection\\builders\n",
      "copying build\\lib\\object_detection\\builders\\hyperparams_builder.py -> build\\bdist.win-amd64\\egg\\object_detection\\builders\n",
      "copying build\\lib\\object_detection\\builders\\hyperparams_builder_test.py -> build\\bdist.win-amd64\\egg\\object_detection\\builders\n",
      "copying build\\lib\\object_detection\\builders\\image_resizer_builder.py -> build\\bdist.win-amd64\\egg\\object_detection\\builders\n",
      "copying build\\lib\\object_detection\\builders\\image_resizer_builder_test.py -> build\\bdist.win-amd64\\egg\\object_detection\\builders\n",
      "copying build\\lib\\object_detection\\builders\\input_reader_builder.py -> build\\bdist.win-amd64\\egg\\object_detection\\builders\n",
      "copying build\\lib\\object_detection\\builders\\input_reader_builder_tf1_test.py -> build\\bdist.win-amd64\\egg\\object_detection\\builders\n",
      "copying build\\lib\\object_detection\\builders\\losses_builder.py -> build\\bdist.win-amd64\\egg\\object_detection\\builders\n",
      "copying build\\lib\\object_detection\\builders\\losses_builder_test.py -> build\\bdist.win-amd64\\egg\\object_detection\\builders\n",
      "copying build\\lib\\object_detection\\builders\\matcher_builder.py -> build\\bdist.win-amd64\\egg\\object_detection\\builders\n",
      "copying build\\lib\\object_detection\\builders\\matcher_builder_test.py -> build\\bdist.win-amd64\\egg\\object_detection\\builders\n",
      "copying build\\lib\\object_detection\\builders\\model_builder.py -> build\\bdist.win-amd64\\egg\\object_detection\\builders\n",
      "copying build\\lib\\object_detection\\builders\\model_builder_test.py -> build\\bdist.win-amd64\\egg\\object_detection\\builders\n",
      "copying build\\lib\\object_detection\\builders\\model_builder_tf1_test.py -> build\\bdist.win-amd64\\egg\\object_detection\\builders\n",
      "copying build\\lib\\object_detection\\builders\\model_builder_tf2_test.py -> build\\bdist.win-amd64\\egg\\object_detection\\builders\n",
      "copying build\\lib\\object_detection\\builders\\optimizer_builder.py -> build\\bdist.win-amd64\\egg\\object_detection\\builders\n",
      "copying build\\lib\\object_detection\\builders\\optimizer_builder_tf1_test.py -> build\\bdist.win-amd64\\egg\\object_detection\\builders\n",
      "copying build\\lib\\object_detection\\builders\\optimizer_builder_tf2_test.py -> build\\bdist.win-amd64\\egg\\object_detection\\builders\n",
      "copying build\\lib\\object_detection\\builders\\post_processing_builder.py -> build\\bdist.win-amd64\\egg\\object_detection\\builders\n",
      "copying build\\lib\\object_detection\\builders\\post_processing_builder_test.py -> build\\bdist.win-amd64\\egg\\object_detection\\builders\n",
      "copying build\\lib\\object_detection\\builders\\preprocessor_builder.py -> build\\bdist.win-amd64\\egg\\object_detection\\builders\n",
      "copying build\\lib\\object_detection\\builders\\preprocessor_builder_test.py -> build\\bdist.win-amd64\\egg\\object_detection\\builders\n",
      "copying build\\lib\\object_detection\\builders\\region_similarity_calculator_builder.py -> build\\bdist.win-amd64\\egg\\object_detection\\builders\n",
      "copying build\\lib\\object_detection\\builders\\region_similarity_calculator_builder_test.py -> build\\bdist.win-amd64\\egg\\object_detection\\builders\n",
      "copying build\\lib\\object_detection\\builders\\target_assigner_builder.py -> build\\bdist.win-amd64\\egg\\object_detection\\builders\n",
      "copying build\\lib\\object_detection\\builders\\target_assigner_builder_test.py -> build\\bdist.win-amd64\\egg\\object_detection\\builders\n",
      "copying build\\lib\\object_detection\\builders\\__init__.py -> build\\bdist.win-amd64\\egg\\object_detection\\builders\n",
      "creating build\\bdist.win-amd64\\egg\\object_detection\\core\n",
      "copying build\\lib\\object_detection\\core\\anchor_generator.py -> build\\bdist.win-amd64\\egg\\object_detection\\core\n",
      "copying build\\lib\\object_detection\\core\\balanced_positive_negative_sampler.py -> build\\bdist.win-amd64\\egg\\object_detection\\core\n",
      "copying build\\lib\\object_detection\\core\\balanced_positive_negative_sampler_test.py -> build\\bdist.win-amd64\\egg\\object_detection\\core\n",
      "copying build\\lib\\object_detection\\core\\batcher.py -> build\\bdist.win-amd64\\egg\\object_detection\\core\n",
      "copying build\\lib\\object_detection\\core\\batcher_tf1_test.py -> build\\bdist.win-amd64\\egg\\object_detection\\core\n",
      "copying build\\lib\\object_detection\\core\\batch_multiclass_nms_test.py -> build\\bdist.win-amd64\\egg\\object_detection\\core\n",
      "copying build\\lib\\object_detection\\core\\box_coder.py -> build\\bdist.win-amd64\\egg\\object_detection\\core\n",
      "copying build\\lib\\object_detection\\core\\box_coder_test.py -> build\\bdist.win-amd64\\egg\\object_detection\\core\n",
      "copying build\\lib\\object_detection\\core\\box_list.py -> build\\bdist.win-amd64\\egg\\object_detection\\core\n",
      "copying build\\lib\\object_detection\\core\\box_list_ops.py -> build\\bdist.win-amd64\\egg\\object_detection\\core\n",
      "copying build\\lib\\object_detection\\core\\box_list_ops_test.py -> build\\bdist.win-amd64\\egg\\object_detection\\core\n",
      "copying build\\lib\\object_detection\\core\\box_list_test.py -> build\\bdist.win-amd64\\egg\\object_detection\\core\n",
      "copying build\\lib\\object_detection\\core\\box_predictor.py -> build\\bdist.win-amd64\\egg\\object_detection\\core\n",
      "copying build\\lib\\object_detection\\core\\class_agnostic_nms_test.py -> build\\bdist.win-amd64\\egg\\object_detection\\core\n",
      "copying build\\lib\\object_detection\\core\\data_decoder.py -> build\\bdist.win-amd64\\egg\\object_detection\\core\n",
      "copying build\\lib\\object_detection\\core\\data_parser.py -> build\\bdist.win-amd64\\egg\\object_detection\\core\n",
      "copying build\\lib\\object_detection\\core\\densepose_ops.py -> build\\bdist.win-amd64\\egg\\object_detection\\core\n",
      "copying build\\lib\\object_detection\\core\\densepose_ops_test.py -> build\\bdist.win-amd64\\egg\\object_detection\\core\n",
      "copying build\\lib\\object_detection\\core\\freezable_batch_norm.py -> build\\bdist.win-amd64\\egg\\object_detection\\core\n",
      "copying build\\lib\\object_detection\\core\\freezable_batch_norm_tf2_test.py -> build\\bdist.win-amd64\\egg\\object_detection\\core\n",
      "copying build\\lib\\object_detection\\core\\freezable_sync_batch_norm.py -> build\\bdist.win-amd64\\egg\\object_detection\\core\n",
      "copying build\\lib\\object_detection\\core\\keypoint_ops.py -> build\\bdist.win-amd64\\egg\\object_detection\\core\n",
      "copying build\\lib\\object_detection\\core\\keypoint_ops_test.py -> build\\bdist.win-amd64\\egg\\object_detection\\core\n",
      "copying build\\lib\\object_detection\\core\\losses.py -> build\\bdist.win-amd64\\egg\\object_detection\\core\n",
      "copying build\\lib\\object_detection\\core\\losses_test.py -> build\\bdist.win-amd64\\egg\\object_detection\\core\n",
      "copying build\\lib\\object_detection\\core\\matcher.py -> build\\bdist.win-amd64\\egg\\object_detection\\core\n",
      "copying build\\lib\\object_detection\\core\\matcher_test.py -> build\\bdist.win-amd64\\egg\\object_detection\\core\n",
      "copying build\\lib\\object_detection\\core\\minibatch_sampler.py -> build\\bdist.win-amd64\\egg\\object_detection\\core\n",
      "copying build\\lib\\object_detection\\core\\minibatch_sampler_test.py -> build\\bdist.win-amd64\\egg\\object_detection\\core\n",
      "copying build\\lib\\object_detection\\core\\model.py -> build\\bdist.win-amd64\\egg\\object_detection\\core\n",
      "copying build\\lib\\object_detection\\core\\model_test.py -> build\\bdist.win-amd64\\egg\\object_detection\\core\n",
      "copying build\\lib\\object_detection\\core\\multiclass_nms_test.py -> build\\bdist.win-amd64\\egg\\object_detection\\core\n",
      "copying build\\lib\\object_detection\\core\\post_processing.py -> build\\bdist.win-amd64\\egg\\object_detection\\core\n",
      "copying build\\lib\\object_detection\\core\\prefetcher.py -> build\\bdist.win-amd64\\egg\\object_detection\\core\n",
      "copying build\\lib\\object_detection\\core\\prefetcher_tf1_test.py -> build\\bdist.win-amd64\\egg\\object_detection\\core\n",
      "copying build\\lib\\object_detection\\core\\preprocessor.py -> build\\bdist.win-amd64\\egg\\object_detection\\core\n",
      "copying build\\lib\\object_detection\\core\\preprocessor_cache.py -> build\\bdist.win-amd64\\egg\\object_detection\\core\n",
      "copying build\\lib\\object_detection\\core\\preprocessor_test.py -> build\\bdist.win-amd64\\egg\\object_detection\\core\n",
      "copying build\\lib\\object_detection\\core\\region_similarity_calculator.py -> build\\bdist.win-amd64\\egg\\object_detection\\core\n",
      "copying build\\lib\\object_detection\\core\\region_similarity_calculator_test.py -> build\\bdist.win-amd64\\egg\\object_detection\\core\n",
      "copying build\\lib\\object_detection\\core\\standard_fields.py -> build\\bdist.win-amd64\\egg\\object_detection\\core\n",
      "copying build\\lib\\object_detection\\core\\target_assigner.py -> build\\bdist.win-amd64\\egg\\object_detection\\core\n",
      "copying build\\lib\\object_detection\\core\\target_assigner_test.py -> build\\bdist.win-amd64\\egg\\object_detection\\core\n",
      "copying build\\lib\\object_detection\\core\\__init__.py -> build\\bdist.win-amd64\\egg\\object_detection\\core\n",
      "creating build\\bdist.win-amd64\\egg\\object_detection\\dataset_tools\n",
      "creating build\\bdist.win-amd64\\egg\\object_detection\\dataset_tools\\context_rcnn\n",
      "copying build\\lib\\object_detection\\dataset_tools\\context_rcnn\\add_context_to_examples.py -> build\\bdist.win-amd64\\egg\\object_detection\\dataset_tools\\context_rcnn\n",
      "copying build\\lib\\object_detection\\dataset_tools\\context_rcnn\\add_context_to_examples_tf2_test.py -> build\\bdist.win-amd64\\egg\\object_detection\\dataset_tools\\context_rcnn\n",
      "copying build\\lib\\object_detection\\dataset_tools\\context_rcnn\\create_cococameratraps_tfexample_main.py -> build\\bdist.win-amd64\\egg\\object_detection\\dataset_tools\\context_rcnn\n",
      "copying build\\lib\\object_detection\\dataset_tools\\context_rcnn\\create_cococameratraps_tfexample_tf2_test.py -> build\\bdist.win-amd64\\egg\\object_detection\\dataset_tools\\context_rcnn\n",
      "copying build\\lib\\object_detection\\dataset_tools\\context_rcnn\\generate_detection_data.py -> build\\bdist.win-amd64\\egg\\object_detection\\dataset_tools\\context_rcnn\n",
      "copying build\\lib\\object_detection\\dataset_tools\\context_rcnn\\generate_detection_data_tf2_test.py -> build\\bdist.win-amd64\\egg\\object_detection\\dataset_tools\\context_rcnn\n",
      "copying build\\lib\\object_detection\\dataset_tools\\context_rcnn\\generate_embedding_data.py -> build\\bdist.win-amd64\\egg\\object_detection\\dataset_tools\\context_rcnn\n",
      "copying build\\lib\\object_detection\\dataset_tools\\context_rcnn\\generate_embedding_data_tf2_test.py -> build\\bdist.win-amd64\\egg\\object_detection\\dataset_tools\\context_rcnn\n",
      "copying build\\lib\\object_detection\\dataset_tools\\context_rcnn\\__init__.py -> build\\bdist.win-amd64\\egg\\object_detection\\dataset_tools\\context_rcnn\n",
      "copying build\\lib\\object_detection\\dataset_tools\\create_ava_actions_tf_record.py -> build\\bdist.win-amd64\\egg\\object_detection\\dataset_tools\n",
      "copying build\\lib\\object_detection\\dataset_tools\\create_coco_tf_record.py -> build\\bdist.win-amd64\\egg\\object_detection\\dataset_tools\n",
      "copying build\\lib\\object_detection\\dataset_tools\\create_coco_tf_record_test.py -> build\\bdist.win-amd64\\egg\\object_detection\\dataset_tools\n",
      "copying build\\lib\\object_detection\\dataset_tools\\create_kitti_tf_record.py -> build\\bdist.win-amd64\\egg\\object_detection\\dataset_tools\n",
      "copying build\\lib\\object_detection\\dataset_tools\\create_kitti_tf_record_test.py -> build\\bdist.win-amd64\\egg\\object_detection\\dataset_tools\n",
      "copying build\\lib\\object_detection\\dataset_tools\\create_oid_tf_record.py -> build\\bdist.win-amd64\\egg\\object_detection\\dataset_tools\n",
      "copying build\\lib\\object_detection\\dataset_tools\\create_pascal_tf_record.py -> build\\bdist.win-amd64\\egg\\object_detection\\dataset_tools\n",
      "copying build\\lib\\object_detection\\dataset_tools\\create_pascal_tf_record_test.py -> build\\bdist.win-amd64\\egg\\object_detection\\dataset_tools\n",
      "copying build\\lib\\object_detection\\dataset_tools\\create_pet_tf_record.py -> build\\bdist.win-amd64\\egg\\object_detection\\dataset_tools\n",
      "copying build\\lib\\object_detection\\dataset_tools\\oid_hierarchical_labels_expansion.py -> build\\bdist.win-amd64\\egg\\object_detection\\dataset_tools\n",
      "copying build\\lib\\object_detection\\dataset_tools\\oid_hierarchical_labels_expansion_test.py -> build\\bdist.win-amd64\\egg\\object_detection\\dataset_tools\n",
      "copying build\\lib\\object_detection\\dataset_tools\\oid_tfrecord_creation.py -> build\\bdist.win-amd64\\egg\\object_detection\\dataset_tools\n",
      "copying build\\lib\\object_detection\\dataset_tools\\oid_tfrecord_creation_test.py -> build\\bdist.win-amd64\\egg\\object_detection\\dataset_tools\n",
      "copying build\\lib\\object_detection\\dataset_tools\\seq_example_util.py -> build\\bdist.win-amd64\\egg\\object_detection\\dataset_tools\n",
      "copying build\\lib\\object_detection\\dataset_tools\\seq_example_util_test.py -> build\\bdist.win-amd64\\egg\\object_detection\\dataset_tools\n",
      "copying build\\lib\\object_detection\\dataset_tools\\tf_record_creation_util.py -> build\\bdist.win-amd64\\egg\\object_detection\\dataset_tools\n",
      "copying build\\lib\\object_detection\\dataset_tools\\tf_record_creation_util_test.py -> build\\bdist.win-amd64\\egg\\object_detection\\dataset_tools\n",
      "copying build\\lib\\object_detection\\dataset_tools\\__init__.py -> build\\bdist.win-amd64\\egg\\object_detection\\dataset_tools\n",
      "creating build\\bdist.win-amd64\\egg\\object_detection\\data_decoders\n",
      "copying build\\lib\\object_detection\\data_decoders\\tf_example_decoder.py -> build\\bdist.win-amd64\\egg\\object_detection\\data_decoders\n",
      "copying build\\lib\\object_detection\\data_decoders\\tf_example_decoder_test.py -> build\\bdist.win-amd64\\egg\\object_detection\\data_decoders\n",
      "copying build\\lib\\object_detection\\data_decoders\\tf_sequence_example_decoder.py -> build\\bdist.win-amd64\\egg\\object_detection\\data_decoders\n",
      "copying build\\lib\\object_detection\\data_decoders\\tf_sequence_example_decoder_test.py -> build\\bdist.win-amd64\\egg\\object_detection\\data_decoders\n",
      "copying build\\lib\\object_detection\\data_decoders\\__init__.py -> build\\bdist.win-amd64\\egg\\object_detection\\data_decoders\n",
      "copying build\\lib\\object_detection\\eval_util.py -> build\\bdist.win-amd64\\egg\\object_detection\n",
      "copying build\\lib\\object_detection\\eval_util_test.py -> build\\bdist.win-amd64\\egg\\object_detection\n",
      "copying build\\lib\\object_detection\\exporter.py -> build\\bdist.win-amd64\\egg\\object_detection\n",
      "copying build\\lib\\object_detection\\exporter_lib_tf2_test.py -> build\\bdist.win-amd64\\egg\\object_detection\n",
      "copying build\\lib\\object_detection\\exporter_lib_v2.py -> build\\bdist.win-amd64\\egg\\object_detection\n",
      "copying build\\lib\\object_detection\\exporter_main_v2.py -> build\\bdist.win-amd64\\egg\\object_detection\n",
      "copying build\\lib\\object_detection\\exporter_tf1_test.py -> build\\bdist.win-amd64\\egg\\object_detection\n",
      "copying build\\lib\\object_detection\\export_inference_graph.py -> build\\bdist.win-amd64\\egg\\object_detection\n",
      "copying build\\lib\\object_detection\\export_tflite_graph_lib_tf2.py -> build\\bdist.win-amd64\\egg\\object_detection\n",
      "copying build\\lib\\object_detection\\export_tflite_graph_lib_tf2_test.py -> build\\bdist.win-amd64\\egg\\object_detection\n",
      "copying build\\lib\\object_detection\\export_tflite_graph_tf2.py -> build\\bdist.win-amd64\\egg\\object_detection\n",
      "copying build\\lib\\object_detection\\export_tflite_ssd_graph.py -> build\\bdist.win-amd64\\egg\\object_detection\n",
      "copying build\\lib\\object_detection\\export_tflite_ssd_graph_lib.py -> build\\bdist.win-amd64\\egg\\object_detection\n",
      "copying build\\lib\\object_detection\\export_tflite_ssd_graph_lib_tf1_test.py -> build\\bdist.win-amd64\\egg\\object_detection\n",
      "creating build\\bdist.win-amd64\\egg\\object_detection\\inference\n",
      "copying build\\lib\\object_detection\\inference\\detection_inference.py -> build\\bdist.win-amd64\\egg\\object_detection\\inference\n",
      "copying build\\lib\\object_detection\\inference\\detection_inference_tf1_test.py -> build\\bdist.win-amd64\\egg\\object_detection\\inference\n",
      "copying build\\lib\\object_detection\\inference\\infer_detections.py -> build\\bdist.win-amd64\\egg\\object_detection\\inference\n",
      "copying build\\lib\\object_detection\\inference\\__init__.py -> build\\bdist.win-amd64\\egg\\object_detection\\inference\n",
      "copying build\\lib\\object_detection\\inputs.py -> build\\bdist.win-amd64\\egg\\object_detection\n",
      "copying build\\lib\\object_detection\\inputs_test.py -> build\\bdist.win-amd64\\egg\\object_detection\n",
      "creating build\\bdist.win-amd64\\egg\\object_detection\\legacy\n",
      "copying build\\lib\\object_detection\\legacy\\eval.py -> build\\bdist.win-amd64\\egg\\object_detection\\legacy\n",
      "copying build\\lib\\object_detection\\legacy\\evaluator.py -> build\\bdist.win-amd64\\egg\\object_detection\\legacy\n",
      "copying build\\lib\\object_detection\\legacy\\train.py -> build\\bdist.win-amd64\\egg\\object_detection\\legacy\n",
      "copying build\\lib\\object_detection\\legacy\\trainer.py -> build\\bdist.win-amd64\\egg\\object_detection\\legacy\n",
      "copying build\\lib\\object_detection\\legacy\\trainer_tf1_test.py -> build\\bdist.win-amd64\\egg\\object_detection\\legacy\n",
      "copying build\\lib\\object_detection\\legacy\\__init__.py -> build\\bdist.win-amd64\\egg\\object_detection\\legacy\n",
      "creating build\\bdist.win-amd64\\egg\\object_detection\\matchers\n",
      "copying build\\lib\\object_detection\\matchers\\argmax_matcher.py -> build\\bdist.win-amd64\\egg\\object_detection\\matchers\n",
      "copying build\\lib\\object_detection\\matchers\\argmax_matcher_test.py -> build\\bdist.win-amd64\\egg\\object_detection\\matchers\n",
      "copying build\\lib\\object_detection\\matchers\\bipartite_matcher.py -> build\\bdist.win-amd64\\egg\\object_detection\\matchers\n",
      "copying build\\lib\\object_detection\\matchers\\bipartite_matcher_tf1_test.py -> build\\bdist.win-amd64\\egg\\object_detection\\matchers\n",
      "copying build\\lib\\object_detection\\matchers\\hungarian_matcher.py -> build\\bdist.win-amd64\\egg\\object_detection\\matchers\n",
      "copying build\\lib\\object_detection\\matchers\\hungarian_matcher_tf2_test.py -> build\\bdist.win-amd64\\egg\\object_detection\\matchers\n",
      "copying build\\lib\\object_detection\\matchers\\__init__.py -> build\\bdist.win-amd64\\egg\\object_detection\\matchers\n",
      "creating build\\bdist.win-amd64\\egg\\object_detection\\meta_architectures\n",
      "copying build\\lib\\object_detection\\meta_architectures\\center_net_meta_arch.py -> build\\bdist.win-amd64\\egg\\object_detection\\meta_architectures\n",
      "copying build\\lib\\object_detection\\meta_architectures\\center_net_meta_arch_tf2_test.py -> build\\bdist.win-amd64\\egg\\object_detection\\meta_architectures\n",
      "copying build\\lib\\object_detection\\meta_architectures\\context_rcnn_lib.py -> build\\bdist.win-amd64\\egg\\object_detection\\meta_architectures\n",
      "copying build\\lib\\object_detection\\meta_architectures\\context_rcnn_lib_tf1_test.py -> build\\bdist.win-amd64\\egg\\object_detection\\meta_architectures\n",
      "copying build\\lib\\object_detection\\meta_architectures\\context_rcnn_lib_tf2.py -> build\\bdist.win-amd64\\egg\\object_detection\\meta_architectures\n",
      "copying build\\lib\\object_detection\\meta_architectures\\context_rcnn_lib_tf2_test.py -> build\\bdist.win-amd64\\egg\\object_detection\\meta_architectures\n",
      "copying build\\lib\\object_detection\\meta_architectures\\context_rcnn_meta_arch.py -> build\\bdist.win-amd64\\egg\\object_detection\\meta_architectures\n",
      "copying build\\lib\\object_detection\\meta_architectures\\context_rcnn_meta_arch_test.py -> build\\bdist.win-amd64\\egg\\object_detection\\meta_architectures\n",
      "copying build\\lib\\object_detection\\meta_architectures\\deepmac_meta_arch.py -> build\\bdist.win-amd64\\egg\\object_detection\\meta_architectures\n",
      "copying build\\lib\\object_detection\\meta_architectures\\deepmac_meta_arch_test.py -> build\\bdist.win-amd64\\egg\\object_detection\\meta_architectures\n",
      "copying build\\lib\\object_detection\\meta_architectures\\faster_rcnn_meta_arch.py -> build\\bdist.win-amd64\\egg\\object_detection\\meta_architectures\n",
      "copying build\\lib\\object_detection\\meta_architectures\\faster_rcnn_meta_arch_test.py -> build\\bdist.win-amd64\\egg\\object_detection\\meta_architectures\n",
      "copying build\\lib\\object_detection\\meta_architectures\\faster_rcnn_meta_arch_test_lib.py -> build\\bdist.win-amd64\\egg\\object_detection\\meta_architectures\n",
      "copying build\\lib\\object_detection\\meta_architectures\\rfcn_meta_arch.py -> build\\bdist.win-amd64\\egg\\object_detection\\meta_architectures\n",
      "copying build\\lib\\object_detection\\meta_architectures\\rfcn_meta_arch_test.py -> build\\bdist.win-amd64\\egg\\object_detection\\meta_architectures\n",
      "copying build\\lib\\object_detection\\meta_architectures\\ssd_meta_arch.py -> build\\bdist.win-amd64\\egg\\object_detection\\meta_architectures\n",
      "copying build\\lib\\object_detection\\meta_architectures\\ssd_meta_arch_test.py -> build\\bdist.win-amd64\\egg\\object_detection\\meta_architectures\n",
      "copying build\\lib\\object_detection\\meta_architectures\\ssd_meta_arch_test_lib.py -> build\\bdist.win-amd64\\egg\\object_detection\\meta_architectures\n",
      "copying build\\lib\\object_detection\\meta_architectures\\__init__.py -> build\\bdist.win-amd64\\egg\\object_detection\\meta_architectures\n",
      "creating build\\bdist.win-amd64\\egg\\object_detection\\metrics\n",
      "copying build\\lib\\object_detection\\metrics\\calibration_evaluation.py -> build\\bdist.win-amd64\\egg\\object_detection\\metrics\n",
      "copying build\\lib\\object_detection\\metrics\\calibration_evaluation_tf1_test.py -> build\\bdist.win-amd64\\egg\\object_detection\\metrics\n",
      "copying build\\lib\\object_detection\\metrics\\calibration_metrics.py -> build\\bdist.win-amd64\\egg\\object_detection\\metrics\n",
      "copying build\\lib\\object_detection\\metrics\\calibration_metrics_tf1_test.py -> build\\bdist.win-amd64\\egg\\object_detection\\metrics\n",
      "copying build\\lib\\object_detection\\metrics\\coco_evaluation.py -> build\\bdist.win-amd64\\egg\\object_detection\\metrics\n",
      "copying build\\lib\\object_detection\\metrics\\coco_evaluation_test.py -> build\\bdist.win-amd64\\egg\\object_detection\\metrics\n",
      "copying build\\lib\\object_detection\\metrics\\coco_tools.py -> build\\bdist.win-amd64\\egg\\object_detection\\metrics\n",
      "copying build\\lib\\object_detection\\metrics\\coco_tools_test.py -> build\\bdist.win-amd64\\egg\\object_detection\\metrics\n",
      "copying build\\lib\\object_detection\\metrics\\io_utils.py -> build\\bdist.win-amd64\\egg\\object_detection\\metrics\n",
      "copying build\\lib\\object_detection\\metrics\\lvis_evaluation.py -> build\\bdist.win-amd64\\egg\\object_detection\\metrics\n",
      "copying build\\lib\\object_detection\\metrics\\lvis_evaluation_test.py -> build\\bdist.win-amd64\\egg\\object_detection\\metrics\n",
      "copying build\\lib\\object_detection\\metrics\\lvis_tools.py -> build\\bdist.win-amd64\\egg\\object_detection\\metrics\n",
      "copying build\\lib\\object_detection\\metrics\\lvis_tools_test.py -> build\\bdist.win-amd64\\egg\\object_detection\\metrics\n",
      "copying build\\lib\\object_detection\\metrics\\offline_eval_map_corloc.py -> build\\bdist.win-amd64\\egg\\object_detection\\metrics\n",
      "copying build\\lib\\object_detection\\metrics\\offline_eval_map_corloc_test.py -> build\\bdist.win-amd64\\egg\\object_detection\\metrics\n",
      "copying build\\lib\\object_detection\\metrics\\oid_challenge_evaluation.py -> build\\bdist.win-amd64\\egg\\object_detection\\metrics\n",
      "copying build\\lib\\object_detection\\metrics\\oid_challenge_evaluation_utils.py -> build\\bdist.win-amd64\\egg\\object_detection\\metrics\n",
      "copying build\\lib\\object_detection\\metrics\\oid_challenge_evaluation_utils_test.py -> build\\bdist.win-amd64\\egg\\object_detection\\metrics\n",
      "copying build\\lib\\object_detection\\metrics\\oid_vrd_challenge_evaluation.py -> build\\bdist.win-amd64\\egg\\object_detection\\metrics\n",
      "copying build\\lib\\object_detection\\metrics\\oid_vrd_challenge_evaluation_utils.py -> build\\bdist.win-amd64\\egg\\object_detection\\metrics\n",
      "copying build\\lib\\object_detection\\metrics\\oid_vrd_challenge_evaluation_utils_test.py -> build\\bdist.win-amd64\\egg\\object_detection\\metrics\n",
      "copying build\\lib\\object_detection\\metrics\\tf_example_parser.py -> build\\bdist.win-amd64\\egg\\object_detection\\metrics\n",
      "copying build\\lib\\object_detection\\metrics\\tf_example_parser_test.py -> build\\bdist.win-amd64\\egg\\object_detection\\metrics\n",
      "copying build\\lib\\object_detection\\metrics\\__init__.py -> build\\bdist.win-amd64\\egg\\object_detection\\metrics\n",
      "creating build\\bdist.win-amd64\\egg\\object_detection\\models\n",
      "copying build\\lib\\object_detection\\models\\bidirectional_feature_pyramid_generators.py -> build\\bdist.win-amd64\\egg\\object_detection\\models\n",
      "copying build\\lib\\object_detection\\models\\bidirectional_feature_pyramid_generators_tf2_test.py -> build\\bdist.win-amd64\\egg\\object_detection\\models\n",
      "copying build\\lib\\object_detection\\models\\center_net_hourglass_feature_extractor.py -> build\\bdist.win-amd64\\egg\\object_detection\\models\n",
      "copying build\\lib\\object_detection\\models\\center_net_hourglass_feature_extractor_tf2_test.py -> build\\bdist.win-amd64\\egg\\object_detection\\models\n",
      "copying build\\lib\\object_detection\\models\\center_net_mobilenet_v2_feature_extractor.py -> build\\bdist.win-amd64\\egg\\object_detection\\models\n",
      "copying build\\lib\\object_detection\\models\\center_net_mobilenet_v2_feature_extractor_tf2_test.py -> build\\bdist.win-amd64\\egg\\object_detection\\models\n",
      "copying build\\lib\\object_detection\\models\\center_net_mobilenet_v2_fpn_feature_extractor.py -> build\\bdist.win-amd64\\egg\\object_detection\\models\n",
      "copying build\\lib\\object_detection\\models\\center_net_mobilenet_v2_fpn_feature_extractor_tf2_test.py -> build\\bdist.win-amd64\\egg\\object_detection\\models\n",
      "copying build\\lib\\object_detection\\models\\center_net_resnet_feature_extractor.py -> build\\bdist.win-amd64\\egg\\object_detection\\models\n",
      "copying build\\lib\\object_detection\\models\\center_net_resnet_feature_extractor_tf2_test.py -> build\\bdist.win-amd64\\egg\\object_detection\\models\n",
      "copying build\\lib\\object_detection\\models\\center_net_resnet_v1_fpn_feature_extractor.py -> build\\bdist.win-amd64\\egg\\object_detection\\models\n",
      "copying build\\lib\\object_detection\\models\\center_net_resnet_v1_fpn_feature_extractor_tf2_test.py -> build\\bdist.win-amd64\\egg\\object_detection\\models\n",
      "copying build\\lib\\object_detection\\models\\embedded_ssd_mobilenet_v1_feature_extractor.py -> build\\bdist.win-amd64\\egg\\object_detection\\models\n",
      "copying build\\lib\\object_detection\\models\\embedded_ssd_mobilenet_v1_feature_extractor_tf1_test.py -> build\\bdist.win-amd64\\egg\\object_detection\\models\n",
      "copying build\\lib\\object_detection\\models\\faster_rcnn_inception_resnet_v2_feature_extractor.py -> build\\bdist.win-amd64\\egg\\object_detection\\models\n",
      "copying build\\lib\\object_detection\\models\\faster_rcnn_inception_resnet_v2_feature_extractor_tf1_test.py -> build\\bdist.win-amd64\\egg\\object_detection\\models\n",
      "copying build\\lib\\object_detection\\models\\faster_rcnn_inception_resnet_v2_keras_feature_extractor.py -> build\\bdist.win-amd64\\egg\\object_detection\\models\n",
      "copying build\\lib\\object_detection\\models\\faster_rcnn_inception_resnet_v2_keras_feature_extractor_tf2_test.py -> build\\bdist.win-amd64\\egg\\object_detection\\models\n",
      "copying build\\lib\\object_detection\\models\\faster_rcnn_inception_v2_feature_extractor.py -> build\\bdist.win-amd64\\egg\\object_detection\\models\n",
      "copying build\\lib\\object_detection\\models\\faster_rcnn_inception_v2_feature_extractor_tf1_test.py -> build\\bdist.win-amd64\\egg\\object_detection\\models\n",
      "copying build\\lib\\object_detection\\models\\faster_rcnn_mobilenet_v1_feature_extractor.py -> build\\bdist.win-amd64\\egg\\object_detection\\models\n",
      "copying build\\lib\\object_detection\\models\\faster_rcnn_mobilenet_v1_feature_extractor_tf1_test.py -> build\\bdist.win-amd64\\egg\\object_detection\\models\n",
      "copying build\\lib\\object_detection\\models\\faster_rcnn_nas_feature_extractor.py -> build\\bdist.win-amd64\\egg\\object_detection\\models\n",
      "copying build\\lib\\object_detection\\models\\faster_rcnn_nas_feature_extractor_tf1_test.py -> build\\bdist.win-amd64\\egg\\object_detection\\models\n",
      "copying build\\lib\\object_detection\\models\\faster_rcnn_pnas_feature_extractor.py -> build\\bdist.win-amd64\\egg\\object_detection\\models\n",
      "copying build\\lib\\object_detection\\models\\faster_rcnn_pnas_feature_extractor_tf1_test.py -> build\\bdist.win-amd64\\egg\\object_detection\\models\n",
      "copying build\\lib\\object_detection\\models\\faster_rcnn_resnet_keras_feature_extractor.py -> build\\bdist.win-amd64\\egg\\object_detection\\models\n",
      "copying build\\lib\\object_detection\\models\\faster_rcnn_resnet_keras_feature_extractor_tf2_test.py -> build\\bdist.win-amd64\\egg\\object_detection\\models\n",
      "copying build\\lib\\object_detection\\models\\faster_rcnn_resnet_v1_feature_extractor.py -> build\\bdist.win-amd64\\egg\\object_detection\\models\n",
      "copying build\\lib\\object_detection\\models\\faster_rcnn_resnet_v1_feature_extractor_tf1_test.py -> build\\bdist.win-amd64\\egg\\object_detection\\models\n",
      "copying build\\lib\\object_detection\\models\\faster_rcnn_resnet_v1_fpn_keras_feature_extractor.py -> build\\bdist.win-amd64\\egg\\object_detection\\models\n",
      "copying build\\lib\\object_detection\\models\\faster_rcnn_resnet_v1_fpn_keras_feature_extractor_tf2_test.py -> build\\bdist.win-amd64\\egg\\object_detection\\models\n",
      "copying build\\lib\\object_detection\\models\\feature_map_generators.py -> build\\bdist.win-amd64\\egg\\object_detection\\models\n",
      "copying build\\lib\\object_detection\\models\\feature_map_generators_test.py -> build\\bdist.win-amd64\\egg\\object_detection\\models\n",
      "creating build\\bdist.win-amd64\\egg\\object_detection\\models\\keras_models\n",
      "copying build\\lib\\object_detection\\models\\keras_models\\convert_keras_models.py -> build\\bdist.win-amd64\\egg\\object_detection\\models\\keras_models\n",
      "copying build\\lib\\object_detection\\models\\keras_models\\hourglass_network.py -> build\\bdist.win-amd64\\egg\\object_detection\\models\\keras_models\n",
      "copying build\\lib\\object_detection\\models\\keras_models\\hourglass_network_tf2_test.py -> build\\bdist.win-amd64\\egg\\object_detection\\models\\keras_models\n",
      "copying build\\lib\\object_detection\\models\\keras_models\\inception_resnet_v2.py -> build\\bdist.win-amd64\\egg\\object_detection\\models\\keras_models\n",
      "copying build\\lib\\object_detection\\models\\keras_models\\inception_resnet_v2_tf2_test.py -> build\\bdist.win-amd64\\egg\\object_detection\\models\\keras_models\n",
      "copying build\\lib\\object_detection\\models\\keras_models\\mobilenet_v1.py -> build\\bdist.win-amd64\\egg\\object_detection\\models\\keras_models\n",
      "copying build\\lib\\object_detection\\models\\keras_models\\mobilenet_v1_tf2_test.py -> build\\bdist.win-amd64\\egg\\object_detection\\models\\keras_models\n",
      "copying build\\lib\\object_detection\\models\\keras_models\\mobilenet_v2.py -> build\\bdist.win-amd64\\egg\\object_detection\\models\\keras_models\n",
      "copying build\\lib\\object_detection\\models\\keras_models\\mobilenet_v2_tf2_test.py -> build\\bdist.win-amd64\\egg\\object_detection\\models\\keras_models\n",
      "copying build\\lib\\object_detection\\models\\keras_models\\model_utils.py -> build\\bdist.win-amd64\\egg\\object_detection\\models\\keras_models\n",
      "copying build\\lib\\object_detection\\models\\keras_models\\nonlocal_block.py -> build\\bdist.win-amd64\\egg\\object_detection\\models\\keras_models\n",
      "copying build\\lib\\object_detection\\models\\keras_models\\nonlocal_block_tf2_test.py -> build\\bdist.win-amd64\\egg\\object_detection\\models\\keras_models\n",
      "copying build\\lib\\object_detection\\models\\keras_models\\resnet_v1.py -> build\\bdist.win-amd64\\egg\\object_detection\\models\\keras_models\n",
      "copying build\\lib\\object_detection\\models\\keras_models\\resnet_v1_tf2_test.py -> build\\bdist.win-amd64\\egg\\object_detection\\models\\keras_models\n",
      "copying build\\lib\\object_detection\\models\\keras_models\\test_utils.py -> build\\bdist.win-amd64\\egg\\object_detection\\models\\keras_models\n",
      "copying build\\lib\\object_detection\\models\\keras_models\\__init__.py -> build\\bdist.win-amd64\\egg\\object_detection\\models\\keras_models\n",
      "copying build\\lib\\object_detection\\models\\ssd_efficientnet_bifpn_feature_extractor.py -> build\\bdist.win-amd64\\egg\\object_detection\\models\n",
      "copying build\\lib\\object_detection\\models\\ssd_efficientnet_bifpn_feature_extractor_tf2_test.py -> build\\bdist.win-amd64\\egg\\object_detection\\models\n",
      "copying build\\lib\\object_detection\\models\\ssd_feature_extractor_test.py -> build\\bdist.win-amd64\\egg\\object_detection\\models\n",
      "copying build\\lib\\object_detection\\models\\ssd_inception_v2_feature_extractor.py -> build\\bdist.win-amd64\\egg\\object_detection\\models\n",
      "copying build\\lib\\object_detection\\models\\ssd_inception_v2_feature_extractor_tf1_test.py -> build\\bdist.win-amd64\\egg\\object_detection\\models\n",
      "copying build\\lib\\object_detection\\models\\ssd_inception_v3_feature_extractor.py -> build\\bdist.win-amd64\\egg\\object_detection\\models\n",
      "copying build\\lib\\object_detection\\models\\ssd_inception_v3_feature_extractor_tf1_test.py -> build\\bdist.win-amd64\\egg\\object_detection\\models\n",
      "copying build\\lib\\object_detection\\models\\ssd_mobiledet_feature_extractor.py -> build\\bdist.win-amd64\\egg\\object_detection\\models\n",
      "copying build\\lib\\object_detection\\models\\ssd_mobiledet_feature_extractor_tf1_test.py -> build\\bdist.win-amd64\\egg\\object_detection\\models\n",
      "copying build\\lib\\object_detection\\models\\ssd_mobilenet_edgetpu_feature_extractor.py -> build\\bdist.win-amd64\\egg\\object_detection\\models\n",
      "copying build\\lib\\object_detection\\models\\ssd_mobilenet_edgetpu_feature_extractor_testbase.py -> build\\bdist.win-amd64\\egg\\object_detection\\models\n",
      "copying build\\lib\\object_detection\\models\\ssd_mobilenet_edgetpu_feature_extractor_tf1_test.py -> build\\bdist.win-amd64\\egg\\object_detection\\models\n",
      "copying build\\lib\\object_detection\\models\\ssd_mobilenet_v1_feature_extractor.py -> build\\bdist.win-amd64\\egg\\object_detection\\models\n",
      "copying build\\lib\\object_detection\\models\\ssd_mobilenet_v1_feature_extractor_tf1_test.py -> build\\bdist.win-amd64\\egg\\object_detection\\models\n",
      "copying build\\lib\\object_detection\\models\\ssd_mobilenet_v1_feature_extractor_tf2_test.py -> build\\bdist.win-amd64\\egg\\object_detection\\models\n",
      "copying build\\lib\\object_detection\\models\\ssd_mobilenet_v1_fpn_feature_extractor.py -> build\\bdist.win-amd64\\egg\\object_detection\\models\n",
      "copying build\\lib\\object_detection\\models\\ssd_mobilenet_v1_fpn_feature_extractor_tf1_test.py -> build\\bdist.win-amd64\\egg\\object_detection\\models\n",
      "copying build\\lib\\object_detection\\models\\ssd_mobilenet_v1_fpn_feature_extractor_tf2_test.py -> build\\bdist.win-amd64\\egg\\object_detection\\models\n",
      "copying build\\lib\\object_detection\\models\\ssd_mobilenet_v1_fpn_keras_feature_extractor.py -> build\\bdist.win-amd64\\egg\\object_detection\\models\n",
      "copying build\\lib\\object_detection\\models\\ssd_mobilenet_v1_keras_feature_extractor.py -> build\\bdist.win-amd64\\egg\\object_detection\\models\n",
      "copying build\\lib\\object_detection\\models\\ssd_mobilenet_v1_ppn_feature_extractor.py -> build\\bdist.win-amd64\\egg\\object_detection\\models\n",
      "copying build\\lib\\object_detection\\models\\ssd_mobilenet_v1_ppn_feature_extractor_tf1_test.py -> build\\bdist.win-amd64\\egg\\object_detection\\models\n",
      "copying build\\lib\\object_detection\\models\\ssd_mobilenet_v2_feature_extractor.py -> build\\bdist.win-amd64\\egg\\object_detection\\models\n",
      "copying build\\lib\\object_detection\\models\\ssd_mobilenet_v2_feature_extractor_tf1_test.py -> build\\bdist.win-amd64\\egg\\object_detection\\models\n",
      "copying build\\lib\\object_detection\\models\\ssd_mobilenet_v2_feature_extractor_tf2_test.py -> build\\bdist.win-amd64\\egg\\object_detection\\models\n",
      "copying build\\lib\\object_detection\\models\\ssd_mobilenet_v2_fpn_feature_extractor.py -> build\\bdist.win-amd64\\egg\\object_detection\\models\n",
      "copying build\\lib\\object_detection\\models\\ssd_mobilenet_v2_fpn_feature_extractor_tf1_test.py -> build\\bdist.win-amd64\\egg\\object_detection\\models\n",
      "copying build\\lib\\object_detection\\models\\ssd_mobilenet_v2_fpn_feature_extractor_tf2_test.py -> build\\bdist.win-amd64\\egg\\object_detection\\models\n",
      "copying build\\lib\\object_detection\\models\\ssd_mobilenet_v2_fpn_keras_feature_extractor.py -> build\\bdist.win-amd64\\egg\\object_detection\\models\n",
      "copying build\\lib\\object_detection\\models\\ssd_mobilenet_v2_keras_feature_extractor.py -> build\\bdist.win-amd64\\egg\\object_detection\\models\n",
      "copying build\\lib\\object_detection\\models\\ssd_mobilenet_v2_mnasfpn_feature_extractor.py -> build\\bdist.win-amd64\\egg\\object_detection\\models\n",
      "copying build\\lib\\object_detection\\models\\ssd_mobilenet_v2_mnasfpn_feature_extractor_tf1_test.py -> build\\bdist.win-amd64\\egg\\object_detection\\models\n",
      "copying build\\lib\\object_detection\\models\\ssd_mobilenet_v3_feature_extractor.py -> build\\bdist.win-amd64\\egg\\object_detection\\models\n",
      "copying build\\lib\\object_detection\\models\\ssd_mobilenet_v3_feature_extractor_testbase.py -> build\\bdist.win-amd64\\egg\\object_detection\\models\n",
      "copying build\\lib\\object_detection\\models\\ssd_mobilenet_v3_feature_extractor_tf1_test.py -> build\\bdist.win-amd64\\egg\\object_detection\\models\n",
      "copying build\\lib\\object_detection\\models\\ssd_pnasnet_feature_extractor.py -> build\\bdist.win-amd64\\egg\\object_detection\\models\n",
      "copying build\\lib\\object_detection\\models\\ssd_pnasnet_feature_extractor_tf1_test.py -> build\\bdist.win-amd64\\egg\\object_detection\\models\n",
      "copying build\\lib\\object_detection\\models\\ssd_resnet_v1_fpn_feature_extractor.py -> build\\bdist.win-amd64\\egg\\object_detection\\models\n",
      "copying build\\lib\\object_detection\\models\\ssd_resnet_v1_fpn_feature_extractor_testbase.py -> build\\bdist.win-amd64\\egg\\object_detection\\models\n",
      "copying build\\lib\\object_detection\\models\\ssd_resnet_v1_fpn_feature_extractor_tf1_test.py -> build\\bdist.win-amd64\\egg\\object_detection\\models\n",
      "copying build\\lib\\object_detection\\models\\ssd_resnet_v1_fpn_feature_extractor_tf2_test.py -> build\\bdist.win-amd64\\egg\\object_detection\\models\n",
      "copying build\\lib\\object_detection\\models\\ssd_resnet_v1_fpn_keras_feature_extractor.py -> build\\bdist.win-amd64\\egg\\object_detection\\models\n",
      "copying build\\lib\\object_detection\\models\\ssd_resnet_v1_ppn_feature_extractor.py -> build\\bdist.win-amd64\\egg\\object_detection\\models\n",
      "copying build\\lib\\object_detection\\models\\ssd_resnet_v1_ppn_feature_extractor_testbase.py -> build\\bdist.win-amd64\\egg\\object_detection\\models\n",
      "copying build\\lib\\object_detection\\models\\ssd_resnet_v1_ppn_feature_extractor_tf1_test.py -> build\\bdist.win-amd64\\egg\\object_detection\\models\n",
      "copying build\\lib\\object_detection\\models\\ssd_spaghettinet_feature_extractor.py -> build\\bdist.win-amd64\\egg\\object_detection\\models\n",
      "copying build\\lib\\object_detection\\models\\ssd_spaghettinet_feature_extractor_tf1_test.py -> build\\bdist.win-amd64\\egg\\object_detection\\models\n",
      "copying build\\lib\\object_detection\\models\\__init__.py -> build\\bdist.win-amd64\\egg\\object_detection\\models\n",
      "copying build\\lib\\object_detection\\model_hparams.py -> build\\bdist.win-amd64\\egg\\object_detection\n",
      "copying build\\lib\\object_detection\\model_lib.py -> build\\bdist.win-amd64\\egg\\object_detection\n",
      "copying build\\lib\\object_detection\\model_lib_tf1_test.py -> build\\bdist.win-amd64\\egg\\object_detection\n",
      "copying build\\lib\\object_detection\\model_lib_tf2_test.py -> build\\bdist.win-amd64\\egg\\object_detection\n",
      "copying build\\lib\\object_detection\\model_lib_v2.py -> build\\bdist.win-amd64\\egg\\object_detection\n",
      "copying build\\lib\\object_detection\\model_main.py -> build\\bdist.win-amd64\\egg\\object_detection\n",
      "copying build\\lib\\object_detection\\model_main_tf2.py -> build\\bdist.win-amd64\\egg\\object_detection\n",
      "copying build\\lib\\object_detection\\model_tpu_main.py -> build\\bdist.win-amd64\\egg\\object_detection\n",
      "creating build\\bdist.win-amd64\\egg\\object_detection\\predictors\n",
      "copying build\\lib\\object_detection\\predictors\\convolutional_box_predictor.py -> build\\bdist.win-amd64\\egg\\object_detection\\predictors\n",
      "copying build\\lib\\object_detection\\predictors\\convolutional_box_predictor_tf1_test.py -> build\\bdist.win-amd64\\egg\\object_detection\\predictors\n",
      "copying build\\lib\\object_detection\\predictors\\convolutional_keras_box_predictor.py -> build\\bdist.win-amd64\\egg\\object_detection\\predictors\n",
      "copying build\\lib\\object_detection\\predictors\\convolutional_keras_box_predictor_tf2_test.py -> build\\bdist.win-amd64\\egg\\object_detection\\predictors\n",
      "creating build\\bdist.win-amd64\\egg\\object_detection\\predictors\\heads\n",
      "copying build\\lib\\object_detection\\predictors\\heads\\box_head.py -> build\\bdist.win-amd64\\egg\\object_detection\\predictors\\heads\n",
      "copying build\\lib\\object_detection\\predictors\\heads\\box_head_tf1_test.py -> build\\bdist.win-amd64\\egg\\object_detection\\predictors\\heads\n",
      "copying build\\lib\\object_detection\\predictors\\heads\\class_head.py -> build\\bdist.win-amd64\\egg\\object_detection\\predictors\\heads\n",
      "copying build\\lib\\object_detection\\predictors\\heads\\class_head_tf1_test.py -> build\\bdist.win-amd64\\egg\\object_detection\\predictors\\heads\n",
      "copying build\\lib\\object_detection\\predictors\\heads\\head.py -> build\\bdist.win-amd64\\egg\\object_detection\\predictors\\heads\n",
      "copying build\\lib\\object_detection\\predictors\\heads\\keras_box_head.py -> build\\bdist.win-amd64\\egg\\object_detection\\predictors\\heads\n",
      "copying build\\lib\\object_detection\\predictors\\heads\\keras_box_head_tf2_test.py -> build\\bdist.win-amd64\\egg\\object_detection\\predictors\\heads\n",
      "copying build\\lib\\object_detection\\predictors\\heads\\keras_class_head.py -> build\\bdist.win-amd64\\egg\\object_detection\\predictors\\heads\n",
      "copying build\\lib\\object_detection\\predictors\\heads\\keras_class_head_tf2_test.py -> build\\bdist.win-amd64\\egg\\object_detection\\predictors\\heads\n",
      "copying build\\lib\\object_detection\\predictors\\heads\\keras_mask_head.py -> build\\bdist.win-amd64\\egg\\object_detection\\predictors\\heads\n",
      "copying build\\lib\\object_detection\\predictors\\heads\\keras_mask_head_tf2_test.py -> build\\bdist.win-amd64\\egg\\object_detection\\predictors\\heads\n",
      "copying build\\lib\\object_detection\\predictors\\heads\\keypoint_head.py -> build\\bdist.win-amd64\\egg\\object_detection\\predictors\\heads\n",
      "copying build\\lib\\object_detection\\predictors\\heads\\keypoint_head_tf1_test.py -> build\\bdist.win-amd64\\egg\\object_detection\\predictors\\heads\n",
      "copying build\\lib\\object_detection\\predictors\\heads\\mask_head.py -> build\\bdist.win-amd64\\egg\\object_detection\\predictors\\heads\n",
      "copying build\\lib\\object_detection\\predictors\\heads\\mask_head_tf1_test.py -> build\\bdist.win-amd64\\egg\\object_detection\\predictors\\heads\n",
      "copying build\\lib\\object_detection\\predictors\\heads\\__init__.py -> build\\bdist.win-amd64\\egg\\object_detection\\predictors\\heads\n",
      "copying build\\lib\\object_detection\\predictors\\mask_rcnn_box_predictor.py -> build\\bdist.win-amd64\\egg\\object_detection\\predictors\n",
      "copying build\\lib\\object_detection\\predictors\\mask_rcnn_box_predictor_tf1_test.py -> build\\bdist.win-amd64\\egg\\object_detection\\predictors\n",
      "copying build\\lib\\object_detection\\predictors\\mask_rcnn_keras_box_predictor.py -> build\\bdist.win-amd64\\egg\\object_detection\\predictors\n",
      "copying build\\lib\\object_detection\\predictors\\mask_rcnn_keras_box_predictor_tf2_test.py -> build\\bdist.win-amd64\\egg\\object_detection\\predictors\n",
      "copying build\\lib\\object_detection\\predictors\\rfcn_box_predictor.py -> build\\bdist.win-amd64\\egg\\object_detection\\predictors\n",
      "copying build\\lib\\object_detection\\predictors\\rfcn_box_predictor_tf1_test.py -> build\\bdist.win-amd64\\egg\\object_detection\\predictors\n",
      "copying build\\lib\\object_detection\\predictors\\rfcn_keras_box_predictor.py -> build\\bdist.win-amd64\\egg\\object_detection\\predictors\n",
      "copying build\\lib\\object_detection\\predictors\\rfcn_keras_box_predictor_tf2_test.py -> build\\bdist.win-amd64\\egg\\object_detection\\predictors\n",
      "copying build\\lib\\object_detection\\predictors\\__init__.py -> build\\bdist.win-amd64\\egg\\object_detection\\predictors\n",
      "creating build\\bdist.win-amd64\\egg\\object_detection\\protos\n",
      "copying build\\lib\\object_detection\\protos\\anchor_generator_pb2.py -> build\\bdist.win-amd64\\egg\\object_detection\\protos\n",
      "copying build\\lib\\object_detection\\protos\\argmax_matcher_pb2.py -> build\\bdist.win-amd64\\egg\\object_detection\\protos\n",
      "copying build\\lib\\object_detection\\protos\\bipartite_matcher_pb2.py -> build\\bdist.win-amd64\\egg\\object_detection\\protos\n",
      "copying build\\lib\\object_detection\\protos\\box_coder_pb2.py -> build\\bdist.win-amd64\\egg\\object_detection\\protos\n",
      "copying build\\lib\\object_detection\\protos\\box_predictor_pb2.py -> build\\bdist.win-amd64\\egg\\object_detection\\protos\n",
      "copying build\\lib\\object_detection\\protos\\calibration_pb2.py -> build\\bdist.win-amd64\\egg\\object_detection\\protos\n",
      "copying build\\lib\\object_detection\\protos\\center_net_pb2.py -> build\\bdist.win-amd64\\egg\\object_detection\\protos\n",
      "copying build\\lib\\object_detection\\protos\\eval_pb2.py -> build\\bdist.win-amd64\\egg\\object_detection\\protos\n",
      "copying build\\lib\\object_detection\\protos\\faster_rcnn_box_coder_pb2.py -> build\\bdist.win-amd64\\egg\\object_detection\\protos\n",
      "copying build\\lib\\object_detection\\protos\\faster_rcnn_pb2.py -> build\\bdist.win-amd64\\egg\\object_detection\\protos\n",
      "copying build\\lib\\object_detection\\protos\\flexible_grid_anchor_generator_pb2.py -> build\\bdist.win-amd64\\egg\\object_detection\\protos\n",
      "copying build\\lib\\object_detection\\protos\\fpn_pb2.py -> build\\bdist.win-amd64\\egg\\object_detection\\protos\n",
      "copying build\\lib\\object_detection\\protos\\graph_rewriter_pb2.py -> build\\bdist.win-amd64\\egg\\object_detection\\protos\n",
      "copying build\\lib\\object_detection\\protos\\grid_anchor_generator_pb2.py -> build\\bdist.win-amd64\\egg\\object_detection\\protos\n",
      "copying build\\lib\\object_detection\\protos\\hyperparams_pb2.py -> build\\bdist.win-amd64\\egg\\object_detection\\protos\n",
      "copying build\\lib\\object_detection\\protos\\image_resizer_pb2.py -> build\\bdist.win-amd64\\egg\\object_detection\\protos\n",
      "copying build\\lib\\object_detection\\protos\\input_reader_pb2.py -> build\\bdist.win-amd64\\egg\\object_detection\\protos\n",
      "copying build\\lib\\object_detection\\protos\\keypoint_box_coder_pb2.py -> build\\bdist.win-amd64\\egg\\object_detection\\protos\n",
      "copying build\\lib\\object_detection\\protos\\losses_pb2.py -> build\\bdist.win-amd64\\egg\\object_detection\\protos\n",
      "copying build\\lib\\object_detection\\protos\\matcher_pb2.py -> build\\bdist.win-amd64\\egg\\object_detection\\protos\n",
      "copying build\\lib\\object_detection\\protos\\mean_stddev_box_coder_pb2.py -> build\\bdist.win-amd64\\egg\\object_detection\\protos\n",
      "copying build\\lib\\object_detection\\protos\\model_pb2.py -> build\\bdist.win-amd64\\egg\\object_detection\\protos\n",
      "copying build\\lib\\object_detection\\protos\\multiscale_anchor_generator_pb2.py -> build\\bdist.win-amd64\\egg\\object_detection\\protos\n",
      "copying build\\lib\\object_detection\\protos\\optimizer_pb2.py -> build\\bdist.win-amd64\\egg\\object_detection\\protos\n",
      "copying build\\lib\\object_detection\\protos\\pipeline_pb2.py -> build\\bdist.win-amd64\\egg\\object_detection\\protos\n",
      "copying build\\lib\\object_detection\\protos\\post_processing_pb2.py -> build\\bdist.win-amd64\\egg\\object_detection\\protos\n",
      "copying build\\lib\\object_detection\\protos\\preprocessor_pb2.py -> build\\bdist.win-amd64\\egg\\object_detection\\protos\n",
      "copying build\\lib\\object_detection\\protos\\region_similarity_calculator_pb2.py -> build\\bdist.win-amd64\\egg\\object_detection\\protos\n",
      "copying build\\lib\\object_detection\\protos\\square_box_coder_pb2.py -> build\\bdist.win-amd64\\egg\\object_detection\\protos\n",
      "copying build\\lib\\object_detection\\protos\\ssd_anchor_generator_pb2.py -> build\\bdist.win-amd64\\egg\\object_detection\\protos\n",
      "copying build\\lib\\object_detection\\protos\\ssd_pb2.py -> build\\bdist.win-amd64\\egg\\object_detection\\protos\n",
      "copying build\\lib\\object_detection\\protos\\string_int_label_map_pb2.py -> build\\bdist.win-amd64\\egg\\object_detection\\protos\n",
      "copying build\\lib\\object_detection\\protos\\target_assigner_pb2.py -> build\\bdist.win-amd64\\egg\\object_detection\\protos\n",
      "copying build\\lib\\object_detection\\protos\\train_pb2.py -> build\\bdist.win-amd64\\egg\\object_detection\\protos\n",
      "copying build\\lib\\object_detection\\protos\\__init__.py -> build\\bdist.win-amd64\\egg\\object_detection\\protos\n",
      "creating build\\bdist.win-amd64\\egg\\object_detection\\tpu_exporters\n",
      "copying build\\lib\\object_detection\\tpu_exporters\\export_saved_model_tpu.py -> build\\bdist.win-amd64\\egg\\object_detection\\tpu_exporters\n",
      "copying build\\lib\\object_detection\\tpu_exporters\\export_saved_model_tpu_lib.py -> build\\bdist.win-amd64\\egg\\object_detection\\tpu_exporters\n",
      "copying build\\lib\\object_detection\\tpu_exporters\\export_saved_model_tpu_lib_tf1_test.py -> build\\bdist.win-amd64\\egg\\object_detection\\tpu_exporters\n",
      "copying build\\lib\\object_detection\\tpu_exporters\\faster_rcnn.py -> build\\bdist.win-amd64\\egg\\object_detection\\tpu_exporters\n",
      "copying build\\lib\\object_detection\\tpu_exporters\\ssd.py -> build\\bdist.win-amd64\\egg\\object_detection\\tpu_exporters\n",
      "creating build\\bdist.win-amd64\\egg\\object_detection\\tpu_exporters\\testdata\n",
      "copying build\\lib\\object_detection\\tpu_exporters\\testdata\\__init__.py -> build\\bdist.win-amd64\\egg\\object_detection\\tpu_exporters\\testdata\n",
      "copying build\\lib\\object_detection\\tpu_exporters\\utils.py -> build\\bdist.win-amd64\\egg\\object_detection\\tpu_exporters\n",
      "copying build\\lib\\object_detection\\tpu_exporters\\utils_test.py -> build\\bdist.win-amd64\\egg\\object_detection\\tpu_exporters\n",
      "copying build\\lib\\object_detection\\tpu_exporters\\__init__.py -> build\\bdist.win-amd64\\egg\\object_detection\\tpu_exporters\n",
      "creating build\\bdist.win-amd64\\egg\\object_detection\\utils\n",
      "copying build\\lib\\object_detection\\utils\\autoaugment_utils.py -> build\\bdist.win-amd64\\egg\\object_detection\\utils\n",
      "copying build\\lib\\object_detection\\utils\\bifpn_utils.py -> build\\bdist.win-amd64\\egg\\object_detection\\utils\n",
      "copying build\\lib\\object_detection\\utils\\category_util.py -> build\\bdist.win-amd64\\egg\\object_detection\\utils\n",
      "copying build\\lib\\object_detection\\utils\\category_util_test.py -> build\\bdist.win-amd64\\egg\\object_detection\\utils\n",
      "copying build\\lib\\object_detection\\utils\\colab_utils.py -> build\\bdist.win-amd64\\egg\\object_detection\\utils\n",
      "copying build\\lib\\object_detection\\utils\\config_util.py -> build\\bdist.win-amd64\\egg\\object_detection\\utils\n",
      "copying build\\lib\\object_detection\\utils\\config_util_test.py -> build\\bdist.win-amd64\\egg\\object_detection\\utils\n",
      "copying build\\lib\\object_detection\\utils\\context_manager.py -> build\\bdist.win-amd64\\egg\\object_detection\\utils\n",
      "copying build\\lib\\object_detection\\utils\\context_manager_test.py -> build\\bdist.win-amd64\\egg\\object_detection\\utils\n",
      "copying build\\lib\\object_detection\\utils\\dataset_util.py -> build\\bdist.win-amd64\\egg\\object_detection\\utils\n",
      "copying build\\lib\\object_detection\\utils\\dataset_util_test.py -> build\\bdist.win-amd64\\egg\\object_detection\\utils\n",
      "copying build\\lib\\object_detection\\utils\\json_utils.py -> build\\bdist.win-amd64\\egg\\object_detection\\utils\n",
      "copying build\\lib\\object_detection\\utils\\json_utils_test.py -> build\\bdist.win-amd64\\egg\\object_detection\\utils\n",
      "copying build\\lib\\object_detection\\utils\\label_map_util.py -> build\\bdist.win-amd64\\egg\\object_detection\\utils\n",
      "copying build\\lib\\object_detection\\utils\\label_map_util_test.py -> build\\bdist.win-amd64\\egg\\object_detection\\utils\n",
      "copying build\\lib\\object_detection\\utils\\learning_schedules.py -> build\\bdist.win-amd64\\egg\\object_detection\\utils\n",
      "copying build\\lib\\object_detection\\utils\\learning_schedules_test.py -> build\\bdist.win-amd64\\egg\\object_detection\\utils\n",
      "copying build\\lib\\object_detection\\utils\\metrics.py -> build\\bdist.win-amd64\\egg\\object_detection\\utils\n",
      "copying build\\lib\\object_detection\\utils\\metrics_test.py -> build\\bdist.win-amd64\\egg\\object_detection\\utils\n",
      "copying build\\lib\\object_detection\\utils\\model_util.py -> build\\bdist.win-amd64\\egg\\object_detection\\utils\n",
      "copying build\\lib\\object_detection\\utils\\model_util_tf2_test.py -> build\\bdist.win-amd64\\egg\\object_detection\\utils\n",
      "copying build\\lib\\object_detection\\utils\\np_box_list.py -> build\\bdist.win-amd64\\egg\\object_detection\\utils\n",
      "copying build\\lib\\object_detection\\utils\\np_box_list_ops.py -> build\\bdist.win-amd64\\egg\\object_detection\\utils\n",
      "copying build\\lib\\object_detection\\utils\\np_box_list_ops_test.py -> build\\bdist.win-amd64\\egg\\object_detection\\utils\n",
      "copying build\\lib\\object_detection\\utils\\np_box_list_test.py -> build\\bdist.win-amd64\\egg\\object_detection\\utils\n",
      "copying build\\lib\\object_detection\\utils\\np_box_mask_list.py -> build\\bdist.win-amd64\\egg\\object_detection\\utils\n",
      "copying build\\lib\\object_detection\\utils\\np_box_mask_list_ops.py -> build\\bdist.win-amd64\\egg\\object_detection\\utils\n",
      "copying build\\lib\\object_detection\\utils\\np_box_mask_list_ops_test.py -> build\\bdist.win-amd64\\egg\\object_detection\\utils\n",
      "copying build\\lib\\object_detection\\utils\\np_box_mask_list_test.py -> build\\bdist.win-amd64\\egg\\object_detection\\utils\n",
      "copying build\\lib\\object_detection\\utils\\np_box_ops.py -> build\\bdist.win-amd64\\egg\\object_detection\\utils\n",
      "copying build\\lib\\object_detection\\utils\\np_box_ops_test.py -> build\\bdist.win-amd64\\egg\\object_detection\\utils\n",
      "copying build\\lib\\object_detection\\utils\\np_mask_ops.py -> build\\bdist.win-amd64\\egg\\object_detection\\utils\n",
      "copying build\\lib\\object_detection\\utils\\np_mask_ops_test.py -> build\\bdist.win-amd64\\egg\\object_detection\\utils\n",
      "copying build\\lib\\object_detection\\utils\\object_detection_evaluation.py -> build\\bdist.win-amd64\\egg\\object_detection\\utils\n",
      "copying build\\lib\\object_detection\\utils\\object_detection_evaluation_test.py -> build\\bdist.win-amd64\\egg\\object_detection\\utils\n",
      "copying build\\lib\\object_detection\\utils\\ops.py -> build\\bdist.win-amd64\\egg\\object_detection\\utils\n",
      "copying build\\lib\\object_detection\\utils\\ops_test.py -> build\\bdist.win-amd64\\egg\\object_detection\\utils\n",
      "copying build\\lib\\object_detection\\utils\\patch_ops.py -> build\\bdist.win-amd64\\egg\\object_detection\\utils\n",
      "copying build\\lib\\object_detection\\utils\\patch_ops_test.py -> build\\bdist.win-amd64\\egg\\object_detection\\utils\n",
      "copying build\\lib\\object_detection\\utils\\per_image_evaluation.py -> build\\bdist.win-amd64\\egg\\object_detection\\utils\n",
      "copying build\\lib\\object_detection\\utils\\per_image_evaluation_test.py -> build\\bdist.win-amd64\\egg\\object_detection\\utils\n",
      "copying build\\lib\\object_detection\\utils\\per_image_vrd_evaluation.py -> build\\bdist.win-amd64\\egg\\object_detection\\utils\n",
      "copying build\\lib\\object_detection\\utils\\per_image_vrd_evaluation_test.py -> build\\bdist.win-amd64\\egg\\object_detection\\utils\n",
      "copying build\\lib\\object_detection\\utils\\shape_utils.py -> build\\bdist.win-amd64\\egg\\object_detection\\utils\n",
      "copying build\\lib\\object_detection\\utils\\shape_utils_test.py -> build\\bdist.win-amd64\\egg\\object_detection\\utils\n",
      "copying build\\lib\\object_detection\\utils\\spatial_transform_ops.py -> build\\bdist.win-amd64\\egg\\object_detection\\utils\n",
      "copying build\\lib\\object_detection\\utils\\spatial_transform_ops_test.py -> build\\bdist.win-amd64\\egg\\object_detection\\utils\n",
      "copying build\\lib\\object_detection\\utils\\static_shape.py -> build\\bdist.win-amd64\\egg\\object_detection\\utils\n",
      "copying build\\lib\\object_detection\\utils\\static_shape_test.py -> build\\bdist.win-amd64\\egg\\object_detection\\utils\n",
      "copying build\\lib\\object_detection\\utils\\target_assigner_utils.py -> build\\bdist.win-amd64\\egg\\object_detection\\utils\n",
      "copying build\\lib\\object_detection\\utils\\target_assigner_utils_test.py -> build\\bdist.win-amd64\\egg\\object_detection\\utils\n",
      "copying build\\lib\\object_detection\\utils\\test_case.py -> build\\bdist.win-amd64\\egg\\object_detection\\utils\n",
      "copying build\\lib\\object_detection\\utils\\test_case_test.py -> build\\bdist.win-amd64\\egg\\object_detection\\utils\n",
      "copying build\\lib\\object_detection\\utils\\test_utils.py -> build\\bdist.win-amd64\\egg\\object_detection\\utils\n",
      "copying build\\lib\\object_detection\\utils\\test_utils_test.py -> build\\bdist.win-amd64\\egg\\object_detection\\utils\n",
      "copying build\\lib\\object_detection\\utils\\tf_version.py -> build\\bdist.win-amd64\\egg\\object_detection\\utils\n",
      "copying build\\lib\\object_detection\\utils\\variables_helper.py -> build\\bdist.win-amd64\\egg\\object_detection\\utils\n",
      "copying build\\lib\\object_detection\\utils\\variables_helper_tf1_test.py -> build\\bdist.win-amd64\\egg\\object_detection\\utils\n",
      "copying build\\lib\\object_detection\\utils\\visualization_utils.py -> build\\bdist.win-amd64\\egg\\object_detection\\utils\n",
      "copying build\\lib\\object_detection\\utils\\visualization_utils_test.py -> build\\bdist.win-amd64\\egg\\object_detection\\utils\n",
      "copying build\\lib\\object_detection\\utils\\vrd_evaluation.py -> build\\bdist.win-amd64\\egg\\object_detection\\utils\n",
      "copying build\\lib\\object_detection\\utils\\vrd_evaluation_test.py -> build\\bdist.win-amd64\\egg\\object_detection\\utils\n",
      "copying build\\lib\\object_detection\\utils\\__init__.py -> build\\bdist.win-amd64\\egg\\object_detection\\utils\n",
      "copying build\\lib\\object_detection\\__init__.py -> build\\bdist.win-amd64\\egg\\object_detection\n",
      "creating build\\bdist.win-amd64\\egg\\preprocessing\n",
      "copying build\\lib\\preprocessing\\cifarnet_preprocessing.py -> build\\bdist.win-amd64\\egg\\preprocessing\n",
      "copying build\\lib\\preprocessing\\inception_preprocessing.py -> build\\bdist.win-amd64\\egg\\preprocessing\n",
      "copying build\\lib\\preprocessing\\lenet_preprocessing.py -> build\\bdist.win-amd64\\egg\\preprocessing\n",
      "copying build\\lib\\preprocessing\\preprocessing_factory.py -> build\\bdist.win-amd64\\egg\\preprocessing\n",
      "copying build\\lib\\preprocessing\\vgg_preprocessing.py -> build\\bdist.win-amd64\\egg\\preprocessing\n",
      "copying build\\lib\\preprocessing\\__init__.py -> build\\bdist.win-amd64\\egg\\preprocessing\n",
      "byte-compiling build\\bdist.win-amd64\\egg\\datasets\\build_imagenet_data.py to build_imagenet_data.cpython-39.pyc\n",
      "byte-compiling build\\bdist.win-amd64\\egg\\datasets\\cifar10.py to cifar10.cpython-39.pyc\n",
      "byte-compiling build\\bdist.win-amd64\\egg\\datasets\\dataset_factory.py to dataset_factory.cpython-39.pyc\n",
      "byte-compiling build\\bdist.win-amd64\\egg\\datasets\\dataset_utils.py to dataset_utils.cpython-39.pyc\n",
      "byte-compiling build\\bdist.win-amd64\\egg\\datasets\\download_and_convert_cifar10.py to download_and_convert_cifar10.cpython-39.pyc\n",
      "byte-compiling build\\bdist.win-amd64\\egg\\datasets\\download_and_convert_flowers.py to download_and_convert_flowers.cpython-39.pyc\n",
      "byte-compiling build\\bdist.win-amd64\\egg\\datasets\\download_and_convert_mnist.py to download_and_convert_mnist.cpython-39.pyc\n",
      "byte-compiling build\\bdist.win-amd64\\egg\\datasets\\download_and_convert_visualwakewords.py to download_and_convert_visualwakewords.cpython-39.pyc\n",
      "byte-compiling build\\bdist.win-amd64\\egg\\datasets\\download_and_convert_visualwakewords_lib.py to download_and_convert_visualwakewords_lib.cpython-39.pyc\n",
      "byte-compiling build\\bdist.win-amd64\\egg\\datasets\\flowers.py to flowers.cpython-39.pyc\n",
      "byte-compiling build\\bdist.win-amd64\\egg\\datasets\\imagenet.py to imagenet.cpython-39.pyc\n",
      "byte-compiling build\\bdist.win-amd64\\egg\\datasets\\mnist.py to mnist.cpython-39.pyc\n",
      "byte-compiling build\\bdist.win-amd64\\egg\\datasets\\preprocess_imagenet_validation_data.py to preprocess_imagenet_validation_data.cpython-39.pyc\n",
      "byte-compiling build\\bdist.win-amd64\\egg\\datasets\\process_bounding_boxes.py to process_bounding_boxes.cpython-39.pyc\n",
      "byte-compiling build\\bdist.win-amd64\\egg\\datasets\\visualwakewords.py to visualwakewords.cpython-39.pyc\n",
      "byte-compiling build\\bdist.win-amd64\\egg\\datasets\\__init__.py to __init__.cpython-39.pyc\n",
      "byte-compiling build\\bdist.win-amd64\\egg\\deployment\\model_deploy.py to model_deploy.cpython-39.pyc\n",
      "byte-compiling build\\bdist.win-amd64\\egg\\deployment\\model_deploy_test.py to model_deploy_test.cpython-39.pyc\n",
      "byte-compiling build\\bdist.win-amd64\\egg\\deployment\\__init__.py to __init__.cpython-39.pyc\n",
      "byte-compiling build\\bdist.win-amd64\\egg\\nets\\alexnet.py to alexnet.cpython-39.pyc\n",
      "byte-compiling build\\bdist.win-amd64\\egg\\nets\\alexnet_test.py to alexnet_test.cpython-39.pyc\n",
      "byte-compiling build\\bdist.win-amd64\\egg\\nets\\cifarnet.py to cifarnet.cpython-39.pyc\n",
      "byte-compiling build\\bdist.win-amd64\\egg\\nets\\cyclegan.py to cyclegan.cpython-39.pyc\n",
      "byte-compiling build\\bdist.win-amd64\\egg\\nets\\cyclegan_test.py to cyclegan_test.cpython-39.pyc\n",
      "byte-compiling build\\bdist.win-amd64\\egg\\nets\\dcgan.py to dcgan.cpython-39.pyc\n",
      "byte-compiling build\\bdist.win-amd64\\egg\\nets\\dcgan_test.py to dcgan_test.cpython-39.pyc\n",
      "byte-compiling build\\bdist.win-amd64\\egg\\nets\\i3d.py to i3d.cpython-39.pyc\n",
      "byte-compiling build\\bdist.win-amd64\\egg\\nets\\i3d_test.py to i3d_test.cpython-39.pyc\n",
      "byte-compiling build\\bdist.win-amd64\\egg\\nets\\i3d_utils.py to i3d_utils.cpython-39.pyc\n",
      "byte-compiling build\\bdist.win-amd64\\egg\\nets\\inception.py to inception.cpython-39.pyc\n",
      "byte-compiling build\\bdist.win-amd64\\egg\\nets\\inception_resnet_v2.py to inception_resnet_v2.cpython-39.pyc\n",
      "byte-compiling build\\bdist.win-amd64\\egg\\nets\\inception_resnet_v2_test.py to inception_resnet_v2_test.cpython-39.pyc\n",
      "byte-compiling build\\bdist.win-amd64\\egg\\nets\\inception_utils.py to inception_utils.cpython-39.pyc\n",
      "byte-compiling build\\bdist.win-amd64\\egg\\nets\\inception_v1.py to inception_v1.cpython-39.pyc\n",
      "byte-compiling build\\bdist.win-amd64\\egg\\nets\\inception_v1_test.py to inception_v1_test.cpython-39.pyc\n",
      "byte-compiling build\\bdist.win-amd64\\egg\\nets\\inception_v2.py to inception_v2.cpython-39.pyc\n",
      "byte-compiling build\\bdist.win-amd64\\egg\\nets\\inception_v2_test.py to inception_v2_test.cpython-39.pyc\n",
      "byte-compiling build\\bdist.win-amd64\\egg\\nets\\inception_v3.py to inception_v3.cpython-39.pyc\n",
      "byte-compiling build\\bdist.win-amd64\\egg\\nets\\inception_v3_test.py to inception_v3_test.cpython-39.pyc\n",
      "byte-compiling build\\bdist.win-amd64\\egg\\nets\\inception_v4.py to inception_v4.cpython-39.pyc\n",
      "byte-compiling build\\bdist.win-amd64\\egg\\nets\\inception_v4_test.py to inception_v4_test.cpython-39.pyc\n",
      "byte-compiling build\\bdist.win-amd64\\egg\\nets\\lenet.py to lenet.cpython-39.pyc\n",
      "byte-compiling build\\bdist.win-amd64\\egg\\nets\\mobilenet\\conv_blocks.py to conv_blocks.cpython-39.pyc\n",
      "byte-compiling build\\bdist.win-amd64\\egg\\nets\\mobilenet\\mobilenet.py to mobilenet.cpython-39.pyc\n",
      "byte-compiling build\\bdist.win-amd64\\egg\\nets\\mobilenet\\mobilenet_v2.py to mobilenet_v2.cpython-39.pyc\n",
      "byte-compiling build\\bdist.win-amd64\\egg\\nets\\mobilenet\\mobilenet_v2_test.py to mobilenet_v2_test.cpython-39.pyc\n",
      "byte-compiling build\\bdist.win-amd64\\egg\\nets\\mobilenet\\mobilenet_v3.py to mobilenet_v3.cpython-39.pyc\n",
      "byte-compiling build\\bdist.win-amd64\\egg\\nets\\mobilenet\\mobilenet_v3_test.py to mobilenet_v3_test.cpython-39.pyc\n",
      "byte-compiling build\\bdist.win-amd64\\egg\\nets\\mobilenet\\__init__.py to __init__.cpython-39.pyc\n",
      "byte-compiling build\\bdist.win-amd64\\egg\\nets\\mobilenet_v1.py to mobilenet_v1.cpython-39.pyc\n",
      "byte-compiling build\\bdist.win-amd64\\egg\\nets\\mobilenet_v1_eval.py to mobilenet_v1_eval.cpython-39.pyc\n",
      "byte-compiling build\\bdist.win-amd64\\egg\\nets\\mobilenet_v1_test.py to mobilenet_v1_test.cpython-39.pyc\n",
      "byte-compiling build\\bdist.win-amd64\\egg\\nets\\mobilenet_v1_train.py to mobilenet_v1_train.cpython-39.pyc\n",
      "byte-compiling build\\bdist.win-amd64\\egg\\nets\\nasnet\\nasnet.py to nasnet.cpython-39.pyc\n",
      "byte-compiling build\\bdist.win-amd64\\egg\\nets\\nasnet\\nasnet_test.py to nasnet_test.cpython-39.pyc\n",
      "byte-compiling build\\bdist.win-amd64\\egg\\nets\\nasnet\\nasnet_utils.py to nasnet_utils.cpython-39.pyc\n",
      "byte-compiling build\\bdist.win-amd64\\egg\\nets\\nasnet\\nasnet_utils_test.py to nasnet_utils_test.cpython-39.pyc\n",
      "byte-compiling build\\bdist.win-amd64\\egg\\nets\\nasnet\\pnasnet.py to pnasnet.cpython-39.pyc\n",
      "byte-compiling build\\bdist.win-amd64\\egg\\nets\\nasnet\\pnasnet_test.py to pnasnet_test.cpython-39.pyc\n",
      "byte-compiling build\\bdist.win-amd64\\egg\\nets\\nasnet\\__init__.py to __init__.cpython-39.pyc\n",
      "byte-compiling build\\bdist.win-amd64\\egg\\nets\\nets_factory.py to nets_factory.cpython-39.pyc\n",
      "byte-compiling build\\bdist.win-amd64\\egg\\nets\\nets_factory_test.py to nets_factory_test.cpython-39.pyc\n",
      "byte-compiling build\\bdist.win-amd64\\egg\\nets\\overfeat.py to overfeat.cpython-39.pyc\n",
      "byte-compiling build\\bdist.win-amd64\\egg\\nets\\overfeat_test.py to overfeat_test.cpython-39.pyc\n",
      "byte-compiling build\\bdist.win-amd64\\egg\\nets\\pix2pix.py to pix2pix.cpython-39.pyc\n",
      "byte-compiling build\\bdist.win-amd64\\egg\\nets\\pix2pix_test.py to pix2pix_test.cpython-39.pyc\n",
      "byte-compiling build\\bdist.win-amd64\\egg\\nets\\post_training_quantization.py to post_training_quantization.cpython-39.pyc\n",
      "byte-compiling build\\bdist.win-amd64\\egg\\nets\\resnet_utils.py to resnet_utils.cpython-39.pyc\n",
      "byte-compiling build\\bdist.win-amd64\\egg\\nets\\resnet_v1.py to resnet_v1.cpython-39.pyc\n",
      "byte-compiling build\\bdist.win-amd64\\egg\\nets\\resnet_v1_test.py to resnet_v1_test.cpython-39.pyc\n",
      "byte-compiling build\\bdist.win-amd64\\egg\\nets\\resnet_v2.py to resnet_v2.cpython-39.pyc\n",
      "byte-compiling build\\bdist.win-amd64\\egg\\nets\\resnet_v2_test.py to resnet_v2_test.cpython-39.pyc\n",
      "byte-compiling build\\bdist.win-amd64\\egg\\nets\\s3dg.py to s3dg.cpython-39.pyc\n",
      "byte-compiling build\\bdist.win-amd64\\egg\\nets\\s3dg_test.py to s3dg_test.cpython-39.pyc\n",
      "byte-compiling build\\bdist.win-amd64\\egg\\nets\\vgg.py to vgg.cpython-39.pyc\n",
      "byte-compiling build\\bdist.win-amd64\\egg\\nets\\vgg_test.py to vgg_test.cpython-39.pyc\n",
      "byte-compiling build\\bdist.win-amd64\\egg\\nets\\__init__.py to __init__.cpython-39.pyc\n",
      "byte-compiling build\\bdist.win-amd64\\egg\\object_detection\\anchor_generators\\flexible_grid_anchor_generator.py to flexible_grid_anchor_generator.cpython-39.pyc\n",
      "byte-compiling build\\bdist.win-amd64\\egg\\object_detection\\anchor_generators\\flexible_grid_anchor_generator_test.py to flexible_grid_anchor_generator_test.cpython-39.pyc\n",
      "byte-compiling build\\bdist.win-amd64\\egg\\object_detection\\anchor_generators\\grid_anchor_generator.py to grid_anchor_generator.cpython-39.pyc\n",
      "byte-compiling build\\bdist.win-amd64\\egg\\object_detection\\anchor_generators\\grid_anchor_generator_test.py to grid_anchor_generator_test.cpython-39.pyc\n",
      "byte-compiling build\\bdist.win-amd64\\egg\\object_detection\\anchor_generators\\multiple_grid_anchor_generator.py to multiple_grid_anchor_generator.cpython-39.pyc\n",
      "byte-compiling build\\bdist.win-amd64\\egg\\object_detection\\anchor_generators\\multiple_grid_anchor_generator_test.py to multiple_grid_anchor_generator_test.cpython-39.pyc\n",
      "byte-compiling build\\bdist.win-amd64\\egg\\object_detection\\anchor_generators\\multiscale_grid_anchor_generator.py to multiscale_grid_anchor_generator.cpython-39.pyc\n",
      "byte-compiling build\\bdist.win-amd64\\egg\\object_detection\\anchor_generators\\multiscale_grid_anchor_generator_test.py to multiscale_grid_anchor_generator_test.cpython-39.pyc\n",
      "byte-compiling build\\bdist.win-amd64\\egg\\object_detection\\anchor_generators\\__init__.py to __init__.cpython-39.pyc\n",
      "byte-compiling build\\bdist.win-amd64\\egg\\object_detection\\box_coders\\faster_rcnn_box_coder.py to faster_rcnn_box_coder.cpython-39.pyc\n",
      "byte-compiling build\\bdist.win-amd64\\egg\\object_detection\\box_coders\\faster_rcnn_box_coder_test.py to faster_rcnn_box_coder_test.cpython-39.pyc\n",
      "byte-compiling build\\bdist.win-amd64\\egg\\object_detection\\box_coders\\keypoint_box_coder.py to keypoint_box_coder.cpython-39.pyc\n",
      "byte-compiling build\\bdist.win-amd64\\egg\\object_detection\\box_coders\\keypoint_box_coder_test.py to keypoint_box_coder_test.cpython-39.pyc\n",
      "byte-compiling build\\bdist.win-amd64\\egg\\object_detection\\box_coders\\mean_stddev_box_coder.py to mean_stddev_box_coder.cpython-39.pyc\n",
      "byte-compiling build\\bdist.win-amd64\\egg\\object_detection\\box_coders\\mean_stddev_box_coder_test.py to mean_stddev_box_coder_test.cpython-39.pyc\n",
      "byte-compiling build\\bdist.win-amd64\\egg\\object_detection\\box_coders\\square_box_coder.py to square_box_coder.cpython-39.pyc\n",
      "byte-compiling build\\bdist.win-amd64\\egg\\object_detection\\box_coders\\square_box_coder_test.py to square_box_coder_test.cpython-39.pyc\n",
      "byte-compiling build\\bdist.win-amd64\\egg\\object_detection\\box_coders\\__init__.py to __init__.cpython-39.pyc\n",
      "byte-compiling build\\bdist.win-amd64\\egg\\object_detection\\builders\\anchor_generator_builder.py to anchor_generator_builder.cpython-39.pyc\n",
      "byte-compiling build\\bdist.win-amd64\\egg\\object_detection\\builders\\anchor_generator_builder_test.py to anchor_generator_builder_test.cpython-39.pyc\n",
      "byte-compiling build\\bdist.win-amd64\\egg\\object_detection\\builders\\box_coder_builder.py to box_coder_builder.cpython-39.pyc\n",
      "byte-compiling build\\bdist.win-amd64\\egg\\object_detection\\builders\\box_coder_builder_test.py to box_coder_builder_test.cpython-39.pyc\n",
      "byte-compiling build\\bdist.win-amd64\\egg\\object_detection\\builders\\box_predictor_builder.py to box_predictor_builder.cpython-39.pyc\n",
      "byte-compiling build\\bdist.win-amd64\\egg\\object_detection\\builders\\box_predictor_builder_test.py to box_predictor_builder_test.cpython-39.pyc\n",
      "byte-compiling build\\bdist.win-amd64\\egg\\object_detection\\builders\\calibration_builder.py to calibration_builder.cpython-39.pyc\n",
      "byte-compiling build\\bdist.win-amd64\\egg\\object_detection\\builders\\calibration_builder_test.py to calibration_builder_test.cpython-39.pyc\n",
      "byte-compiling build\\bdist.win-amd64\\egg\\object_detection\\builders\\dataset_builder.py to dataset_builder.cpython-39.pyc\n",
      "byte-compiling build\\bdist.win-amd64\\egg\\object_detection\\builders\\dataset_builder_test.py to dataset_builder_test.cpython-39.pyc\n",
      "byte-compiling build\\bdist.win-amd64\\egg\\object_detection\\builders\\decoder_builder.py to decoder_builder.cpython-39.pyc\n",
      "byte-compiling build\\bdist.win-amd64\\egg\\object_detection\\builders\\decoder_builder_test.py to decoder_builder_test.cpython-39.pyc\n",
      "byte-compiling build\\bdist.win-amd64\\egg\\object_detection\\builders\\graph_rewriter_builder.py to graph_rewriter_builder.cpython-39.pyc\n",
      "byte-compiling build\\bdist.win-amd64\\egg\\object_detection\\builders\\graph_rewriter_builder_tf1_test.py to graph_rewriter_builder_tf1_test.cpython-39.pyc\n",
      "byte-compiling build\\bdist.win-amd64\\egg\\object_detection\\builders\\hyperparams_builder.py to hyperparams_builder.cpython-39.pyc\n",
      "byte-compiling build\\bdist.win-amd64\\egg\\object_detection\\builders\\hyperparams_builder_test.py to hyperparams_builder_test.cpython-39.pyc\n",
      "byte-compiling build\\bdist.win-amd64\\egg\\object_detection\\builders\\image_resizer_builder.py to image_resizer_builder.cpython-39.pyc\n",
      "byte-compiling build\\bdist.win-amd64\\egg\\object_detection\\builders\\image_resizer_builder_test.py to image_resizer_builder_test.cpython-39.pyc\n",
      "byte-compiling build\\bdist.win-amd64\\egg\\object_detection\\builders\\input_reader_builder.py to input_reader_builder.cpython-39.pyc\n",
      "byte-compiling build\\bdist.win-amd64\\egg\\object_detection\\builders\\input_reader_builder_tf1_test.py to input_reader_builder_tf1_test.cpython-39.pyc\n",
      "byte-compiling build\\bdist.win-amd64\\egg\\object_detection\\builders\\losses_builder.py to losses_builder.cpython-39.pyc\n",
      "byte-compiling build\\bdist.win-amd64\\egg\\object_detection\\builders\\losses_builder_test.py to losses_builder_test.cpython-39.pyc\n",
      "byte-compiling build\\bdist.win-amd64\\egg\\object_detection\\builders\\matcher_builder.py to matcher_builder.cpython-39.pyc\n",
      "byte-compiling build\\bdist.win-amd64\\egg\\object_detection\\builders\\matcher_builder_test.py to matcher_builder_test.cpython-39.pyc\n",
      "byte-compiling build\\bdist.win-amd64\\egg\\object_detection\\builders\\model_builder.py to model_builder.cpython-39.pyc\n",
      "byte-compiling build\\bdist.win-amd64\\egg\\object_detection\\builders\\model_builder_test.py to model_builder_test.cpython-39.pyc\n",
      "byte-compiling build\\bdist.win-amd64\\egg\\object_detection\\builders\\model_builder_tf1_test.py to model_builder_tf1_test.cpython-39.pyc\n",
      "byte-compiling build\\bdist.win-amd64\\egg\\object_detection\\builders\\model_builder_tf2_test.py to model_builder_tf2_test.cpython-39.pyc\n",
      "byte-compiling build\\bdist.win-amd64\\egg\\object_detection\\builders\\optimizer_builder.py to optimizer_builder.cpython-39.pyc\n",
      "byte-compiling build\\bdist.win-amd64\\egg\\object_detection\\builders\\optimizer_builder_tf1_test.py to optimizer_builder_tf1_test.cpython-39.pyc\n",
      "byte-compiling build\\bdist.win-amd64\\egg\\object_detection\\builders\\optimizer_builder_tf2_test.py to optimizer_builder_tf2_test.cpython-39.pyc\n",
      "byte-compiling build\\bdist.win-amd64\\egg\\object_detection\\builders\\post_processing_builder.py to post_processing_builder.cpython-39.pyc\n",
      "byte-compiling build\\bdist.win-amd64\\egg\\object_detection\\builders\\post_processing_builder_test.py to post_processing_builder_test.cpython-39.pyc\n",
      "byte-compiling build\\bdist.win-amd64\\egg\\object_detection\\builders\\preprocessor_builder.py to preprocessor_builder.cpython-39.pyc\n",
      "byte-compiling build\\bdist.win-amd64\\egg\\object_detection\\builders\\preprocessor_builder_test.py to preprocessor_builder_test.cpython-39.pyc\n",
      "byte-compiling build\\bdist.win-amd64\\egg\\object_detection\\builders\\region_similarity_calculator_builder.py to region_similarity_calculator_builder.cpython-39.pyc\n",
      "byte-compiling build\\bdist.win-amd64\\egg\\object_detection\\builders\\region_similarity_calculator_builder_test.py to region_similarity_calculator_builder_test.cpython-39.pyc\n",
      "byte-compiling build\\bdist.win-amd64\\egg\\object_detection\\builders\\target_assigner_builder.py to target_assigner_builder.cpython-39.pyc\n",
      "byte-compiling build\\bdist.win-amd64\\egg\\object_detection\\builders\\target_assigner_builder_test.py to target_assigner_builder_test.cpython-39.pyc\n",
      "byte-compiling build\\bdist.win-amd64\\egg\\object_detection\\builders\\__init__.py to __init__.cpython-39.pyc\n",
      "byte-compiling build\\bdist.win-amd64\\egg\\object_detection\\core\\anchor_generator.py to anchor_generator.cpython-39.pyc\n",
      "byte-compiling build\\bdist.win-amd64\\egg\\object_detection\\core\\balanced_positive_negative_sampler.py to balanced_positive_negative_sampler.cpython-39.pyc\n",
      "byte-compiling build\\bdist.win-amd64\\egg\\object_detection\\core\\balanced_positive_negative_sampler_test.py to balanced_positive_negative_sampler_test.cpython-39.pyc\n",
      "byte-compiling build\\bdist.win-amd64\\egg\\object_detection\\core\\batcher.py to batcher.cpython-39.pyc\n",
      "byte-compiling build\\bdist.win-amd64\\egg\\object_detection\\core\\batcher_tf1_test.py to batcher_tf1_test.cpython-39.pyc\n",
      "byte-compiling build\\bdist.win-amd64\\egg\\object_detection\\core\\batch_multiclass_nms_test.py to batch_multiclass_nms_test.cpython-39.pyc\n",
      "byte-compiling build\\bdist.win-amd64\\egg\\object_detection\\core\\box_coder.py to box_coder.cpython-39.pyc\n",
      "byte-compiling build\\bdist.win-amd64\\egg\\object_detection\\core\\box_coder_test.py to box_coder_test.cpython-39.pyc\n",
      "byte-compiling build\\bdist.win-amd64\\egg\\object_detection\\core\\box_list.py to box_list.cpython-39.pyc\n",
      "byte-compiling build\\bdist.win-amd64\\egg\\object_detection\\core\\box_list_ops.py to box_list_ops.cpython-39.pyc\n",
      "byte-compiling build\\bdist.win-amd64\\egg\\object_detection\\core\\box_list_ops_test.py to box_list_ops_test.cpython-39.pyc\n",
      "byte-compiling build\\bdist.win-amd64\\egg\\object_detection\\core\\box_list_test.py to box_list_test.cpython-39.pyc\n",
      "byte-compiling build\\bdist.win-amd64\\egg\\object_detection\\core\\box_predictor.py to box_predictor.cpython-39.pyc\n",
      "byte-compiling build\\bdist.win-amd64\\egg\\object_detection\\core\\class_agnostic_nms_test.py to class_agnostic_nms_test.cpython-39.pyc\n",
      "byte-compiling build\\bdist.win-amd64\\egg\\object_detection\\core\\data_decoder.py to data_decoder.cpython-39.pyc\n",
      "byte-compiling build\\bdist.win-amd64\\egg\\object_detection\\core\\data_parser.py to data_parser.cpython-39.pyc\n",
      "byte-compiling build\\bdist.win-amd64\\egg\\object_detection\\core\\densepose_ops.py to densepose_ops.cpython-39.pyc\n",
      "byte-compiling build\\bdist.win-amd64\\egg\\object_detection\\core\\densepose_ops_test.py to densepose_ops_test.cpython-39.pyc\n",
      "byte-compiling build\\bdist.win-amd64\\egg\\object_detection\\core\\freezable_batch_norm.py to freezable_batch_norm.cpython-39.pyc\n",
      "byte-compiling build\\bdist.win-amd64\\egg\\object_detection\\core\\freezable_batch_norm_tf2_test.py to freezable_batch_norm_tf2_test.cpython-39.pyc\n",
      "byte-compiling build\\bdist.win-amd64\\egg\\object_detection\\core\\freezable_sync_batch_norm.py to freezable_sync_batch_norm.cpython-39.pyc\n",
      "byte-compiling build\\bdist.win-amd64\\egg\\object_detection\\core\\keypoint_ops.py to keypoint_ops.cpython-39.pyc\n",
      "byte-compiling build\\bdist.win-amd64\\egg\\object_detection\\core\\keypoint_ops_test.py to keypoint_ops_test.cpython-39.pyc\n",
      "byte-compiling build\\bdist.win-amd64\\egg\\object_detection\\core\\losses.py to losses.cpython-39.pyc\n",
      "byte-compiling build\\bdist.win-amd64\\egg\\object_detection\\core\\losses_test.py to losses_test.cpython-39.pyc\n",
      "byte-compiling build\\bdist.win-amd64\\egg\\object_detection\\core\\matcher.py to matcher.cpython-39.pyc\n",
      "byte-compiling build\\bdist.win-amd64\\egg\\object_detection\\core\\matcher_test.py to matcher_test.cpython-39.pyc\n",
      "byte-compiling build\\bdist.win-amd64\\egg\\object_detection\\core\\minibatch_sampler.py to minibatch_sampler.cpython-39.pyc\n",
      "byte-compiling build\\bdist.win-amd64\\egg\\object_detection\\core\\minibatch_sampler_test.py to minibatch_sampler_test.cpython-39.pyc\n",
      "byte-compiling build\\bdist.win-amd64\\egg\\object_detection\\core\\model.py to model.cpython-39.pyc\n",
      "byte-compiling build\\bdist.win-amd64\\egg\\object_detection\\core\\model_test.py to model_test.cpython-39.pyc\n",
      "byte-compiling build\\bdist.win-amd64\\egg\\object_detection\\core\\multiclass_nms_test.py to multiclass_nms_test.cpython-39.pyc\n",
      "byte-compiling build\\bdist.win-amd64\\egg\\object_detection\\core\\post_processing.py to post_processing.cpython-39.pyc\n",
      "byte-compiling build\\bdist.win-amd64\\egg\\object_detection\\core\\prefetcher.py to prefetcher.cpython-39.pyc\n",
      "byte-compiling build\\bdist.win-amd64\\egg\\object_detection\\core\\prefetcher_tf1_test.py to prefetcher_tf1_test.cpython-39.pyc\n",
      "byte-compiling build\\bdist.win-amd64\\egg\\object_detection\\core\\preprocessor.py to preprocessor.cpython-39.pyc\n",
      "byte-compiling build\\bdist.win-amd64\\egg\\object_detection\\core\\preprocessor_cache.py to preprocessor_cache.cpython-39.pyc\n",
      "byte-compiling build\\bdist.win-amd64\\egg\\object_detection\\core\\preprocessor_test.py to preprocessor_test.cpython-39.pyc\n",
      "byte-compiling build\\bdist.win-amd64\\egg\\object_detection\\core\\region_similarity_calculator.py to region_similarity_calculator.cpython-39.pyc\n",
      "byte-compiling build\\bdist.win-amd64\\egg\\object_detection\\core\\region_similarity_calculator_test.py to region_similarity_calculator_test.cpython-39.pyc\n",
      "byte-compiling build\\bdist.win-amd64\\egg\\object_detection\\core\\standard_fields.py to standard_fields.cpython-39.pyc\n",
      "byte-compiling build\\bdist.win-amd64\\egg\\object_detection\\core\\target_assigner.py to target_assigner.cpython-39.pyc\n",
      "byte-compiling build\\bdist.win-amd64\\egg\\object_detection\\core\\target_assigner_test.py to target_assigner_test.cpython-39.pyc\n",
      "byte-compiling build\\bdist.win-amd64\\egg\\object_detection\\core\\__init__.py to __init__.cpython-39.pyc\n",
      "byte-compiling build\\bdist.win-amd64\\egg\\object_detection\\dataset_tools\\context_rcnn\\add_context_to_examples.py to add_context_to_examples.cpython-39.pyc\n",
      "byte-compiling build\\bdist.win-amd64\\egg\\object_detection\\dataset_tools\\context_rcnn\\add_context_to_examples_tf2_test.py to add_context_to_examples_tf2_test.cpython-39.pyc\n",
      "byte-compiling build\\bdist.win-amd64\\egg\\object_detection\\dataset_tools\\context_rcnn\\create_cococameratraps_tfexample_main.py to create_cococameratraps_tfexample_main.cpython-39.pyc\n",
      "byte-compiling build\\bdist.win-amd64\\egg\\object_detection\\dataset_tools\\context_rcnn\\create_cococameratraps_tfexample_tf2_test.py to create_cococameratraps_tfexample_tf2_test.cpython-39.pyc\n",
      "byte-compiling build\\bdist.win-amd64\\egg\\object_detection\\dataset_tools\\context_rcnn\\generate_detection_data.py to generate_detection_data.cpython-39.pyc\n",
      "byte-compiling build\\bdist.win-amd64\\egg\\object_detection\\dataset_tools\\context_rcnn\\generate_detection_data_tf2_test.py to generate_detection_data_tf2_test.cpython-39.pyc\n",
      "byte-compiling build\\bdist.win-amd64\\egg\\object_detection\\dataset_tools\\context_rcnn\\generate_embedding_data.py to generate_embedding_data.cpython-39.pyc\n",
      "byte-compiling build\\bdist.win-amd64\\egg\\object_detection\\dataset_tools\\context_rcnn\\generate_embedding_data_tf2_test.py to generate_embedding_data_tf2_test.cpython-39.pyc\n",
      "byte-compiling build\\bdist.win-amd64\\egg\\object_detection\\dataset_tools\\context_rcnn\\__init__.py to __init__.cpython-39.pyc\n",
      "byte-compiling build\\bdist.win-amd64\\egg\\object_detection\\dataset_tools\\create_ava_actions_tf_record.py to create_ava_actions_tf_record.cpython-39.pyc\n",
      "byte-compiling build\\bdist.win-amd64\\egg\\object_detection\\dataset_tools\\create_coco_tf_record.py to create_coco_tf_record.cpython-39.pyc\n",
      "byte-compiling build\\bdist.win-amd64\\egg\\object_detection\\dataset_tools\\create_coco_tf_record_test.py to create_coco_tf_record_test.cpython-39.pyc\n",
      "byte-compiling build\\bdist.win-amd64\\egg\\object_detection\\dataset_tools\\create_kitti_tf_record.py to create_kitti_tf_record.cpython-39.pyc\n",
      "byte-compiling build\\bdist.win-amd64\\egg\\object_detection\\dataset_tools\\create_kitti_tf_record_test.py to create_kitti_tf_record_test.cpython-39.pyc\n",
      "byte-compiling build\\bdist.win-amd64\\egg\\object_detection\\dataset_tools\\create_oid_tf_record.py to create_oid_tf_record.cpython-39.pyc\n",
      "byte-compiling build\\bdist.win-amd64\\egg\\object_detection\\dataset_tools\\create_pascal_tf_record.py to create_pascal_tf_record.cpython-39.pyc\n",
      "byte-compiling build\\bdist.win-amd64\\egg\\object_detection\\dataset_tools\\create_pascal_tf_record_test.py to create_pascal_tf_record_test.cpython-39.pyc\n",
      "byte-compiling build\\bdist.win-amd64\\egg\\object_detection\\dataset_tools\\create_pet_tf_record.py to create_pet_tf_record.cpython-39.pyc\n",
      "byte-compiling build\\bdist.win-amd64\\egg\\object_detection\\dataset_tools\\oid_hierarchical_labels_expansion.py to oid_hierarchical_labels_expansion.cpython-39.pyc\n",
      "byte-compiling build\\bdist.win-amd64\\egg\\object_detection\\dataset_tools\\oid_hierarchical_labels_expansion_test.py to oid_hierarchical_labels_expansion_test.cpython-39.pyc\n",
      "byte-compiling build\\bdist.win-amd64\\egg\\object_detection\\dataset_tools\\oid_tfrecord_creation.py to oid_tfrecord_creation.cpython-39.pyc\n",
      "byte-compiling build\\bdist.win-amd64\\egg\\object_detection\\dataset_tools\\oid_tfrecord_creation_test.py to oid_tfrecord_creation_test.cpython-39.pyc\n",
      "byte-compiling build\\bdist.win-amd64\\egg\\object_detection\\dataset_tools\\seq_example_util.py to seq_example_util.cpython-39.pyc\n",
      "byte-compiling build\\bdist.win-amd64\\egg\\object_detection\\dataset_tools\\seq_example_util_test.py to seq_example_util_test.cpython-39.pyc\n",
      "byte-compiling build\\bdist.win-amd64\\egg\\object_detection\\dataset_tools\\tf_record_creation_util.py to tf_record_creation_util.cpython-39.pyc\n",
      "byte-compiling build\\bdist.win-amd64\\egg\\object_detection\\dataset_tools\\tf_record_creation_util_test.py to tf_record_creation_util_test.cpython-39.pyc\n",
      "byte-compiling build\\bdist.win-amd64\\egg\\object_detection\\dataset_tools\\__init__.py to __init__.cpython-39.pyc\n",
      "byte-compiling build\\bdist.win-amd64\\egg\\object_detection\\data_decoders\\tf_example_decoder.py to tf_example_decoder.cpython-39.pyc\n",
      "byte-compiling build\\bdist.win-amd64\\egg\\object_detection\\data_decoders\\tf_example_decoder_test.py to tf_example_decoder_test.cpython-39.pyc\n",
      "byte-compiling build\\bdist.win-amd64\\egg\\object_detection\\data_decoders\\tf_sequence_example_decoder.py to tf_sequence_example_decoder.cpython-39.pyc\n",
      "byte-compiling build\\bdist.win-amd64\\egg\\object_detection\\data_decoders\\tf_sequence_example_decoder_test.py to tf_sequence_example_decoder_test.cpython-39.pyc\n",
      "byte-compiling build\\bdist.win-amd64\\egg\\object_detection\\data_decoders\\__init__.py to __init__.cpython-39.pyc\n",
      "byte-compiling build\\bdist.win-amd64\\egg\\object_detection\\eval_util.py to eval_util.cpython-39.pyc\n",
      "byte-compiling build\\bdist.win-amd64\\egg\\object_detection\\eval_util_test.py to eval_util_test.cpython-39.pyc\n",
      "byte-compiling build\\bdist.win-amd64\\egg\\object_detection\\exporter.py to exporter.cpython-39.pyc\n",
      "byte-compiling build\\bdist.win-amd64\\egg\\object_detection\\exporter_lib_tf2_test.py to exporter_lib_tf2_test.cpython-39.pyc\n",
      "byte-compiling build\\bdist.win-amd64\\egg\\object_detection\\exporter_lib_v2.py to exporter_lib_v2.cpython-39.pyc\n",
      "byte-compiling build\\bdist.win-amd64\\egg\\object_detection\\exporter_main_v2.py to exporter_main_v2.cpython-39.pyc\n",
      "byte-compiling build\\bdist.win-amd64\\egg\\object_detection\\exporter_tf1_test.py to exporter_tf1_test.cpython-39.pyc\n",
      "byte-compiling build\\bdist.win-amd64\\egg\\object_detection\\export_inference_graph.py to export_inference_graph.cpython-39.pyc\n",
      "byte-compiling build\\bdist.win-amd64\\egg\\object_detection\\export_tflite_graph_lib_tf2.py to export_tflite_graph_lib_tf2.cpython-39.pyc\n",
      "byte-compiling build\\bdist.win-amd64\\egg\\object_detection\\export_tflite_graph_lib_tf2_test.py to export_tflite_graph_lib_tf2_test.cpython-39.pyc\n",
      "byte-compiling build\\bdist.win-amd64\\egg\\object_detection\\export_tflite_graph_tf2.py to export_tflite_graph_tf2.cpython-39.pyc\n",
      "byte-compiling build\\bdist.win-amd64\\egg\\object_detection\\export_tflite_ssd_graph.py to export_tflite_ssd_graph.cpython-39.pyc\n",
      "byte-compiling build\\bdist.win-amd64\\egg\\object_detection\\export_tflite_ssd_graph_lib.py to export_tflite_ssd_graph_lib.cpython-39.pyc\n",
      "byte-compiling build\\bdist.win-amd64\\egg\\object_detection\\export_tflite_ssd_graph_lib_tf1_test.py to export_tflite_ssd_graph_lib_tf1_test.cpython-39.pyc\n",
      "byte-compiling build\\bdist.win-amd64\\egg\\object_detection\\inference\\detection_inference.py to detection_inference.cpython-39.pyc\n",
      "byte-compiling build\\bdist.win-amd64\\egg\\object_detection\\inference\\detection_inference_tf1_test.py to detection_inference_tf1_test.cpython-39.pyc\n",
      "byte-compiling build\\bdist.win-amd64\\egg\\object_detection\\inference\\infer_detections.py to infer_detections.cpython-39.pyc\n",
      "byte-compiling build\\bdist.win-amd64\\egg\\object_detection\\inference\\__init__.py to __init__.cpython-39.pyc\n",
      "byte-compiling build\\bdist.win-amd64\\egg\\object_detection\\inputs.py to inputs.cpython-39.pyc\n",
      "byte-compiling build\\bdist.win-amd64\\egg\\object_detection\\inputs_test.py to inputs_test.cpython-39.pyc\n",
      "byte-compiling build\\bdist.win-amd64\\egg\\object_detection\\legacy\\eval.py to eval.cpython-39.pyc\n",
      "byte-compiling build\\bdist.win-amd64\\egg\\object_detection\\legacy\\evaluator.py to evaluator.cpython-39.pyc\n",
      "byte-compiling build\\bdist.win-amd64\\egg\\object_detection\\legacy\\train.py to train.cpython-39.pyc\n",
      "byte-compiling build\\bdist.win-amd64\\egg\\object_detection\\legacy\\trainer.py to trainer.cpython-39.pyc\n",
      "byte-compiling build\\bdist.win-amd64\\egg\\object_detection\\legacy\\trainer_tf1_test.py to trainer_tf1_test.cpython-39.pyc\n",
      "byte-compiling build\\bdist.win-amd64\\egg\\object_detection\\legacy\\__init__.py to __init__.cpython-39.pyc\n",
      "byte-compiling build\\bdist.win-amd64\\egg\\object_detection\\matchers\\argmax_matcher.py to argmax_matcher.cpython-39.pyc\n",
      "byte-compiling build\\bdist.win-amd64\\egg\\object_detection\\matchers\\argmax_matcher_test.py to argmax_matcher_test.cpython-39.pyc\n",
      "byte-compiling build\\bdist.win-amd64\\egg\\object_detection\\matchers\\bipartite_matcher.py to bipartite_matcher.cpython-39.pyc\n",
      "byte-compiling build\\bdist.win-amd64\\egg\\object_detection\\matchers\\bipartite_matcher_tf1_test.py to bipartite_matcher_tf1_test.cpython-39.pyc\n",
      "byte-compiling build\\bdist.win-amd64\\egg\\object_detection\\matchers\\hungarian_matcher.py to hungarian_matcher.cpython-39.pyc\n",
      "byte-compiling build\\bdist.win-amd64\\egg\\object_detection\\matchers\\hungarian_matcher_tf2_test.py to hungarian_matcher_tf2_test.cpython-39.pyc\n",
      "byte-compiling build\\bdist.win-amd64\\egg\\object_detection\\matchers\\__init__.py to __init__.cpython-39.pyc\n",
      "byte-compiling build\\bdist.win-amd64\\egg\\object_detection\\meta_architectures\\center_net_meta_arch.py to center_net_meta_arch.cpython-39.pyc\n",
      "byte-compiling build\\bdist.win-amd64\\egg\\object_detection\\meta_architectures\\center_net_meta_arch_tf2_test.py to center_net_meta_arch_tf2_test.cpython-39.pyc\n",
      "byte-compiling build\\bdist.win-amd64\\egg\\object_detection\\meta_architectures\\context_rcnn_lib.py to context_rcnn_lib.cpython-39.pyc\n",
      "byte-compiling build\\bdist.win-amd64\\egg\\object_detection\\meta_architectures\\context_rcnn_lib_tf1_test.py to context_rcnn_lib_tf1_test.cpython-39.pyc\n",
      "byte-compiling build\\bdist.win-amd64\\egg\\object_detection\\meta_architectures\\context_rcnn_lib_tf2.py to context_rcnn_lib_tf2.cpython-39.pyc\n",
      "byte-compiling build\\bdist.win-amd64\\egg\\object_detection\\meta_architectures\\context_rcnn_lib_tf2_test.py to context_rcnn_lib_tf2_test.cpython-39.pyc\n",
      "byte-compiling build\\bdist.win-amd64\\egg\\object_detection\\meta_architectures\\context_rcnn_meta_arch.py to context_rcnn_meta_arch.cpython-39.pyc\n",
      "byte-compiling build\\bdist.win-amd64\\egg\\object_detection\\meta_architectures\\context_rcnn_meta_arch_test.py to context_rcnn_meta_arch_test.cpython-39.pyc\n",
      "byte-compiling build\\bdist.win-amd64\\egg\\object_detection\\meta_architectures\\deepmac_meta_arch.py to deepmac_meta_arch.cpython-39.pyc\n",
      "byte-compiling build\\bdist.win-amd64\\egg\\object_detection\\meta_architectures\\deepmac_meta_arch_test.py to deepmac_meta_arch_test.cpython-39.pyc\n",
      "byte-compiling build\\bdist.win-amd64\\egg\\object_detection\\meta_architectures\\faster_rcnn_meta_arch.py to faster_rcnn_meta_arch.cpython-39.pyc\n",
      "byte-compiling build\\bdist.win-amd64\\egg\\object_detection\\meta_architectures\\faster_rcnn_meta_arch_test.py to faster_rcnn_meta_arch_test.cpython-39.pyc\n",
      "byte-compiling build\\bdist.win-amd64\\egg\\object_detection\\meta_architectures\\faster_rcnn_meta_arch_test_lib.py to faster_rcnn_meta_arch_test_lib.cpython-39.pyc\n",
      "byte-compiling build\\bdist.win-amd64\\egg\\object_detection\\meta_architectures\\rfcn_meta_arch.py to rfcn_meta_arch.cpython-39.pyc\n",
      "byte-compiling build\\bdist.win-amd64\\egg\\object_detection\\meta_architectures\\rfcn_meta_arch_test.py to rfcn_meta_arch_test.cpython-39.pyc\n",
      "byte-compiling build\\bdist.win-amd64\\egg\\object_detection\\meta_architectures\\ssd_meta_arch.py to ssd_meta_arch.cpython-39.pyc\n",
      "byte-compiling build\\bdist.win-amd64\\egg\\object_detection\\meta_architectures\\ssd_meta_arch_test.py to ssd_meta_arch_test.cpython-39.pyc\n",
      "byte-compiling build\\bdist.win-amd64\\egg\\object_detection\\meta_architectures\\ssd_meta_arch_test_lib.py to ssd_meta_arch_test_lib.cpython-39.pyc\n",
      "byte-compiling build\\bdist.win-amd64\\egg\\object_detection\\meta_architectures\\__init__.py to __init__.cpython-39.pyc\n",
      "byte-compiling build\\bdist.win-amd64\\egg\\object_detection\\metrics\\calibration_evaluation.py to calibration_evaluation.cpython-39.pyc\n",
      "byte-compiling build\\bdist.win-amd64\\egg\\object_detection\\metrics\\calibration_evaluation_tf1_test.py to calibration_evaluation_tf1_test.cpython-39.pyc\n",
      "byte-compiling build\\bdist.win-amd64\\egg\\object_detection\\metrics\\calibration_metrics.py to calibration_metrics.cpython-39.pyc\n",
      "byte-compiling build\\bdist.win-amd64\\egg\\object_detection\\metrics\\calibration_metrics_tf1_test.py to calibration_metrics_tf1_test.cpython-39.pyc\n",
      "byte-compiling build\\bdist.win-amd64\\egg\\object_detection\\metrics\\coco_evaluation.py to coco_evaluation.cpython-39.pyc\n",
      "byte-compiling build\\bdist.win-amd64\\egg\\object_detection\\metrics\\coco_evaluation_test.py to coco_evaluation_test.cpython-39.pyc\n",
      "byte-compiling build\\bdist.win-amd64\\egg\\object_detection\\metrics\\coco_tools.py to coco_tools.cpython-39.pyc\n",
      "byte-compiling build\\bdist.win-amd64\\egg\\object_detection\\metrics\\coco_tools_test.py to coco_tools_test.cpython-39.pyc\n",
      "byte-compiling build\\bdist.win-amd64\\egg\\object_detection\\metrics\\io_utils.py to io_utils.cpython-39.pyc\n",
      "byte-compiling build\\bdist.win-amd64\\egg\\object_detection\\metrics\\lvis_evaluation.py to lvis_evaluation.cpython-39.pyc\n",
      "byte-compiling build\\bdist.win-amd64\\egg\\object_detection\\metrics\\lvis_evaluation_test.py to lvis_evaluation_test.cpython-39.pyc\n",
      "byte-compiling build\\bdist.win-amd64\\egg\\object_detection\\metrics\\lvis_tools.py to lvis_tools.cpython-39.pyc\n",
      "byte-compiling build\\bdist.win-amd64\\egg\\object_detection\\metrics\\lvis_tools_test.py to lvis_tools_test.cpython-39.pyc\n",
      "byte-compiling build\\bdist.win-amd64\\egg\\object_detection\\metrics\\offline_eval_map_corloc.py to offline_eval_map_corloc.cpython-39.pyc\n",
      "byte-compiling build\\bdist.win-amd64\\egg\\object_detection\\metrics\\offline_eval_map_corloc_test.py to offline_eval_map_corloc_test.cpython-39.pyc\n",
      "byte-compiling build\\bdist.win-amd64\\egg\\object_detection\\metrics\\oid_challenge_evaluation.py to oid_challenge_evaluation.cpython-39.pyc\n",
      "byte-compiling build\\bdist.win-amd64\\egg\\object_detection\\metrics\\oid_challenge_evaluation_utils.py to oid_challenge_evaluation_utils.cpython-39.pyc\n",
      "byte-compiling build\\bdist.win-amd64\\egg\\object_detection\\metrics\\oid_challenge_evaluation_utils_test.py to oid_challenge_evaluation_utils_test.cpython-39.pyc\n",
      "byte-compiling build\\bdist.win-amd64\\egg\\object_detection\\metrics\\oid_vrd_challenge_evaluation.py to oid_vrd_challenge_evaluation.cpython-39.pyc\n",
      "byte-compiling build\\bdist.win-amd64\\egg\\object_detection\\metrics\\oid_vrd_challenge_evaluation_utils.py to oid_vrd_challenge_evaluation_utils.cpython-39.pyc\n",
      "byte-compiling build\\bdist.win-amd64\\egg\\object_detection\\metrics\\oid_vrd_challenge_evaluation_utils_test.py to oid_vrd_challenge_evaluation_utils_test.cpython-39.pyc\n",
      "byte-compiling build\\bdist.win-amd64\\egg\\object_detection\\metrics\\tf_example_parser.py to tf_example_parser.cpython-39.pyc\n",
      "byte-compiling build\\bdist.win-amd64\\egg\\object_detection\\metrics\\tf_example_parser_test.py to tf_example_parser_test.cpython-39.pyc\n",
      "byte-compiling build\\bdist.win-amd64\\egg\\object_detection\\metrics\\__init__.py to __init__.cpython-39.pyc\n",
      "byte-compiling build\\bdist.win-amd64\\egg\\object_detection\\models\\bidirectional_feature_pyramid_generators.py to bidirectional_feature_pyramid_generators.cpython-39.pyc\n",
      "byte-compiling build\\bdist.win-amd64\\egg\\object_detection\\models\\bidirectional_feature_pyramid_generators_tf2_test.py to bidirectional_feature_pyramid_generators_tf2_test.cpython-39.pyc\n",
      "byte-compiling build\\bdist.win-amd64\\egg\\object_detection\\models\\center_net_hourglass_feature_extractor.py to center_net_hourglass_feature_extractor.cpython-39.pyc\n",
      "byte-compiling build\\bdist.win-amd64\\egg\\object_detection\\models\\center_net_hourglass_feature_extractor_tf2_test.py to center_net_hourglass_feature_extractor_tf2_test.cpython-39.pyc\n",
      "byte-compiling build\\bdist.win-amd64\\egg\\object_detection\\models\\center_net_mobilenet_v2_feature_extractor.py to center_net_mobilenet_v2_feature_extractor.cpython-39.pyc\n",
      "byte-compiling build\\bdist.win-amd64\\egg\\object_detection\\models\\center_net_mobilenet_v2_feature_extractor_tf2_test.py to center_net_mobilenet_v2_feature_extractor_tf2_test.cpython-39.pyc\n",
      "byte-compiling build\\bdist.win-amd64\\egg\\object_detection\\models\\center_net_mobilenet_v2_fpn_feature_extractor.py to center_net_mobilenet_v2_fpn_feature_extractor.cpython-39.pyc\n",
      "byte-compiling build\\bdist.win-amd64\\egg\\object_detection\\models\\center_net_mobilenet_v2_fpn_feature_extractor_tf2_test.py to center_net_mobilenet_v2_fpn_feature_extractor_tf2_test.cpython-39.pyc\n",
      "byte-compiling build\\bdist.win-amd64\\egg\\object_detection\\models\\center_net_resnet_feature_extractor.py to center_net_resnet_feature_extractor.cpython-39.pyc\n",
      "byte-compiling build\\bdist.win-amd64\\egg\\object_detection\\models\\center_net_resnet_feature_extractor_tf2_test.py to center_net_resnet_feature_extractor_tf2_test.cpython-39.pyc\n",
      "byte-compiling build\\bdist.win-amd64\\egg\\object_detection\\models\\center_net_resnet_v1_fpn_feature_extractor.py to center_net_resnet_v1_fpn_feature_extractor.cpython-39.pyc\n",
      "byte-compiling build\\bdist.win-amd64\\egg\\object_detection\\models\\center_net_resnet_v1_fpn_feature_extractor_tf2_test.py to center_net_resnet_v1_fpn_feature_extractor_tf2_test.cpython-39.pyc\n",
      "byte-compiling build\\bdist.win-amd64\\egg\\object_detection\\models\\embedded_ssd_mobilenet_v1_feature_extractor.py to embedded_ssd_mobilenet_v1_feature_extractor.cpython-39.pyc\n",
      "byte-compiling build\\bdist.win-amd64\\egg\\object_detection\\models\\embedded_ssd_mobilenet_v1_feature_extractor_tf1_test.py to embedded_ssd_mobilenet_v1_feature_extractor_tf1_test.cpython-39.pyc\n",
      "byte-compiling build\\bdist.win-amd64\\egg\\object_detection\\models\\faster_rcnn_inception_resnet_v2_feature_extractor.py to faster_rcnn_inception_resnet_v2_feature_extractor.cpython-39.pyc\n",
      "byte-compiling build\\bdist.win-amd64\\egg\\object_detection\\models\\faster_rcnn_inception_resnet_v2_feature_extractor_tf1_test.py to faster_rcnn_inception_resnet_v2_feature_extractor_tf1_test.cpython-39.pyc\n",
      "byte-compiling build\\bdist.win-amd64\\egg\\object_detection\\models\\faster_rcnn_inception_resnet_v2_keras_feature_extractor.py to faster_rcnn_inception_resnet_v2_keras_feature_extractor.cpython-39.pyc\n",
      "byte-compiling build\\bdist.win-amd64\\egg\\object_detection\\models\\faster_rcnn_inception_resnet_v2_keras_feature_extractor_tf2_test.py to faster_rcnn_inception_resnet_v2_keras_feature_extractor_tf2_test.cpython-39.pyc\n",
      "byte-compiling build\\bdist.win-amd64\\egg\\object_detection\\models\\faster_rcnn_inception_v2_feature_extractor.py to faster_rcnn_inception_v2_feature_extractor.cpython-39.pyc\n",
      "byte-compiling build\\bdist.win-amd64\\egg\\object_detection\\models\\faster_rcnn_inception_v2_feature_extractor_tf1_test.py to faster_rcnn_inception_v2_feature_extractor_tf1_test.cpython-39.pyc\n",
      "byte-compiling build\\bdist.win-amd64\\egg\\object_detection\\models\\faster_rcnn_mobilenet_v1_feature_extractor.py to faster_rcnn_mobilenet_v1_feature_extractor.cpython-39.pyc\n",
      "byte-compiling build\\bdist.win-amd64\\egg\\object_detection\\models\\faster_rcnn_mobilenet_v1_feature_extractor_tf1_test.py to faster_rcnn_mobilenet_v1_feature_extractor_tf1_test.cpython-39.pyc\n",
      "byte-compiling build\\bdist.win-amd64\\egg\\object_detection\\models\\faster_rcnn_nas_feature_extractor.py to faster_rcnn_nas_feature_extractor.cpython-39.pyc\n",
      "byte-compiling build\\bdist.win-amd64\\egg\\object_detection\\models\\faster_rcnn_nas_feature_extractor_tf1_test.py to faster_rcnn_nas_feature_extractor_tf1_test.cpython-39.pyc\n",
      "byte-compiling build\\bdist.win-amd64\\egg\\object_detection\\models\\faster_rcnn_pnas_feature_extractor.py to faster_rcnn_pnas_feature_extractor.cpython-39.pyc\n",
      "byte-compiling build\\bdist.win-amd64\\egg\\object_detection\\models\\faster_rcnn_pnas_feature_extractor_tf1_test.py to faster_rcnn_pnas_feature_extractor_tf1_test.cpython-39.pyc\n",
      "byte-compiling build\\bdist.win-amd64\\egg\\object_detection\\models\\faster_rcnn_resnet_keras_feature_extractor.py to faster_rcnn_resnet_keras_feature_extractor.cpython-39.pyc\n",
      "byte-compiling build\\bdist.win-amd64\\egg\\object_detection\\models\\faster_rcnn_resnet_keras_feature_extractor_tf2_test.py to faster_rcnn_resnet_keras_feature_extractor_tf2_test.cpython-39.pyc\n",
      "byte-compiling build\\bdist.win-amd64\\egg\\object_detection\\models\\faster_rcnn_resnet_v1_feature_extractor.py to faster_rcnn_resnet_v1_feature_extractor.cpython-39.pyc\n",
      "byte-compiling build\\bdist.win-amd64\\egg\\object_detection\\models\\faster_rcnn_resnet_v1_feature_extractor_tf1_test.py to faster_rcnn_resnet_v1_feature_extractor_tf1_test.cpython-39.pyc\n",
      "byte-compiling build\\bdist.win-amd64\\egg\\object_detection\\models\\faster_rcnn_resnet_v1_fpn_keras_feature_extractor.py to faster_rcnn_resnet_v1_fpn_keras_feature_extractor.cpython-39.pyc\n",
      "byte-compiling build\\bdist.win-amd64\\egg\\object_detection\\models\\faster_rcnn_resnet_v1_fpn_keras_feature_extractor_tf2_test.py to faster_rcnn_resnet_v1_fpn_keras_feature_extractor_tf2_test.cpython-39.pyc\n",
      "byte-compiling build\\bdist.win-amd64\\egg\\object_detection\\models\\feature_map_generators.py to feature_map_generators.cpython-39.pyc\n",
      "byte-compiling build\\bdist.win-amd64\\egg\\object_detection\\models\\feature_map_generators_test.py to feature_map_generators_test.cpython-39.pyc\n",
      "byte-compiling build\\bdist.win-amd64\\egg\\object_detection\\models\\keras_models\\convert_keras_models.py to convert_keras_models.cpython-39.pyc\n",
      "byte-compiling build\\bdist.win-amd64\\egg\\object_detection\\models\\keras_models\\hourglass_network.py to hourglass_network.cpython-39.pyc\n",
      "byte-compiling build\\bdist.win-amd64\\egg\\object_detection\\models\\keras_models\\hourglass_network_tf2_test.py to hourglass_network_tf2_test.cpython-39.pyc\n",
      "byte-compiling build\\bdist.win-amd64\\egg\\object_detection\\models\\keras_models\\inception_resnet_v2.py to inception_resnet_v2.cpython-39.pyc\n",
      "byte-compiling build\\bdist.win-amd64\\egg\\object_detection\\models\\keras_models\\inception_resnet_v2_tf2_test.py to inception_resnet_v2_tf2_test.cpython-39.pyc\n",
      "byte-compiling build\\bdist.win-amd64\\egg\\object_detection\\models\\keras_models\\mobilenet_v1.py to mobilenet_v1.cpython-39.pyc\n",
      "byte-compiling build\\bdist.win-amd64\\egg\\object_detection\\models\\keras_models\\mobilenet_v1_tf2_test.py to mobilenet_v1_tf2_test.cpython-39.pyc\n",
      "byte-compiling build\\bdist.win-amd64\\egg\\object_detection\\models\\keras_models\\mobilenet_v2.py to mobilenet_v2.cpython-39.pyc\n",
      "byte-compiling build\\bdist.win-amd64\\egg\\object_detection\\models\\keras_models\\mobilenet_v2_tf2_test.py to mobilenet_v2_tf2_test.cpython-39.pyc\n",
      "byte-compiling build\\bdist.win-amd64\\egg\\object_detection\\models\\keras_models\\model_utils.py to model_utils.cpython-39.pyc\n",
      "byte-compiling build\\bdist.win-amd64\\egg\\object_detection\\models\\keras_models\\nonlocal_block.py to nonlocal_block.cpython-39.pyc\n",
      "byte-compiling build\\bdist.win-amd64\\egg\\object_detection\\models\\keras_models\\nonlocal_block_tf2_test.py to nonlocal_block_tf2_test.cpython-39.pyc\n",
      "byte-compiling build\\bdist.win-amd64\\egg\\object_detection\\models\\keras_models\\resnet_v1.py to resnet_v1.cpython-39.pyc\n",
      "byte-compiling build\\bdist.win-amd64\\egg\\object_detection\\models\\keras_models\\resnet_v1_tf2_test.py to resnet_v1_tf2_test.cpython-39.pyc\n",
      "byte-compiling build\\bdist.win-amd64\\egg\\object_detection\\models\\keras_models\\test_utils.py to test_utils.cpython-39.pyc\n",
      "byte-compiling build\\bdist.win-amd64\\egg\\object_detection\\models\\keras_models\\__init__.py to __init__.cpython-39.pyc\n",
      "byte-compiling build\\bdist.win-amd64\\egg\\object_detection\\models\\ssd_efficientnet_bifpn_feature_extractor.py to ssd_efficientnet_bifpn_feature_extractor.cpython-39.pyc\n",
      "byte-compiling build\\bdist.win-amd64\\egg\\object_detection\\models\\ssd_efficientnet_bifpn_feature_extractor_tf2_test.py to ssd_efficientnet_bifpn_feature_extractor_tf2_test.cpython-39.pyc\n",
      "byte-compiling build\\bdist.win-amd64\\egg\\object_detection\\models\\ssd_feature_extractor_test.py to ssd_feature_extractor_test.cpython-39.pyc\n",
      "byte-compiling build\\bdist.win-amd64\\egg\\object_detection\\models\\ssd_inception_v2_feature_extractor.py to ssd_inception_v2_feature_extractor.cpython-39.pyc\n",
      "byte-compiling build\\bdist.win-amd64\\egg\\object_detection\\models\\ssd_inception_v2_feature_extractor_tf1_test.py to ssd_inception_v2_feature_extractor_tf1_test.cpython-39.pyc\n",
      "byte-compiling build\\bdist.win-amd64\\egg\\object_detection\\models\\ssd_inception_v3_feature_extractor.py to ssd_inception_v3_feature_extractor.cpython-39.pyc\n",
      "byte-compiling build\\bdist.win-amd64\\egg\\object_detection\\models\\ssd_inception_v3_feature_extractor_tf1_test.py to ssd_inception_v3_feature_extractor_tf1_test.cpython-39.pyc\n",
      "byte-compiling build\\bdist.win-amd64\\egg\\object_detection\\models\\ssd_mobiledet_feature_extractor.py to ssd_mobiledet_feature_extractor.cpython-39.pyc\n",
      "byte-compiling build\\bdist.win-amd64\\egg\\object_detection\\models\\ssd_mobiledet_feature_extractor_tf1_test.py to ssd_mobiledet_feature_extractor_tf1_test.cpython-39.pyc\n",
      "byte-compiling build\\bdist.win-amd64\\egg\\object_detection\\models\\ssd_mobilenet_edgetpu_feature_extractor.py to ssd_mobilenet_edgetpu_feature_extractor.cpython-39.pyc\n",
      "byte-compiling build\\bdist.win-amd64\\egg\\object_detection\\models\\ssd_mobilenet_edgetpu_feature_extractor_testbase.py to ssd_mobilenet_edgetpu_feature_extractor_testbase.cpython-39.pyc\n",
      "byte-compiling build\\bdist.win-amd64\\egg\\object_detection\\models\\ssd_mobilenet_edgetpu_feature_extractor_tf1_test.py to ssd_mobilenet_edgetpu_feature_extractor_tf1_test.cpython-39.pyc\n",
      "byte-compiling build\\bdist.win-amd64\\egg\\object_detection\\models\\ssd_mobilenet_v1_feature_extractor.py to ssd_mobilenet_v1_feature_extractor.cpython-39.pyc\n",
      "byte-compiling build\\bdist.win-amd64\\egg\\object_detection\\models\\ssd_mobilenet_v1_feature_extractor_tf1_test.py to ssd_mobilenet_v1_feature_extractor_tf1_test.cpython-39.pyc\n",
      "byte-compiling build\\bdist.win-amd64\\egg\\object_detection\\models\\ssd_mobilenet_v1_feature_extractor_tf2_test.py to ssd_mobilenet_v1_feature_extractor_tf2_test.cpython-39.pyc\n",
      "byte-compiling build\\bdist.win-amd64\\egg\\object_detection\\models\\ssd_mobilenet_v1_fpn_feature_extractor.py to ssd_mobilenet_v1_fpn_feature_extractor.cpython-39.pyc\n",
      "byte-compiling build\\bdist.win-amd64\\egg\\object_detection\\models\\ssd_mobilenet_v1_fpn_feature_extractor_tf1_test.py to ssd_mobilenet_v1_fpn_feature_extractor_tf1_test.cpython-39.pyc\n",
      "byte-compiling build\\bdist.win-amd64\\egg\\object_detection\\models\\ssd_mobilenet_v1_fpn_feature_extractor_tf2_test.py to ssd_mobilenet_v1_fpn_feature_extractor_tf2_test.cpython-39.pyc\n",
      "byte-compiling build\\bdist.win-amd64\\egg\\object_detection\\models\\ssd_mobilenet_v1_fpn_keras_feature_extractor.py to ssd_mobilenet_v1_fpn_keras_feature_extractor.cpython-39.pyc\n",
      "byte-compiling build\\bdist.win-amd64\\egg\\object_detection\\models\\ssd_mobilenet_v1_keras_feature_extractor.py to ssd_mobilenet_v1_keras_feature_extractor.cpython-39.pyc\n",
      "byte-compiling build\\bdist.win-amd64\\egg\\object_detection\\models\\ssd_mobilenet_v1_ppn_feature_extractor.py to ssd_mobilenet_v1_ppn_feature_extractor.cpython-39.pyc\n",
      "byte-compiling build\\bdist.win-amd64\\egg\\object_detection\\models\\ssd_mobilenet_v1_ppn_feature_extractor_tf1_test.py to ssd_mobilenet_v1_ppn_feature_extractor_tf1_test.cpython-39.pyc\n",
      "byte-compiling build\\bdist.win-amd64\\egg\\object_detection\\models\\ssd_mobilenet_v2_feature_extractor.py to ssd_mobilenet_v2_feature_extractor.cpython-39.pyc\n",
      "byte-compiling build\\bdist.win-amd64\\egg\\object_detection\\models\\ssd_mobilenet_v2_feature_extractor_tf1_test.py to ssd_mobilenet_v2_feature_extractor_tf1_test.cpython-39.pyc\n",
      "byte-compiling build\\bdist.win-amd64\\egg\\object_detection\\models\\ssd_mobilenet_v2_feature_extractor_tf2_test.py to ssd_mobilenet_v2_feature_extractor_tf2_test.cpython-39.pyc\n",
      "byte-compiling build\\bdist.win-amd64\\egg\\object_detection\\models\\ssd_mobilenet_v2_fpn_feature_extractor.py to ssd_mobilenet_v2_fpn_feature_extractor.cpython-39.pyc\n",
      "byte-compiling build\\bdist.win-amd64\\egg\\object_detection\\models\\ssd_mobilenet_v2_fpn_feature_extractor_tf1_test.py to ssd_mobilenet_v2_fpn_feature_extractor_tf1_test.cpython-39.pyc\n",
      "byte-compiling build\\bdist.win-amd64\\egg\\object_detection\\models\\ssd_mobilenet_v2_fpn_feature_extractor_tf2_test.py to ssd_mobilenet_v2_fpn_feature_extractor_tf2_test.cpython-39.pyc\n",
      "byte-compiling build\\bdist.win-amd64\\egg\\object_detection\\models\\ssd_mobilenet_v2_fpn_keras_feature_extractor.py to ssd_mobilenet_v2_fpn_keras_feature_extractor.cpython-39.pyc\n",
      "byte-compiling build\\bdist.win-amd64\\egg\\object_detection\\models\\ssd_mobilenet_v2_keras_feature_extractor.py to ssd_mobilenet_v2_keras_feature_extractor.cpython-39.pyc\n",
      "byte-compiling build\\bdist.win-amd64\\egg\\object_detection\\models\\ssd_mobilenet_v2_mnasfpn_feature_extractor.py to ssd_mobilenet_v2_mnasfpn_feature_extractor.cpython-39.pyc\n",
      "byte-compiling build\\bdist.win-amd64\\egg\\object_detection\\models\\ssd_mobilenet_v2_mnasfpn_feature_extractor_tf1_test.py to ssd_mobilenet_v2_mnasfpn_feature_extractor_tf1_test.cpython-39.pyc\n",
      "byte-compiling build\\bdist.win-amd64\\egg\\object_detection\\models\\ssd_mobilenet_v3_feature_extractor.py to ssd_mobilenet_v3_feature_extractor.cpython-39.pyc\n",
      "byte-compiling build\\bdist.win-amd64\\egg\\object_detection\\models\\ssd_mobilenet_v3_feature_extractor_testbase.py to ssd_mobilenet_v3_feature_extractor_testbase.cpython-39.pyc\n",
      "byte-compiling build\\bdist.win-amd64\\egg\\object_detection\\models\\ssd_mobilenet_v3_feature_extractor_tf1_test.py to ssd_mobilenet_v3_feature_extractor_tf1_test.cpython-39.pyc\n",
      "byte-compiling build\\bdist.win-amd64\\egg\\object_detection\\models\\ssd_pnasnet_feature_extractor.py to ssd_pnasnet_feature_extractor.cpython-39.pyc\n",
      "byte-compiling build\\bdist.win-amd64\\egg\\object_detection\\models\\ssd_pnasnet_feature_extractor_tf1_test.py to ssd_pnasnet_feature_extractor_tf1_test.cpython-39.pyc\n",
      "byte-compiling build\\bdist.win-amd64\\egg\\object_detection\\models\\ssd_resnet_v1_fpn_feature_extractor.py to ssd_resnet_v1_fpn_feature_extractor.cpython-39.pyc\n",
      "byte-compiling build\\bdist.win-amd64\\egg\\object_detection\\models\\ssd_resnet_v1_fpn_feature_extractor_testbase.py to ssd_resnet_v1_fpn_feature_extractor_testbase.cpython-39.pyc\n",
      "byte-compiling build\\bdist.win-amd64\\egg\\object_detection\\models\\ssd_resnet_v1_fpn_feature_extractor_tf1_test.py to ssd_resnet_v1_fpn_feature_extractor_tf1_test.cpython-39.pyc\n",
      "byte-compiling build\\bdist.win-amd64\\egg\\object_detection\\models\\ssd_resnet_v1_fpn_feature_extractor_tf2_test.py to ssd_resnet_v1_fpn_feature_extractor_tf2_test.cpython-39.pyc\n",
      "byte-compiling build\\bdist.win-amd64\\egg\\object_detection\\models\\ssd_resnet_v1_fpn_keras_feature_extractor.py to ssd_resnet_v1_fpn_keras_feature_extractor.cpython-39.pyc\n",
      "byte-compiling build\\bdist.win-amd64\\egg\\object_detection\\models\\ssd_resnet_v1_ppn_feature_extractor.py to ssd_resnet_v1_ppn_feature_extractor.cpython-39.pyc\n",
      "byte-compiling build\\bdist.win-amd64\\egg\\object_detection\\models\\ssd_resnet_v1_ppn_feature_extractor_testbase.py to ssd_resnet_v1_ppn_feature_extractor_testbase.cpython-39.pyc\n",
      "byte-compiling build\\bdist.win-amd64\\egg\\object_detection\\models\\ssd_resnet_v1_ppn_feature_extractor_tf1_test.py to ssd_resnet_v1_ppn_feature_extractor_tf1_test.cpython-39.pyc\n",
      "byte-compiling build\\bdist.win-amd64\\egg\\object_detection\\models\\ssd_spaghettinet_feature_extractor.py to ssd_spaghettinet_feature_extractor.cpython-39.pyc\n",
      "byte-compiling build\\bdist.win-amd64\\egg\\object_detection\\models\\ssd_spaghettinet_feature_extractor_tf1_test.py to ssd_spaghettinet_feature_extractor_tf1_test.cpython-39.pyc\n",
      "byte-compiling build\\bdist.win-amd64\\egg\\object_detection\\models\\__init__.py to __init__.cpython-39.pyc\n",
      "byte-compiling build\\bdist.win-amd64\\egg\\object_detection\\model_hparams.py to model_hparams.cpython-39.pyc\n",
      "byte-compiling build\\bdist.win-amd64\\egg\\object_detection\\model_lib.py to model_lib.cpython-39.pyc\n",
      "byte-compiling build\\bdist.win-amd64\\egg\\object_detection\\model_lib_tf1_test.py to model_lib_tf1_test.cpython-39.pyc\n",
      "byte-compiling build\\bdist.win-amd64\\egg\\object_detection\\model_lib_tf2_test.py to model_lib_tf2_test.cpython-39.pyc\n",
      "byte-compiling build\\bdist.win-amd64\\egg\\object_detection\\model_lib_v2.py to model_lib_v2.cpython-39.pyc\n",
      "byte-compiling build\\bdist.win-amd64\\egg\\object_detection\\model_main.py to model_main.cpython-39.pyc\n",
      "byte-compiling build\\bdist.win-amd64\\egg\\object_detection\\model_main_tf2.py to model_main_tf2.cpython-39.pyc\n",
      "byte-compiling build\\bdist.win-amd64\\egg\\object_detection\\model_tpu_main.py to model_tpu_main.cpython-39.pyc\n",
      "byte-compiling build\\bdist.win-amd64\\egg\\object_detection\\predictors\\convolutional_box_predictor.py to convolutional_box_predictor.cpython-39.pyc\n",
      "byte-compiling build\\bdist.win-amd64\\egg\\object_detection\\predictors\\convolutional_box_predictor_tf1_test.py to convolutional_box_predictor_tf1_test.cpython-39.pyc\n",
      "byte-compiling build\\bdist.win-amd64\\egg\\object_detection\\predictors\\convolutional_keras_box_predictor.py to convolutional_keras_box_predictor.cpython-39.pyc\n",
      "byte-compiling build\\bdist.win-amd64\\egg\\object_detection\\predictors\\convolutional_keras_box_predictor_tf2_test.py to convolutional_keras_box_predictor_tf2_test.cpython-39.pyc\n",
      "byte-compiling build\\bdist.win-amd64\\egg\\object_detection\\predictors\\heads\\box_head.py to box_head.cpython-39.pyc\n",
      "byte-compiling build\\bdist.win-amd64\\egg\\object_detection\\predictors\\heads\\box_head_tf1_test.py to box_head_tf1_test.cpython-39.pyc\n",
      "byte-compiling build\\bdist.win-amd64\\egg\\object_detection\\predictors\\heads\\class_head.py to class_head.cpython-39.pyc\n",
      "byte-compiling build\\bdist.win-amd64\\egg\\object_detection\\predictors\\heads\\class_head_tf1_test.py to class_head_tf1_test.cpython-39.pyc\n",
      "byte-compiling build\\bdist.win-amd64\\egg\\object_detection\\predictors\\heads\\head.py to head.cpython-39.pyc\n",
      "byte-compiling build\\bdist.win-amd64\\egg\\object_detection\\predictors\\heads\\keras_box_head.py to keras_box_head.cpython-39.pyc\n",
      "byte-compiling build\\bdist.win-amd64\\egg\\object_detection\\predictors\\heads\\keras_box_head_tf2_test.py to keras_box_head_tf2_test.cpython-39.pyc\n",
      "byte-compiling build\\bdist.win-amd64\\egg\\object_detection\\predictors\\heads\\keras_class_head.py to keras_class_head.cpython-39.pyc\n",
      "byte-compiling build\\bdist.win-amd64\\egg\\object_detection\\predictors\\heads\\keras_class_head_tf2_test.py to keras_class_head_tf2_test.cpython-39.pyc\n",
      "byte-compiling build\\bdist.win-amd64\\egg\\object_detection\\predictors\\heads\\keras_mask_head.py to keras_mask_head.cpython-39.pyc\n",
      "byte-compiling build\\bdist.win-amd64\\egg\\object_detection\\predictors\\heads\\keras_mask_head_tf2_test.py to keras_mask_head_tf2_test.cpython-39.pyc\n",
      "byte-compiling build\\bdist.win-amd64\\egg\\object_detection\\predictors\\heads\\keypoint_head.py to keypoint_head.cpython-39.pyc\n",
      "byte-compiling build\\bdist.win-amd64\\egg\\object_detection\\predictors\\heads\\keypoint_head_tf1_test.py to keypoint_head_tf1_test.cpython-39.pyc\n",
      "byte-compiling build\\bdist.win-amd64\\egg\\object_detection\\predictors\\heads\\mask_head.py to mask_head.cpython-39.pyc\n",
      "byte-compiling build\\bdist.win-amd64\\egg\\object_detection\\predictors\\heads\\mask_head_tf1_test.py to mask_head_tf1_test.cpython-39.pyc\n",
      "byte-compiling build\\bdist.win-amd64\\egg\\object_detection\\predictors\\heads\\__init__.py to __init__.cpython-39.pyc\n",
      "byte-compiling build\\bdist.win-amd64\\egg\\object_detection\\predictors\\mask_rcnn_box_predictor.py to mask_rcnn_box_predictor.cpython-39.pyc\n",
      "byte-compiling build\\bdist.win-amd64\\egg\\object_detection\\predictors\\mask_rcnn_box_predictor_tf1_test.py to mask_rcnn_box_predictor_tf1_test.cpython-39.pyc\n",
      "byte-compiling build\\bdist.win-amd64\\egg\\object_detection\\predictors\\mask_rcnn_keras_box_predictor.py to mask_rcnn_keras_box_predictor.cpython-39.pyc\n",
      "byte-compiling build\\bdist.win-amd64\\egg\\object_detection\\predictors\\mask_rcnn_keras_box_predictor_tf2_test.py to mask_rcnn_keras_box_predictor_tf2_test.cpython-39.pyc\n",
      "byte-compiling build\\bdist.win-amd64\\egg\\object_detection\\predictors\\rfcn_box_predictor.py to rfcn_box_predictor.cpython-39.pyc\n",
      "byte-compiling build\\bdist.win-amd64\\egg\\object_detection\\predictors\\rfcn_box_predictor_tf1_test.py to rfcn_box_predictor_tf1_test.cpython-39.pyc\n",
      "byte-compiling build\\bdist.win-amd64\\egg\\object_detection\\predictors\\rfcn_keras_box_predictor.py to rfcn_keras_box_predictor.cpython-39.pyc\n",
      "byte-compiling build\\bdist.win-amd64\\egg\\object_detection\\predictors\\rfcn_keras_box_predictor_tf2_test.py to rfcn_keras_box_predictor_tf2_test.cpython-39.pyc\n",
      "byte-compiling build\\bdist.win-amd64\\egg\\object_detection\\predictors\\__init__.py to __init__.cpython-39.pyc\n",
      "byte-compiling build\\bdist.win-amd64\\egg\\object_detection\\protos\\anchor_generator_pb2.py to anchor_generator_pb2.cpython-39.pyc\n",
      "byte-compiling build\\bdist.win-amd64\\egg\\object_detection\\protos\\argmax_matcher_pb2.py to argmax_matcher_pb2.cpython-39.pyc\n",
      "byte-compiling build\\bdist.win-amd64\\egg\\object_detection\\protos\\bipartite_matcher_pb2.py to bipartite_matcher_pb2.cpython-39.pyc\n",
      "byte-compiling build\\bdist.win-amd64\\egg\\object_detection\\protos\\box_coder_pb2.py to box_coder_pb2.cpython-39.pyc\n",
      "byte-compiling build\\bdist.win-amd64\\egg\\object_detection\\protos\\box_predictor_pb2.py to box_predictor_pb2.cpython-39.pyc\n",
      "byte-compiling build\\bdist.win-amd64\\egg\\object_detection\\protos\\calibration_pb2.py to calibration_pb2.cpython-39.pyc\n",
      "byte-compiling build\\bdist.win-amd64\\egg\\object_detection\\protos\\center_net_pb2.py to center_net_pb2.cpython-39.pyc\n",
      "byte-compiling build\\bdist.win-amd64\\egg\\object_detection\\protos\\eval_pb2.py to eval_pb2.cpython-39.pyc\n",
      "byte-compiling build\\bdist.win-amd64\\egg\\object_detection\\protos\\faster_rcnn_box_coder_pb2.py to faster_rcnn_box_coder_pb2.cpython-39.pyc\n",
      "byte-compiling build\\bdist.win-amd64\\egg\\object_detection\\protos\\faster_rcnn_pb2.py to faster_rcnn_pb2.cpython-39.pyc\n",
      "byte-compiling build\\bdist.win-amd64\\egg\\object_detection\\protos\\flexible_grid_anchor_generator_pb2.py to flexible_grid_anchor_generator_pb2.cpython-39.pyc\n",
      "byte-compiling build\\bdist.win-amd64\\egg\\object_detection\\protos\\fpn_pb2.py to fpn_pb2.cpython-39.pyc\n",
      "byte-compiling build\\bdist.win-amd64\\egg\\object_detection\\protos\\graph_rewriter_pb2.py to graph_rewriter_pb2.cpython-39.pyc\n",
      "byte-compiling build\\bdist.win-amd64\\egg\\object_detection\\protos\\grid_anchor_generator_pb2.py to grid_anchor_generator_pb2.cpython-39.pyc\n",
      "byte-compiling build\\bdist.win-amd64\\egg\\object_detection\\protos\\hyperparams_pb2.py to hyperparams_pb2.cpython-39.pyc\n",
      "byte-compiling build\\bdist.win-amd64\\egg\\object_detection\\protos\\image_resizer_pb2.py to image_resizer_pb2.cpython-39.pyc\n",
      "byte-compiling build\\bdist.win-amd64\\egg\\object_detection\\protos\\input_reader_pb2.py to input_reader_pb2.cpython-39.pyc\n",
      "byte-compiling build\\bdist.win-amd64\\egg\\object_detection\\protos\\keypoint_box_coder_pb2.py to keypoint_box_coder_pb2.cpython-39.pyc\n",
      "byte-compiling build\\bdist.win-amd64\\egg\\object_detection\\protos\\losses_pb2.py to losses_pb2.cpython-39.pyc\n",
      "byte-compiling build\\bdist.win-amd64\\egg\\object_detection\\protos\\matcher_pb2.py to matcher_pb2.cpython-39.pyc\n",
      "byte-compiling build\\bdist.win-amd64\\egg\\object_detection\\protos\\mean_stddev_box_coder_pb2.py to mean_stddev_box_coder_pb2.cpython-39.pyc\n",
      "byte-compiling build\\bdist.win-amd64\\egg\\object_detection\\protos\\model_pb2.py to model_pb2.cpython-39.pyc\n",
      "byte-compiling build\\bdist.win-amd64\\egg\\object_detection\\protos\\multiscale_anchor_generator_pb2.py to multiscale_anchor_generator_pb2.cpython-39.pyc\n",
      "byte-compiling build\\bdist.win-amd64\\egg\\object_detection\\protos\\optimizer_pb2.py to optimizer_pb2.cpython-39.pyc\n",
      "byte-compiling build\\bdist.win-amd64\\egg\\object_detection\\protos\\pipeline_pb2.py to pipeline_pb2.cpython-39.pyc\n",
      "byte-compiling build\\bdist.win-amd64\\egg\\object_detection\\protos\\post_processing_pb2.py to post_processing_pb2.cpython-39.pyc\n",
      "byte-compiling build\\bdist.win-amd64\\egg\\object_detection\\protos\\preprocessor_pb2.py to preprocessor_pb2.cpython-39.pyc\n",
      "byte-compiling build\\bdist.win-amd64\\egg\\object_detection\\protos\\region_similarity_calculator_pb2.py to region_similarity_calculator_pb2.cpython-39.pyc\n",
      "byte-compiling build\\bdist.win-amd64\\egg\\object_detection\\protos\\square_box_coder_pb2.py to square_box_coder_pb2.cpython-39.pyc\n",
      "byte-compiling build\\bdist.win-amd64\\egg\\object_detection\\protos\\ssd_anchor_generator_pb2.py to ssd_anchor_generator_pb2.cpython-39.pyc\n",
      "byte-compiling build\\bdist.win-amd64\\egg\\object_detection\\protos\\ssd_pb2.py to ssd_pb2.cpython-39.pyc\n",
      "byte-compiling build\\bdist.win-amd64\\egg\\object_detection\\protos\\string_int_label_map_pb2.py to string_int_label_map_pb2.cpython-39.pyc\n",
      "byte-compiling build\\bdist.win-amd64\\egg\\object_detection\\protos\\target_assigner_pb2.py to target_assigner_pb2.cpython-39.pyc\n",
      "byte-compiling build\\bdist.win-amd64\\egg\\object_detection\\protos\\train_pb2.py to train_pb2.cpython-39.pyc\n",
      "byte-compiling build\\bdist.win-amd64\\egg\\object_detection\\protos\\__init__.py to __init__.cpython-39.pyc\n",
      "byte-compiling build\\bdist.win-amd64\\egg\\object_detection\\tpu_exporters\\export_saved_model_tpu.py to export_saved_model_tpu.cpython-39.pyc\n",
      "byte-compiling build\\bdist.win-amd64\\egg\\object_detection\\tpu_exporters\\export_saved_model_tpu_lib.py to export_saved_model_tpu_lib.cpython-39.pyc\n",
      "byte-compiling build\\bdist.win-amd64\\egg\\object_detection\\tpu_exporters\\export_saved_model_tpu_lib_tf1_test.py to export_saved_model_tpu_lib_tf1_test.cpython-39.pyc\n",
      "byte-compiling build\\bdist.win-amd64\\egg\\object_detection\\tpu_exporters\\faster_rcnn.py to faster_rcnn.cpython-39.pyc\n",
      "byte-compiling build\\bdist.win-amd64\\egg\\object_detection\\tpu_exporters\\ssd.py to ssd.cpython-39.pyc\n",
      "byte-compiling build\\bdist.win-amd64\\egg\\object_detection\\tpu_exporters\\testdata\\__init__.py to __init__.cpython-39.pyc\n",
      "byte-compiling build\\bdist.win-amd64\\egg\\object_detection\\tpu_exporters\\utils.py to utils.cpython-39.pyc\n",
      "byte-compiling build\\bdist.win-amd64\\egg\\object_detection\\tpu_exporters\\utils_test.py to utils_test.cpython-39.pyc\n",
      "byte-compiling build\\bdist.win-amd64\\egg\\object_detection\\tpu_exporters\\__init__.py to __init__.cpython-39.pyc\n",
      "byte-compiling build\\bdist.win-amd64\\egg\\object_detection\\utils\\autoaugment_utils.py to autoaugment_utils.cpython-39.pyc\n",
      "byte-compiling build\\bdist.win-amd64\\egg\\object_detection\\utils\\bifpn_utils.py to bifpn_utils.cpython-39.pyc\n",
      "byte-compiling build\\bdist.win-amd64\\egg\\object_detection\\utils\\category_util.py to category_util.cpython-39.pyc\n",
      "byte-compiling build\\bdist.win-amd64\\egg\\object_detection\\utils\\category_util_test.py to category_util_test.cpython-39.pyc\n",
      "byte-compiling build\\bdist.win-amd64\\egg\\object_detection\\utils\\colab_utils.py to colab_utils.cpython-39.pyc\n",
      "byte-compiling build\\bdist.win-amd64\\egg\\object_detection\\utils\\config_util.py to config_util.cpython-39.pyc\n",
      "byte-compiling build\\bdist.win-amd64\\egg\\object_detection\\utils\\config_util_test.py to config_util_test.cpython-39.pyc\n",
      "byte-compiling build\\bdist.win-amd64\\egg\\object_detection\\utils\\context_manager.py to context_manager.cpython-39.pyc\n",
      "byte-compiling build\\bdist.win-amd64\\egg\\object_detection\\utils\\context_manager_test.py to context_manager_test.cpython-39.pyc\n",
      "byte-compiling build\\bdist.win-amd64\\egg\\object_detection\\utils\\dataset_util.py to dataset_util.cpython-39.pyc\n",
      "byte-compiling build\\bdist.win-amd64\\egg\\object_detection\\utils\\dataset_util_test.py to dataset_util_test.cpython-39.pyc\n",
      "byte-compiling build\\bdist.win-amd64\\egg\\object_detection\\utils\\json_utils.py to json_utils.cpython-39.pyc\n",
      "byte-compiling build\\bdist.win-amd64\\egg\\object_detection\\utils\\json_utils_test.py to json_utils_test.cpython-39.pyc\n",
      "byte-compiling build\\bdist.win-amd64\\egg\\object_detection\\utils\\label_map_util.py to label_map_util.cpython-39.pyc\n",
      "byte-compiling build\\bdist.win-amd64\\egg\\object_detection\\utils\\label_map_util_test.py to label_map_util_test.cpython-39.pyc\n",
      "byte-compiling build\\bdist.win-amd64\\egg\\object_detection\\utils\\learning_schedules.py to learning_schedules.cpython-39.pyc\n",
      "byte-compiling build\\bdist.win-amd64\\egg\\object_detection\\utils\\learning_schedules_test.py to learning_schedules_test.cpython-39.pyc\n",
      "byte-compiling build\\bdist.win-amd64\\egg\\object_detection\\utils\\metrics.py to metrics.cpython-39.pyc\n",
      "byte-compiling build\\bdist.win-amd64\\egg\\object_detection\\utils\\metrics_test.py to metrics_test.cpython-39.pyc\n",
      "byte-compiling build\\bdist.win-amd64\\egg\\object_detection\\utils\\model_util.py to model_util.cpython-39.pyc\n",
      "byte-compiling build\\bdist.win-amd64\\egg\\object_detection\\utils\\model_util_tf2_test.py to model_util_tf2_test.cpython-39.pyc\n",
      "byte-compiling build\\bdist.win-amd64\\egg\\object_detection\\utils\\np_box_list.py to np_box_list.cpython-39.pyc\n",
      "byte-compiling build\\bdist.win-amd64\\egg\\object_detection\\utils\\np_box_list_ops.py to np_box_list_ops.cpython-39.pyc\n",
      "byte-compiling build\\bdist.win-amd64\\egg\\object_detection\\utils\\np_box_list_ops_test.py to np_box_list_ops_test.cpython-39.pyc\n",
      "byte-compiling build\\bdist.win-amd64\\egg\\object_detection\\utils\\np_box_list_test.py to np_box_list_test.cpython-39.pyc\n",
      "byte-compiling build\\bdist.win-amd64\\egg\\object_detection\\utils\\np_box_mask_list.py to np_box_mask_list.cpython-39.pyc\n",
      "byte-compiling build\\bdist.win-amd64\\egg\\object_detection\\utils\\np_box_mask_list_ops.py to np_box_mask_list_ops.cpython-39.pyc\n",
      "byte-compiling build\\bdist.win-amd64\\egg\\object_detection\\utils\\np_box_mask_list_ops_test.py to np_box_mask_list_ops_test.cpython-39.pyc\n",
      "byte-compiling build\\bdist.win-amd64\\egg\\object_detection\\utils\\np_box_mask_list_test.py to np_box_mask_list_test.cpython-39.pyc\n",
      "byte-compiling build\\bdist.win-amd64\\egg\\object_detection\\utils\\np_box_ops.py to np_box_ops.cpython-39.pyc\n",
      "byte-compiling build\\bdist.win-amd64\\egg\\object_detection\\utils\\np_box_ops_test.py to np_box_ops_test.cpython-39.pyc\n",
      "byte-compiling build\\bdist.win-amd64\\egg\\object_detection\\utils\\np_mask_ops.py to np_mask_ops.cpython-39.pyc\n",
      "byte-compiling build\\bdist.win-amd64\\egg\\object_detection\\utils\\np_mask_ops_test.py to np_mask_ops_test.cpython-39.pyc\n",
      "byte-compiling build\\bdist.win-amd64\\egg\\object_detection\\utils\\object_detection_evaluation.py to object_detection_evaluation.cpython-39.pyc\n",
      "byte-compiling build\\bdist.win-amd64\\egg\\object_detection\\utils\\object_detection_evaluation_test.py to object_detection_evaluation_test.cpython-39.pyc\n",
      "byte-compiling build\\bdist.win-amd64\\egg\\object_detection\\utils\\ops.py to ops.cpython-39.pyc\n",
      "byte-compiling build\\bdist.win-amd64\\egg\\object_detection\\utils\\ops_test.py to ops_test.cpython-39.pyc\n",
      "byte-compiling build\\bdist.win-amd64\\egg\\object_detection\\utils\\patch_ops.py to patch_ops.cpython-39.pyc\n",
      "byte-compiling build\\bdist.win-amd64\\egg\\object_detection\\utils\\patch_ops_test.py to patch_ops_test.cpython-39.pyc\n",
      "byte-compiling build\\bdist.win-amd64\\egg\\object_detection\\utils\\per_image_evaluation.py to per_image_evaluation.cpython-39.pyc\n",
      "byte-compiling build\\bdist.win-amd64\\egg\\object_detection\\utils\\per_image_evaluation_test.py to per_image_evaluation_test.cpython-39.pyc\n",
      "byte-compiling build\\bdist.win-amd64\\egg\\object_detection\\utils\\per_image_vrd_evaluation.py to per_image_vrd_evaluation.cpython-39.pyc\n",
      "byte-compiling build\\bdist.win-amd64\\egg\\object_detection\\utils\\per_image_vrd_evaluation_test.py to per_image_vrd_evaluation_test.cpython-39.pyc\n",
      "byte-compiling build\\bdist.win-amd64\\egg\\object_detection\\utils\\shape_utils.py to shape_utils.cpython-39.pyc\n",
      "byte-compiling build\\bdist.win-amd64\\egg\\object_detection\\utils\\shape_utils_test.py to shape_utils_test.cpython-39.pyc\n",
      "byte-compiling build\\bdist.win-amd64\\egg\\object_detection\\utils\\spatial_transform_ops.py to spatial_transform_ops.cpython-39.pyc\n",
      "byte-compiling build\\bdist.win-amd64\\egg\\object_detection\\utils\\spatial_transform_ops_test.py to spatial_transform_ops_test.cpython-39.pyc\n",
      "byte-compiling build\\bdist.win-amd64\\egg\\object_detection\\utils\\static_shape.py to static_shape.cpython-39.pyc\n",
      "byte-compiling build\\bdist.win-amd64\\egg\\object_detection\\utils\\static_shape_test.py to static_shape_test.cpython-39.pyc\n",
      "byte-compiling build\\bdist.win-amd64\\egg\\object_detection\\utils\\target_assigner_utils.py to target_assigner_utils.cpython-39.pyc\n",
      "byte-compiling build\\bdist.win-amd64\\egg\\object_detection\\utils\\target_assigner_utils_test.py to target_assigner_utils_test.cpython-39.pyc\n",
      "byte-compiling build\\bdist.win-amd64\\egg\\object_detection\\utils\\test_case.py to test_case.cpython-39.pyc\n",
      "byte-compiling build\\bdist.win-amd64\\egg\\object_detection\\utils\\test_case_test.py to test_case_test.cpython-39.pyc\n",
      "byte-compiling build\\bdist.win-amd64\\egg\\object_detection\\utils\\test_utils.py to test_utils.cpython-39.pyc\n",
      "byte-compiling build\\bdist.win-amd64\\egg\\object_detection\\utils\\test_utils_test.py to test_utils_test.cpython-39.pyc\n",
      "byte-compiling build\\bdist.win-amd64\\egg\\object_detection\\utils\\tf_version.py to tf_version.cpython-39.pyc\n",
      "byte-compiling build\\bdist.win-amd64\\egg\\object_detection\\utils\\variables_helper.py to variables_helper.cpython-39.pyc\n",
      "byte-compiling build\\bdist.win-amd64\\egg\\object_detection\\utils\\variables_helper_tf1_test.py to variables_helper_tf1_test.cpython-39.pyc\n",
      "byte-compiling build\\bdist.win-amd64\\egg\\object_detection\\utils\\visualization_utils.py to visualization_utils.cpython-39.pyc\n",
      "byte-compiling build\\bdist.win-amd64\\egg\\object_detection\\utils\\visualization_utils_test.py to visualization_utils_test.cpython-39.pyc\n",
      "byte-compiling build\\bdist.win-amd64\\egg\\object_detection\\utils\\vrd_evaluation.py to vrd_evaluation.cpython-39.pyc\n",
      "byte-compiling build\\bdist.win-amd64\\egg\\object_detection\\utils\\vrd_evaluation_test.py to vrd_evaluation_test.cpython-39.pyc\n",
      "byte-compiling build\\bdist.win-amd64\\egg\\object_detection\\utils\\__init__.py to __init__.cpython-39.pyc\n",
      "byte-compiling build\\bdist.win-amd64\\egg\\object_detection\\__init__.py to __init__.cpython-39.pyc\n",
      "byte-compiling build\\bdist.win-amd64\\egg\\preprocessing\\cifarnet_preprocessing.py to cifarnet_preprocessing.cpython-39.pyc\n",
      "byte-compiling build\\bdist.win-amd64\\egg\\preprocessing\\inception_preprocessing.py to inception_preprocessing.cpython-39.pyc\n",
      "byte-compiling build\\bdist.win-amd64\\egg\\preprocessing\\lenet_preprocessing.py to lenet_preprocessing.cpython-39.pyc\n",
      "byte-compiling build\\bdist.win-amd64\\egg\\preprocessing\\preprocessing_factory.py to preprocessing_factory.cpython-39.pyc\n",
      "byte-compiling build\\bdist.win-amd64\\egg\\preprocessing\\vgg_preprocessing.py to vgg_preprocessing.cpython-39.pyc\n",
      "byte-compiling build\\bdist.win-amd64\\egg\\preprocessing\\__init__.py to __init__.cpython-39.pyc\n",
      "creating build\\bdist.win-amd64\\egg\\EGG-INFO\n",
      "copying object_detection.egg-info\\PKG-INFO -> build\\bdist.win-amd64\\egg\\EGG-INFO\n",
      "copying object_detection.egg-info\\SOURCES.txt -> build\\bdist.win-amd64\\egg\\EGG-INFO\n",
      "copying object_detection.egg-info\\dependency_links.txt -> build\\bdist.win-amd64\\egg\\EGG-INFO\n",
      "copying object_detection.egg-info\\requires.txt -> build\\bdist.win-amd64\\egg\\EGG-INFO\n",
      "copying object_detection.egg-info\\top_level.txt -> build\\bdist.win-amd64\\egg\\EGG-INFO\n",
      "creating 'dist\\object_detection-0.1-py3.9.egg' and adding 'build\\bdist.win-amd64\\egg' to it\n",
      "removing 'build\\bdist.win-amd64\\egg' (and everything under it)\n",
      "Processing object_detection-0.1-py3.9.egg\n",
      "removing 'c:\\users\\irtis\\anaconda3\\lib\\site-packages\\object_detection-0.1-py3.9.egg' (and everything under it)\n",
      "creating c:\\users\\irtis\\anaconda3\\lib\\site-packages\\object_detection-0.1-py3.9.egg\n",
      "Extracting object_detection-0.1-py3.9.egg to c:\\users\\irtis\\anaconda3\\lib\\site-packages\n",
      "object-detection 0.1 is already the active version in easy-install.pth\n",
      "\n",
      "Installed c:\\users\\irtis\\anaconda3\\lib\\site-packages\\object_detection-0.1-py3.9.egg\n",
      "Processing dependencies for object-detection==0.1\n"
     ]
    },
    {
     "name": "stderr",
     "output_type": "stream",
     "text": [
      "C:\\Users\\irtis\\anaconda3\\lib\\site-packages\\setuptools\\command\\install.py:34: SetuptoolsDeprecationWarning: setup.py install is deprecated. Use build and pip and other standards-based tools.\n",
      "  warnings.warn(\n",
      "C:\\Users\\irtis\\anaconda3\\lib\\site-packages\\setuptools\\command\\easy_install.py:144: EasyInstallDeprecationWarning: easy_install command is deprecated. Use build and pip and other standards-based tools.\n",
      "  warnings.warn(\n",
      "zip_safe flag not set; analyzing archive contents...\n",
      "object_detection.core.__pycache__.densepose_ops.cpython-39: module references __file__\n",
      "object_detection.core.__pycache__.preprocessor.cpython-39: module MAY be using inspect.stack\n",
      "object_detection.utils.__pycache__.autoaugment_utils.cpython-39: module MAY be using inspect.stack\n",
      "error: protobuf 3.20.0 is installed but protobuf<3.20,>=3.9.2 is required by {'tensorflow'}\n"
     ]
    },
    {
     "name": "stdout",
     "output_type": "stream",
     "text": [
      "Obtaining file:///C:/Users/irtis/ANPR/Tensorflow/models/research/slim\n",
      "Requirement already satisfied: six in c:\\users\\irtis\\anaconda3\\lib\\site-packages (from slim==0.1) (1.16.0)\n",
      "Requirement already satisfied: tf-slim>=1.1 in c:\\users\\irtis\\anaconda3\\lib\\site-packages (from slim==0.1) (1.1.0)\n",
      "Requirement already satisfied: absl-py>=0.2.2 in c:\\users\\irtis\\anaconda3\\lib\\site-packages (from tf-slim>=1.1->slim==0.1) (1.1.0)\n",
      "Installing collected packages: slim\n",
      "  Attempting uninstall: slim\n",
      "    Found existing installation: slim 0.1\n",
      "    Uninstalling slim-0.1:\n",
      "      Successfully uninstalled slim-0.1\n",
      "  Running setup.py develop for slim\n",
      "Successfully installed slim-0.1\n"
     ]
    }
   ],
   "source": [
    "\n",
    "import numpy as np\n",
    "# Install Tensorflow Object Detection \n",
    "if os.name=='posix':  \n",
    "    !apt-get install protobuf-compiler\n",
    "    !cd Tensorflow/models/research && protoc object_detection/protos/*.proto --python_out=. && cp object_detection/packages/tf2/setup.py . && python -m pip install . \n",
    "    \n",
    "if os.name=='nt':\n",
    "    url=\"https://github.com/protocolbuffers/protobuf/releases/download/v3.15.6/protoc-3.15.6-win64.zip\"\n",
    "    wget.download(url)\n",
    "    !move protoc-3.15.6-win64.zip {paths['PROTOC_PATH']}\n",
    "    !cd {paths['PROTOC_PATH']} && tar -xf protoc-3.15.6-win64.zip\n",
    "    os.environ['PATH'] += os.pathsep + os.path.abspath(os.path.join(paths['PROTOC_PATH'], 'bin'))   \n",
    "    !cd Tensorflow/models/research && protoc object_detection/protos/*.proto --python_out=. && copy object_detection\\\\packages\\\\tf2\\\\setup.py setup.py && python setup.py build && python setup.py install\n",
    "    !cd Tensorflow/models/research/slim && pip install -e . "
   ]
  },
  {
   "cell_type": "code",
   "execution_count": null,
   "metadata": {},
   "outputs": [],
   "source": [
    "pip install opt-einsum"
   ]
  },
  {
   "cell_type": "code",
   "execution_count": null,
   "metadata": {},
   "outputs": [],
   "source": [
    "pip install numpy==1.14.3"
   ]
  },
  {
   "cell_type": "code",
   "execution_count": null,
   "metadata": {},
   "outputs": [],
   "source": [
    "pip install gast"
   ]
  },
  {
   "cell_type": "code",
   "execution_count": null,
   "metadata": {},
   "outputs": [],
   "source": [
    "pip install astunparse"
   ]
  },
  {
   "cell_type": "code",
   "execution_count": null,
   "metadata": {},
   "outputs": [],
   "source": [
    "pip install flatbuffers"
   ]
  },
  {
   "cell_type": "code",
   "execution_count": null,
   "metadata": {},
   "outputs": [],
   "source": [
    "pip install --upgrade protobuf"
   ]
  },
  {
   "cell_type": "code",
   "execution_count": 9,
   "metadata": {
    "scrolled": true
   },
   "outputs": [
    {
     "name": "stderr",
     "output_type": "stream",
     "text": [
      "Running tests under Python 3.9.12: C:\\Users\\irtis\\anaconda3\\python.exe\n",
      "[ RUN      ] ModelBuilderTF2Test.test_create_center_net_deepmac\n",
      "2022-06-02 21:15:05.136530: I tensorflow/core/platform/cpu_feature_guard.cc:193] This TensorFlow binary is optimized with oneAPI Deep Neural Network Library (oneDNN) to use the following CPU instructions in performance-critical operations:  AVX AVX2\n",
      "To enable them in other operations, rebuild TensorFlow with the appropriate compiler flags.\n",
      "2022-06-02 21:15:05.512702: I tensorflow/core/common_runtime/gpu/gpu_device.cc:1532] Created device /job:localhost/replica:0/task:0/device:GPU:0 with 6007 MB memory:  -> device: 0, name: NVIDIA GeForce RTX 2070 with Max-Q Design, pci bus id: 0000:01:00.0, compute capability: 7.5\n",
      "C:\\Users\\irtis\\anaconda3\\lib\\site-packages\\object_detection\\builders\\model_builder.py:1102: DeprecationWarning: The 'warn' function is deprecated, use 'warning' instead\n",
      "  logging.warn(('Building experimental DeepMAC meta-arch.'\n",
      "W0602 21:15:05.943735 11000 model_builder.py:1102] Building experimental DeepMAC meta-arch. Some features may be omitted.\n",
      "INFO:tensorflow:time(__main__.ModelBuilderTF2Test.test_create_center_net_deepmac): 1.11s\n",
      "I0602 21:15:06.243361 11000 test_util.py:2458] time(__main__.ModelBuilderTF2Test.test_create_center_net_deepmac): 1.11s\n",
      "[       OK ] ModelBuilderTF2Test.test_create_center_net_deepmac\n",
      "[ RUN      ] ModelBuilderTF2Test.test_create_center_net_model0 (customize_head_params=True)\n",
      "INFO:tensorflow:time(__main__.ModelBuilderTF2Test.test_create_center_net_model0 (customize_head_params=True)): 0.8s\n",
      "I0602 21:15:07.043232 11000 test_util.py:2458] time(__main__.ModelBuilderTF2Test.test_create_center_net_model0 (customize_head_params=True)): 0.8s\n",
      "[       OK ] ModelBuilderTF2Test.test_create_center_net_model0 (customize_head_params=True)\n",
      "[ RUN      ] ModelBuilderTF2Test.test_create_center_net_model1 (customize_head_params=False)\n",
      "INFO:tensorflow:time(__main__.ModelBuilderTF2Test.test_create_center_net_model1 (customize_head_params=False)): 0.21s\n",
      "I0602 21:15:07.250980 11000 test_util.py:2458] time(__main__.ModelBuilderTF2Test.test_create_center_net_model1 (customize_head_params=False)): 0.21s\n",
      "[       OK ] ModelBuilderTF2Test.test_create_center_net_model1 (customize_head_params=False)\n",
      "[ RUN      ] ModelBuilderTF2Test.test_create_center_net_model_from_keypoints\n",
      "INFO:tensorflow:time(__main__.ModelBuilderTF2Test.test_create_center_net_model_from_keypoints): 0.17s\n",
      "I0602 21:15:07.422751 11000 test_util.py:2458] time(__main__.ModelBuilderTF2Test.test_create_center_net_model_from_keypoints): 0.17s\n",
      "[       OK ] ModelBuilderTF2Test.test_create_center_net_model_from_keypoints\n",
      "[ RUN      ] ModelBuilderTF2Test.test_create_center_net_model_mobilenet\n",
      "INFO:tensorflow:time(__main__.ModelBuilderTF2Test.test_create_center_net_model_mobilenet): 1.31s\n",
      "I0602 21:15:08.729306 11000 test_util.py:2458] time(__main__.ModelBuilderTF2Test.test_create_center_net_model_mobilenet): 1.31s\n",
      "[       OK ] ModelBuilderTF2Test.test_create_center_net_model_mobilenet\n",
      "[ RUN      ] ModelBuilderTF2Test.test_create_experimental_model\n",
      "INFO:tensorflow:time(__main__.ModelBuilderTF2Test.test_create_experimental_model): 0.0s\n",
      "I0602 21:15:08.729306 11000 test_util.py:2458] time(__main__.ModelBuilderTF2Test.test_create_experimental_model): 0.0s\n",
      "[       OK ] ModelBuilderTF2Test.test_create_experimental_model\n",
      "[ RUN      ] ModelBuilderTF2Test.test_create_faster_rcnn_from_config_with_crop_feature0 (True)\n",
      "INFO:tensorflow:time(__main__.ModelBuilderTF2Test.test_create_faster_rcnn_from_config_with_crop_feature0 (True)): 0.12s\n",
      "I0602 21:15:08.845150 11000 test_util.py:2458] time(__main__.ModelBuilderTF2Test.test_create_faster_rcnn_from_config_with_crop_feature0 (True)): 0.12s\n",
      "[       OK ] ModelBuilderTF2Test.test_create_faster_rcnn_from_config_with_crop_feature0 (True)\n",
      "[ RUN      ] ModelBuilderTF2Test.test_create_faster_rcnn_from_config_with_crop_feature1 (False)\n",
      "INFO:tensorflow:time(__main__.ModelBuilderTF2Test.test_create_faster_rcnn_from_config_with_crop_feature1 (False)): 0.01s\n",
      "I0602 21:15:08.857135 11000 test_util.py:2458] time(__main__.ModelBuilderTF2Test.test_create_faster_rcnn_from_config_with_crop_feature1 (False)): 0.01s\n",
      "[       OK ] ModelBuilderTF2Test.test_create_faster_rcnn_from_config_with_crop_feature1 (False)\n",
      "[ RUN      ] ModelBuilderTF2Test.test_create_faster_rcnn_model_from_config_with_example_miner\n",
      "INFO:tensorflow:time(__main__.ModelBuilderTF2Test.test_create_faster_rcnn_model_from_config_with_example_miner): 0.01s\n",
      "I0602 21:15:08.869119 11000 test_util.py:2458] time(__main__.ModelBuilderTF2Test.test_create_faster_rcnn_model_from_config_with_example_miner): 0.01s\n",
      "[       OK ] ModelBuilderTF2Test.test_create_faster_rcnn_model_from_config_with_example_miner\n",
      "[ RUN      ] ModelBuilderTF2Test.test_create_faster_rcnn_models_from_config_faster_rcnn_with_matmul\n",
      "INFO:tensorflow:time(__main__.ModelBuilderTF2Test.test_create_faster_rcnn_models_from_config_faster_rcnn_with_matmul): 0.08s\n",
      "I0602 21:15:08.953007 11000 test_util.py:2458] time(__main__.ModelBuilderTF2Test.test_create_faster_rcnn_models_from_config_faster_rcnn_with_matmul): 0.08s\n",
      "[       OK ] ModelBuilderTF2Test.test_create_faster_rcnn_models_from_config_faster_rcnn_with_matmul\n",
      "[ RUN      ] ModelBuilderTF2Test.test_create_faster_rcnn_models_from_config_faster_rcnn_without_matmul\n",
      "INFO:tensorflow:time(__main__.ModelBuilderTF2Test.test_create_faster_rcnn_models_from_config_faster_rcnn_without_matmul): 0.08s\n",
      "I0602 21:15:09.028905 11000 test_util.py:2458] time(__main__.ModelBuilderTF2Test.test_create_faster_rcnn_models_from_config_faster_rcnn_without_matmul): 0.08s\n",
      "[       OK ] ModelBuilderTF2Test.test_create_faster_rcnn_models_from_config_faster_rcnn_without_matmul\n",
      "[ RUN      ] ModelBuilderTF2Test.test_create_faster_rcnn_models_from_config_mask_rcnn_with_matmul\n",
      "INFO:tensorflow:time(__main__.ModelBuilderTF2Test.test_create_faster_rcnn_models_from_config_mask_rcnn_with_matmul): 0.08s\n",
      "I0602 21:15:09.112794 11000 test_util.py:2458] time(__main__.ModelBuilderTF2Test.test_create_faster_rcnn_models_from_config_mask_rcnn_with_matmul): 0.08s\n",
      "[       OK ] ModelBuilderTF2Test.test_create_faster_rcnn_models_from_config_mask_rcnn_with_matmul\n",
      "[ RUN      ] ModelBuilderTF2Test.test_create_faster_rcnn_models_from_config_mask_rcnn_without_matmul\n",
      "INFO:tensorflow:time(__main__.ModelBuilderTF2Test.test_create_faster_rcnn_models_from_config_mask_rcnn_without_matmul): 0.07s\n",
      "I0602 21:15:09.184723 11000 test_util.py:2458] time(__main__.ModelBuilderTF2Test.test_create_faster_rcnn_models_from_config_mask_rcnn_without_matmul): 0.07s\n",
      "[       OK ] ModelBuilderTF2Test.test_create_faster_rcnn_models_from_config_mask_rcnn_without_matmul\n",
      "[ RUN      ] ModelBuilderTF2Test.test_create_rfcn_model_from_config\n",
      "INFO:tensorflow:time(__main__.ModelBuilderTF2Test.test_create_rfcn_model_from_config): 0.07s\n",
      "I0602 21:15:09.252644 11000 test_util.py:2458] time(__main__.ModelBuilderTF2Test.test_create_rfcn_model_from_config): 0.07s\n",
      "[       OK ] ModelBuilderTF2Test.test_create_rfcn_model_from_config\n",
      "[ RUN      ] ModelBuilderTF2Test.test_create_ssd_fpn_model_from_config\n",
      "INFO:tensorflow:time(__main__.ModelBuilderTF2Test.test_create_ssd_fpn_model_from_config): 0.02s\n",
      "I0602 21:15:09.272614 11000 test_util.py:2458] time(__main__.ModelBuilderTF2Test.test_create_ssd_fpn_model_from_config): 0.02s\n",
      "[       OK ] ModelBuilderTF2Test.test_create_ssd_fpn_model_from_config\n",
      "[ RUN      ] ModelBuilderTF2Test.test_create_ssd_models_from_config\n",
      "I0602 21:15:09.392454 11000 ssd_efficientnet_bifpn_feature_extractor.py:145] EfficientDet EfficientNet backbone version: efficientnet-b0\n",
      "I0602 21:15:09.392454 11000 ssd_efficientnet_bifpn_feature_extractor.py:147] EfficientDet BiFPN num filters: 64\n",
      "I0602 21:15:09.392454 11000 ssd_efficientnet_bifpn_feature_extractor.py:148] EfficientDet BiFPN num iterations: 3\n",
      "I0602 21:15:09.392454 11000 efficientnet_model.py:143] round_filter input=32 output=32\n",
      "I0602 21:15:09.404431 11000 efficientnet_model.py:143] round_filter input=32 output=32\n",
      "I0602 21:15:09.404431 11000 efficientnet_model.py:143] round_filter input=16 output=16\n",
      "I0602 21:15:09.444387 11000 efficientnet_model.py:143] round_filter input=16 output=16\n",
      "I0602 21:15:09.444387 11000 efficientnet_model.py:143] round_filter input=24 output=24\n",
      "I0602 21:15:09.552209 11000 efficientnet_model.py:143] round_filter input=24 output=24\n",
      "I0602 21:15:09.552209 11000 efficientnet_model.py:143] round_filter input=40 output=40\n",
      "I0602 21:15:09.679705 11000 efficientnet_model.py:143] round_filter input=40 output=40\n",
      "I0602 21:15:09.679705 11000 efficientnet_model.py:143] round_filter input=80 output=80\n",
      "I0602 21:15:09.867455 11000 efficientnet_model.py:143] round_filter input=80 output=80\n",
      "I0602 21:15:09.867455 11000 efficientnet_model.py:143] round_filter input=112 output=112\n",
      "I0602 21:15:10.059200 11000 efficientnet_model.py:143] round_filter input=112 output=112\n",
      "I0602 21:15:10.059200 11000 efficientnet_model.py:143] round_filter input=192 output=192\n",
      "I0602 21:15:10.287764 11000 efficientnet_model.py:143] round_filter input=192 output=192\n",
      "I0602 21:15:10.287764 11000 efficientnet_model.py:143] round_filter input=320 output=320\n",
      "I0602 21:15:10.339696 11000 efficientnet_model.py:143] round_filter input=1280 output=1280\n",
      "I0602 21:15:10.359659 11000 efficientnet_model.py:453] Building model efficientnet with params ModelConfig(width_coefficient=1.0, depth_coefficient=1.0, resolution=224, dropout_rate=0.2, blocks=(BlockConfig(input_filters=32, output_filters=16, kernel_size=3, num_repeat=1, expand_ratio=1, strides=(1, 1), se_ratio=0.25, id_skip=True, fused_conv=False, conv_type='depthwise'), BlockConfig(input_filters=16, output_filters=24, kernel_size=3, num_repeat=2, expand_ratio=6, strides=(2, 2), se_ratio=0.25, id_skip=True, fused_conv=False, conv_type='depthwise'), BlockConfig(input_filters=24, output_filters=40, kernel_size=5, num_repeat=2, expand_ratio=6, strides=(2, 2), se_ratio=0.25, id_skip=True, fused_conv=False, conv_type='depthwise'), BlockConfig(input_filters=40, output_filters=80, kernel_size=3, num_repeat=3, expand_ratio=6, strides=(2, 2), se_ratio=0.25, id_skip=True, fused_conv=False, conv_type='depthwise'), BlockConfig(input_filters=80, output_filters=112, kernel_size=5, num_repeat=3, expand_ratio=6, strides=(1, 1), se_ratio=0.25, id_skip=True, fused_conv=False, conv_type='depthwise'), BlockConfig(input_filters=112, output_filters=192, kernel_size=5, num_repeat=4, expand_ratio=6, strides=(2, 2), se_ratio=0.25, id_skip=True, fused_conv=False, conv_type='depthwise'), BlockConfig(input_filters=192, output_filters=320, kernel_size=3, num_repeat=1, expand_ratio=6, strides=(1, 1), se_ratio=0.25, id_skip=True, fused_conv=False, conv_type='depthwise')), stem_base_filters=32, top_base_filters=1280, activation='simple_swish', batch_norm='default', bn_momentum=0.99, bn_epsilon=0.001, weight_decay=5e-06, drop_connect_rate=0.2, depth_divisor=8, min_depth=None, use_se=True, input_channels=3, num_classes=1000, model_name='efficientnet', rescale_input=False, data_format='channels_last', dtype='float32')\n",
      "I0602 21:15:10.395617 11000 ssd_efficientnet_bifpn_feature_extractor.py:145] EfficientDet EfficientNet backbone version: efficientnet-b1\n",
      "I0602 21:15:10.395617 11000 ssd_efficientnet_bifpn_feature_extractor.py:147] EfficientDet BiFPN num filters: 88\n",
      "I0602 21:15:10.395617 11000 ssd_efficientnet_bifpn_feature_extractor.py:148] EfficientDet BiFPN num iterations: 4\n",
      "I0602 21:15:10.395617 11000 efficientnet_model.py:143] round_filter input=32 output=32\n",
      "I0602 21:15:10.407602 11000 efficientnet_model.py:143] round_filter input=32 output=32\n",
      "I0602 21:15:10.407602 11000 efficientnet_model.py:143] round_filter input=16 output=16\n",
      "I0602 21:15:10.487841 11000 efficientnet_model.py:143] round_filter input=16 output=16\n",
      "I0602 21:15:10.487841 11000 efficientnet_model.py:143] round_filter input=24 output=24\n",
      "I0602 21:15:10.667601 11000 efficientnet_model.py:143] round_filter input=24 output=24\n",
      "I0602 21:15:10.667601 11000 efficientnet_model.py:143] round_filter input=40 output=40\n",
      "I0602 21:15:10.855378 11000 efficientnet_model.py:143] round_filter input=40 output=40\n",
      "I0602 21:15:10.855378 11000 efficientnet_model.py:143] round_filter input=80 output=80\n",
      "I0602 21:15:11.111455 11000 efficientnet_model.py:143] round_filter input=80 output=80\n",
      "I0602 21:15:11.111455 11000 efficientnet_model.py:143] round_filter input=112 output=112\n",
      "I0602 21:15:11.327194 11000 efficientnet_model.py:143] round_filter input=112 output=112\n",
      "I0602 21:15:11.327194 11000 efficientnet_model.py:143] round_filter input=192 output=192\n",
      "I0602 21:15:11.698673 11000 efficientnet_model.py:143] round_filter input=192 output=192\n",
      "I0602 21:15:11.698673 11000 efficientnet_model.py:143] round_filter input=320 output=320\n",
      "I0602 21:15:11.814517 11000 efficientnet_model.py:143] round_filter input=1280 output=1280\n",
      "I0602 21:15:11.841125 11000 efficientnet_model.py:453] Building model efficientnet with params ModelConfig(width_coefficient=1.0, depth_coefficient=1.1, resolution=240, dropout_rate=0.2, blocks=(BlockConfig(input_filters=32, output_filters=16, kernel_size=3, num_repeat=1, expand_ratio=1, strides=(1, 1), se_ratio=0.25, id_skip=True, fused_conv=False, conv_type='depthwise'), BlockConfig(input_filters=16, output_filters=24, kernel_size=3, num_repeat=2, expand_ratio=6, strides=(2, 2), se_ratio=0.25, id_skip=True, fused_conv=False, conv_type='depthwise'), BlockConfig(input_filters=24, output_filters=40, kernel_size=5, num_repeat=2, expand_ratio=6, strides=(2, 2), se_ratio=0.25, id_skip=True, fused_conv=False, conv_type='depthwise'), BlockConfig(input_filters=40, output_filters=80, kernel_size=3, num_repeat=3, expand_ratio=6, strides=(2, 2), se_ratio=0.25, id_skip=True, fused_conv=False, conv_type='depthwise'), BlockConfig(input_filters=80, output_filters=112, kernel_size=5, num_repeat=3, expand_ratio=6, strides=(1, 1), se_ratio=0.25, id_skip=True, fused_conv=False, conv_type='depthwise'), BlockConfig(input_filters=112, output_filters=192, kernel_size=5, num_repeat=4, expand_ratio=6, strides=(2, 2), se_ratio=0.25, id_skip=True, fused_conv=False, conv_type='depthwise'), BlockConfig(input_filters=192, output_filters=320, kernel_size=3, num_repeat=1, expand_ratio=6, strides=(1, 1), se_ratio=0.25, id_skip=True, fused_conv=False, conv_type='depthwise')), stem_base_filters=32, top_base_filters=1280, activation='simple_swish', batch_norm='default', bn_momentum=0.99, bn_epsilon=0.001, weight_decay=5e-06, drop_connect_rate=0.2, depth_divisor=8, min_depth=None, use_se=True, input_channels=3, num_classes=1000, model_name='efficientnet', rescale_input=False, data_format='channels_last', dtype='float32')\n",
      "I0602 21:15:11.890101 11000 ssd_efficientnet_bifpn_feature_extractor.py:145] EfficientDet EfficientNet backbone version: efficientnet-b2\n",
      "I0602 21:15:11.890101 11000 ssd_efficientnet_bifpn_feature_extractor.py:147] EfficientDet BiFPN num filters: 112\n",
      "I0602 21:15:11.890101 11000 ssd_efficientnet_bifpn_feature_extractor.py:148] EfficientDet BiFPN num iterations: 5\n",
      "I0602 21:15:11.894096 11000 efficientnet_model.py:143] round_filter input=32 output=32\n",
      "I0602 21:15:11.906080 11000 efficientnet_model.py:143] round_filter input=32 output=32\n",
      "I0602 21:15:11.906080 11000 efficientnet_model.py:143] round_filter input=16 output=16\n",
      "I0602 21:15:12.005947 11000 efficientnet_model.py:143] round_filter input=16 output=16\n",
      "I0602 21:15:12.005947 11000 efficientnet_model.py:143] round_filter input=24 output=24\n",
      "I0602 21:15:12.189701 11000 efficientnet_model.py:143] round_filter input=24 output=24\n",
      "I0602 21:15:12.189701 11000 efficientnet_model.py:143] round_filter input=40 output=48\n",
      "I0602 21:15:12.344804 11000 efficientnet_model.py:143] round_filter input=40 output=48\n",
      "I0602 21:15:12.344804 11000 efficientnet_model.py:143] round_filter input=80 output=88\n",
      "I0602 21:15:12.552453 11000 efficientnet_model.py:143] round_filter input=80 output=88\n",
      "I0602 21:15:12.552453 11000 efficientnet_model.py:143] round_filter input=112 output=120\n",
      "I0602 21:15:12.800124 11000 efficientnet_model.py:143] round_filter input=112 output=120\n",
      "I0602 21:15:12.800124 11000 efficientnet_model.py:143] round_filter input=192 output=208\n",
      "I0602 21:15:13.120291 11000 efficientnet_model.py:143] round_filter input=192 output=208\n",
      "I0602 21:15:13.120291 11000 efficientnet_model.py:143] round_filter input=320 output=352\n",
      "I0602 21:15:13.232168 11000 efficientnet_model.py:143] round_filter input=1280 output=1408\n",
      "I0602 21:15:13.256135 11000 efficientnet_model.py:453] Building model efficientnet with params ModelConfig(width_coefficient=1.1, depth_coefficient=1.2, resolution=260, dropout_rate=0.3, blocks=(BlockConfig(input_filters=32, output_filters=16, kernel_size=3, num_repeat=1, expand_ratio=1, strides=(1, 1), se_ratio=0.25, id_skip=True, fused_conv=False, conv_type='depthwise'), BlockConfig(input_filters=16, output_filters=24, kernel_size=3, num_repeat=2, expand_ratio=6, strides=(2, 2), se_ratio=0.25, id_skip=True, fused_conv=False, conv_type='depthwise'), BlockConfig(input_filters=24, output_filters=40, kernel_size=5, num_repeat=2, expand_ratio=6, strides=(2, 2), se_ratio=0.25, id_skip=True, fused_conv=False, conv_type='depthwise'), BlockConfig(input_filters=40, output_filters=80, kernel_size=3, num_repeat=3, expand_ratio=6, strides=(2, 2), se_ratio=0.25, id_skip=True, fused_conv=False, conv_type='depthwise'), BlockConfig(input_filters=80, output_filters=112, kernel_size=5, num_repeat=3, expand_ratio=6, strides=(1, 1), se_ratio=0.25, id_skip=True, fused_conv=False, conv_type='depthwise'), BlockConfig(input_filters=112, output_filters=192, kernel_size=5, num_repeat=4, expand_ratio=6, strides=(2, 2), se_ratio=0.25, id_skip=True, fused_conv=False, conv_type='depthwise'), BlockConfig(input_filters=192, output_filters=320, kernel_size=3, num_repeat=1, expand_ratio=6, strides=(1, 1), se_ratio=0.25, id_skip=True, fused_conv=False, conv_type='depthwise')), stem_base_filters=32, top_base_filters=1280, activation='simple_swish', batch_norm='default', bn_momentum=0.99, bn_epsilon=0.001, weight_decay=5e-06, drop_connect_rate=0.2, depth_divisor=8, min_depth=None, use_se=True, input_channels=3, num_classes=1000, model_name='efficientnet', rescale_input=False, data_format='channels_last', dtype='float32')\n",
      "I0602 21:15:13.300104 11000 ssd_efficientnet_bifpn_feature_extractor.py:145] EfficientDet EfficientNet backbone version: efficientnet-b3\n",
      "I0602 21:15:13.304080 11000 ssd_efficientnet_bifpn_feature_extractor.py:147] EfficientDet BiFPN num filters: 160\n",
      "I0602 21:15:13.304080 11000 ssd_efficientnet_bifpn_feature_extractor.py:148] EfficientDet BiFPN num iterations: 6\n",
      "I0602 21:15:13.304080 11000 efficientnet_model.py:143] round_filter input=32 output=40\n",
      "I0602 21:15:13.316064 11000 efficientnet_model.py:143] round_filter input=32 output=40\n",
      "I0602 21:15:13.316064 11000 efficientnet_model.py:143] round_filter input=16 output=24\n",
      "I0602 21:15:13.395952 11000 efficientnet_model.py:143] round_filter input=16 output=24\n",
      "I0602 21:15:13.395952 11000 efficientnet_model.py:143] round_filter input=24 output=32\n",
      "I0602 21:15:13.555508 11000 efficientnet_model.py:143] round_filter input=24 output=32\n",
      "I0602 21:15:13.555508 11000 efficientnet_model.py:143] round_filter input=40 output=48\n",
      "I0602 21:15:13.735272 11000 efficientnet_model.py:143] round_filter input=40 output=48\n",
      "I0602 21:15:13.735272 11000 efficientnet_model.py:143] round_filter input=80 output=96\n",
      "I0602 21:15:14.054846 11000 efficientnet_model.py:143] round_filter input=80 output=96\n",
      "I0602 21:15:14.054846 11000 efficientnet_model.py:143] round_filter input=112 output=136\n",
      "I0602 21:15:14.342121 11000 efficientnet_model.py:143] round_filter input=112 output=136\n",
      "I0602 21:15:14.342121 11000 efficientnet_model.py:143] round_filter input=192 output=232\n",
      "I0602 21:15:14.681533 11000 efficientnet_model.py:143] round_filter input=192 output=232\n",
      "I0602 21:15:14.681533 11000 efficientnet_model.py:143] round_filter input=320 output=384\n",
      "I0602 21:15:14.805368 11000 efficientnet_model.py:143] round_filter input=1280 output=1536\n",
      "I0602 21:15:14.833331 11000 efficientnet_model.py:453] Building model efficientnet with params ModelConfig(width_coefficient=1.2, depth_coefficient=1.4, resolution=300, dropout_rate=0.3, blocks=(BlockConfig(input_filters=32, output_filters=16, kernel_size=3, num_repeat=1, expand_ratio=1, strides=(1, 1), se_ratio=0.25, id_skip=True, fused_conv=False, conv_type='depthwise'), BlockConfig(input_filters=16, output_filters=24, kernel_size=3, num_repeat=2, expand_ratio=6, strides=(2, 2), se_ratio=0.25, id_skip=True, fused_conv=False, conv_type='depthwise'), BlockConfig(input_filters=24, output_filters=40, kernel_size=5, num_repeat=2, expand_ratio=6, strides=(2, 2), se_ratio=0.25, id_skip=True, fused_conv=False, conv_type='depthwise'), BlockConfig(input_filters=40, output_filters=80, kernel_size=3, num_repeat=3, expand_ratio=6, strides=(2, 2), se_ratio=0.25, id_skip=True, fused_conv=False, conv_type='depthwise'), BlockConfig(input_filters=80, output_filters=112, kernel_size=5, num_repeat=3, expand_ratio=6, strides=(1, 1), se_ratio=0.25, id_skip=True, fused_conv=False, conv_type='depthwise'), BlockConfig(input_filters=112, output_filters=192, kernel_size=5, num_repeat=4, expand_ratio=6, strides=(2, 2), se_ratio=0.25, id_skip=True, fused_conv=False, conv_type='depthwise'), BlockConfig(input_filters=192, output_filters=320, kernel_size=3, num_repeat=1, expand_ratio=6, strides=(1, 1), se_ratio=0.25, id_skip=True, fused_conv=False, conv_type='depthwise')), stem_base_filters=32, top_base_filters=1280, activation='simple_swish', batch_norm='default', bn_momentum=0.99, bn_epsilon=0.001, weight_decay=5e-06, drop_connect_rate=0.2, depth_divisor=8, min_depth=None, use_se=True, input_channels=3, num_classes=1000, model_name='efficientnet', rescale_input=False, data_format='channels_last', dtype='float32')\n",
      "I0602 21:15:14.889256 11000 ssd_efficientnet_bifpn_feature_extractor.py:145] EfficientDet EfficientNet backbone version: efficientnet-b4\n",
      "I0602 21:15:14.889256 11000 ssd_efficientnet_bifpn_feature_extractor.py:147] EfficientDet BiFPN num filters: 224\n",
      "I0602 21:15:14.889256 11000 ssd_efficientnet_bifpn_feature_extractor.py:148] EfficientDet BiFPN num iterations: 7\n",
      "I0602 21:15:14.889256 11000 efficientnet_model.py:143] round_filter input=32 output=48\n",
      "I0602 21:15:14.905235 11000 efficientnet_model.py:143] round_filter input=32 output=48\n",
      "I0602 21:15:14.905235 11000 efficientnet_model.py:143] round_filter input=16 output=24\n",
      "I0602 21:15:15.005101 11000 efficientnet_model.py:143] round_filter input=16 output=24\n",
      "I0602 21:15:15.005101 11000 efficientnet_model.py:143] round_filter input=24 output=32\n",
      "I0602 21:15:15.244629 11000 efficientnet_model.py:143] round_filter input=24 output=32\n",
      "I0602 21:15:15.244629 11000 efficientnet_model.py:143] round_filter input=40 output=56\n",
      "I0602 21:15:15.581211 11000 efficientnet_model.py:143] round_filter input=40 output=56\n",
      "I0602 21:15:15.581211 11000 efficientnet_model.py:143] round_filter input=80 output=112\n",
      "I0602 21:15:15.968943 11000 efficientnet_model.py:143] round_filter input=80 output=112\n",
      "I0602 21:15:15.968943 11000 efficientnet_model.py:143] round_filter input=112 output=160\n",
      "I0602 21:15:16.324468 11000 efficientnet_model.py:143] round_filter input=112 output=160\n",
      "I0602 21:15:16.324468 11000 efficientnet_model.py:143] round_filter input=192 output=272\n",
      "I0602 21:15:16.779829 11000 efficientnet_model.py:143] round_filter input=192 output=272\n",
      "I0602 21:15:16.779829 11000 efficientnet_model.py:143] round_filter input=320 output=448\n",
      "I0602 21:15:16.907573 11000 efficientnet_model.py:143] round_filter input=1280 output=1792\n",
      "I0602 21:15:16.931541 11000 efficientnet_model.py:453] Building model efficientnet with params ModelConfig(width_coefficient=1.4, depth_coefficient=1.8, resolution=380, dropout_rate=0.4, blocks=(BlockConfig(input_filters=32, output_filters=16, kernel_size=3, num_repeat=1, expand_ratio=1, strides=(1, 1), se_ratio=0.25, id_skip=True, fused_conv=False, conv_type='depthwise'), BlockConfig(input_filters=16, output_filters=24, kernel_size=3, num_repeat=2, expand_ratio=6, strides=(2, 2), se_ratio=0.25, id_skip=True, fused_conv=False, conv_type='depthwise'), BlockConfig(input_filters=24, output_filters=40, kernel_size=5, num_repeat=2, expand_ratio=6, strides=(2, 2), se_ratio=0.25, id_skip=True, fused_conv=False, conv_type='depthwise'), BlockConfig(input_filters=40, output_filters=80, kernel_size=3, num_repeat=3, expand_ratio=6, strides=(2, 2), se_ratio=0.25, id_skip=True, fused_conv=False, conv_type='depthwise'), BlockConfig(input_filters=80, output_filters=112, kernel_size=5, num_repeat=3, expand_ratio=6, strides=(1, 1), se_ratio=0.25, id_skip=True, fused_conv=False, conv_type='depthwise'), BlockConfig(input_filters=112, output_filters=192, kernel_size=5, num_repeat=4, expand_ratio=6, strides=(2, 2), se_ratio=0.25, id_skip=True, fused_conv=False, conv_type='depthwise'), BlockConfig(input_filters=192, output_filters=320, kernel_size=3, num_repeat=1, expand_ratio=6, strides=(1, 1), se_ratio=0.25, id_skip=True, fused_conv=False, conv_type='depthwise')), stem_base_filters=32, top_base_filters=1280, activation='simple_swish', batch_norm='default', bn_momentum=0.99, bn_epsilon=0.001, weight_decay=5e-06, drop_connect_rate=0.2, depth_divisor=8, min_depth=None, use_se=True, input_channels=3, num_classes=1000, model_name='efficientnet', rescale_input=False, data_format='channels_last', dtype='float32')\n",
      "I0602 21:15:16.999450 11000 ssd_efficientnet_bifpn_feature_extractor.py:145] EfficientDet EfficientNet backbone version: efficientnet-b5\n",
      "I0602 21:15:16.999450 11000 ssd_efficientnet_bifpn_feature_extractor.py:147] EfficientDet BiFPN num filters: 288\n",
      "I0602 21:15:16.999450 11000 ssd_efficientnet_bifpn_feature_extractor.py:148] EfficientDet BiFPN num iterations: 7\n",
      "I0602 21:15:17.003445 11000 efficientnet_model.py:143] round_filter input=32 output=48\n",
      "I0602 21:15:17.019429 11000 efficientnet_model.py:143] round_filter input=32 output=48\n",
      "I0602 21:15:17.019429 11000 efficientnet_model.py:143] round_filter input=16 output=24\n",
      "I0602 21:15:17.171247 11000 efficientnet_model.py:143] round_filter input=16 output=24\n",
      "I0602 21:15:17.171247 11000 efficientnet_model.py:143] round_filter input=24 output=40\n",
      "I0602 21:15:17.430901 11000 efficientnet_model.py:143] round_filter input=24 output=40\n",
      "I0602 21:15:17.430901 11000 efficientnet_model.py:143] round_filter input=40 output=64\n",
      "I0602 21:15:17.718259 11000 efficientnet_model.py:143] round_filter input=40 output=64\n",
      "I0602 21:15:17.718259 11000 efficientnet_model.py:143] round_filter input=80 output=128\n",
      "I0602 21:15:18.169658 11000 efficientnet_model.py:143] round_filter input=80 output=128\n",
      "I0602 21:15:18.169658 11000 efficientnet_model.py:143] round_filter input=112 output=176\n",
      "I0602 21:15:18.545155 11000 efficientnet_model.py:143] round_filter input=112 output=176\n",
      "I0602 21:15:18.545155 11000 efficientnet_model.py:143] round_filter input=192 output=304\n",
      "I0602 21:15:19.120377 11000 efficientnet_model.py:143] round_filter input=192 output=304\n",
      "I0602 21:15:19.120377 11000 efficientnet_model.py:143] round_filter input=320 output=512\n",
      "I0602 21:15:19.287968 11000 efficientnet_model.py:143] round_filter input=1280 output=2048\n",
      "I0602 21:15:19.307737 11000 efficientnet_model.py:453] Building model efficientnet with params ModelConfig(width_coefficient=1.6, depth_coefficient=2.2, resolution=456, dropout_rate=0.4, blocks=(BlockConfig(input_filters=32, output_filters=16, kernel_size=3, num_repeat=1, expand_ratio=1, strides=(1, 1), se_ratio=0.25, id_skip=True, fused_conv=False, conv_type='depthwise'), BlockConfig(input_filters=16, output_filters=24, kernel_size=3, num_repeat=2, expand_ratio=6, strides=(2, 2), se_ratio=0.25, id_skip=True, fused_conv=False, conv_type='depthwise'), BlockConfig(input_filters=24, output_filters=40, kernel_size=5, num_repeat=2, expand_ratio=6, strides=(2, 2), se_ratio=0.25, id_skip=True, fused_conv=False, conv_type='depthwise'), BlockConfig(input_filters=40, output_filters=80, kernel_size=3, num_repeat=3, expand_ratio=6, strides=(2, 2), se_ratio=0.25, id_skip=True, fused_conv=False, conv_type='depthwise'), BlockConfig(input_filters=80, output_filters=112, kernel_size=5, num_repeat=3, expand_ratio=6, strides=(1, 1), se_ratio=0.25, id_skip=True, fused_conv=False, conv_type='depthwise'), BlockConfig(input_filters=112, output_filters=192, kernel_size=5, num_repeat=4, expand_ratio=6, strides=(2, 2), se_ratio=0.25, id_skip=True, fused_conv=False, conv_type='depthwise'), BlockConfig(input_filters=192, output_filters=320, kernel_size=3, num_repeat=1, expand_ratio=6, strides=(1, 1), se_ratio=0.25, id_skip=True, fused_conv=False, conv_type='depthwise')), stem_base_filters=32, top_base_filters=1280, activation='simple_swish', batch_norm='default', bn_momentum=0.99, bn_epsilon=0.001, weight_decay=5e-06, drop_connect_rate=0.2, depth_divisor=8, min_depth=None, use_se=True, input_channels=3, num_classes=1000, model_name='efficientnet', rescale_input=False, data_format='channels_last', dtype='float32')\n",
      "I0602 21:15:19.375656 11000 ssd_efficientnet_bifpn_feature_extractor.py:145] EfficientDet EfficientNet backbone version: efficientnet-b6\n",
      "I0602 21:15:19.375656 11000 ssd_efficientnet_bifpn_feature_extractor.py:147] EfficientDet BiFPN num filters: 384\n",
      "I0602 21:15:19.375656 11000 ssd_efficientnet_bifpn_feature_extractor.py:148] EfficientDet BiFPN num iterations: 8\n",
      "I0602 21:15:19.375656 11000 efficientnet_model.py:143] round_filter input=32 output=56\n",
      "I0602 21:15:19.387640 11000 efficientnet_model.py:143] round_filter input=32 output=56\n",
      "I0602 21:15:19.387640 11000 efficientnet_model.py:143] round_filter input=16 output=32\n",
      "I0602 21:15:19.507483 11000 efficientnet_model.py:143] round_filter input=16 output=32\n",
      "I0602 21:15:19.507483 11000 efficientnet_model.py:143] round_filter input=24 output=40\n",
      "I0602 21:15:20.038735 11000 efficientnet_model.py:143] round_filter input=24 output=40\n",
      "I0602 21:15:20.038735 11000 efficientnet_model.py:143] round_filter input=40 output=72\n",
      "I0602 21:15:20.374314 11000 efficientnet_model.py:143] round_filter input=40 output=72\n",
      "I0602 21:15:20.374314 11000 efficientnet_model.py:143] round_filter input=80 output=144\n",
      "I0602 21:15:20.837897 11000 efficientnet_model.py:143] round_filter input=80 output=144\n",
      "I0602 21:15:20.837897 11000 efficientnet_model.py:143] round_filter input=112 output=200\n",
      "I0602 21:15:21.325247 11000 efficientnet_model.py:143] round_filter input=112 output=200\n",
      "I0602 21:15:21.325247 11000 efficientnet_model.py:143] round_filter input=192 output=344\n",
      "I0602 21:15:21.971568 11000 efficientnet_model.py:143] round_filter input=192 output=344\n",
      "I0602 21:15:21.971568 11000 efficientnet_model.py:143] round_filter input=320 output=576\n",
      "I0602 21:15:22.155354 11000 efficientnet_model.py:143] round_filter input=1280 output=2304\n",
      "I0602 21:15:22.175322 11000 efficientnet_model.py:453] Building model efficientnet with params ModelConfig(width_coefficient=1.8, depth_coefficient=2.6, resolution=528, dropout_rate=0.5, blocks=(BlockConfig(input_filters=32, output_filters=16, kernel_size=3, num_repeat=1, expand_ratio=1, strides=(1, 1), se_ratio=0.25, id_skip=True, fused_conv=False, conv_type='depthwise'), BlockConfig(input_filters=16, output_filters=24, kernel_size=3, num_repeat=2, expand_ratio=6, strides=(2, 2), se_ratio=0.25, id_skip=True, fused_conv=False, conv_type='depthwise'), BlockConfig(input_filters=24, output_filters=40, kernel_size=5, num_repeat=2, expand_ratio=6, strides=(2, 2), se_ratio=0.25, id_skip=True, fused_conv=False, conv_type='depthwise'), BlockConfig(input_filters=40, output_filters=80, kernel_size=3, num_repeat=3, expand_ratio=6, strides=(2, 2), se_ratio=0.25, id_skip=True, fused_conv=False, conv_type='depthwise'), BlockConfig(input_filters=80, output_filters=112, kernel_size=5, num_repeat=3, expand_ratio=6, strides=(1, 1), se_ratio=0.25, id_skip=True, fused_conv=False, conv_type='depthwise'), BlockConfig(input_filters=112, output_filters=192, kernel_size=5, num_repeat=4, expand_ratio=6, strides=(2, 2), se_ratio=0.25, id_skip=True, fused_conv=False, conv_type='depthwise'), BlockConfig(input_filters=192, output_filters=320, kernel_size=3, num_repeat=1, expand_ratio=6, strides=(1, 1), se_ratio=0.25, id_skip=True, fused_conv=False, conv_type='depthwise')), stem_base_filters=32, top_base_filters=1280, activation='simple_swish', batch_norm='default', bn_momentum=0.99, bn_epsilon=0.001, weight_decay=5e-06, drop_connect_rate=0.2, depth_divisor=8, min_depth=None, use_se=True, input_channels=3, num_classes=1000, model_name='efficientnet', rescale_input=False, data_format='channels_last', dtype='float32')\n",
      "I0602 21:15:22.255216 11000 ssd_efficientnet_bifpn_feature_extractor.py:145] EfficientDet EfficientNet backbone version: efficientnet-b7\n",
      "I0602 21:15:22.255216 11000 ssd_efficientnet_bifpn_feature_extractor.py:147] EfficientDet BiFPN num filters: 384\n",
      "I0602 21:15:22.255216 11000 ssd_efficientnet_bifpn_feature_extractor.py:148] EfficientDet BiFPN num iterations: 8\n",
      "I0602 21:15:22.255216 11000 efficientnet_model.py:143] round_filter input=32 output=64\n",
      "I0602 21:15:22.267209 11000 efficientnet_model.py:143] round_filter input=32 output=64\n",
      "I0602 21:15:22.267209 11000 efficientnet_model.py:143] round_filter input=16 output=32\n",
      "I0602 21:15:22.430988 11000 efficientnet_model.py:143] round_filter input=16 output=32\n",
      "I0602 21:15:22.430988 11000 efficientnet_model.py:143] round_filter input=24 output=48\n",
      "I0602 21:15:22.846936 11000 efficientnet_model.py:143] round_filter input=24 output=48\n",
      "I0602 21:15:22.846936 11000 efficientnet_model.py:143] round_filter input=40 output=80\n",
      "I0602 21:15:23.270405 11000 efficientnet_model.py:143] round_filter input=40 output=80\n",
      "I0602 21:15:23.270405 11000 efficientnet_model.py:143] round_filter input=80 output=160\n",
      "I0602 21:15:23.841484 11000 efficientnet_model.py:143] round_filter input=80 output=160\n",
      "I0602 21:15:23.845481 11000 efficientnet_model.py:143] round_filter input=112 output=224\n",
      "I0602 21:15:24.544518 11000 efficientnet_model.py:143] round_filter input=112 output=224\n",
      "I0602 21:15:24.544518 11000 efficientnet_model.py:143] round_filter input=192 output=384\n",
      "I0602 21:15:25.323584 11000 efficientnet_model.py:143] round_filter input=192 output=384\n",
      "I0602 21:15:25.323584 11000 efficientnet_model.py:143] round_filter input=320 output=640\n",
      "I0602 21:15:25.529060 11000 efficientnet_model.py:143] round_filter input=1280 output=2560\n",
      "I0602 21:15:25.557023 11000 efficientnet_model.py:453] Building model efficientnet with params ModelConfig(width_coefficient=2.0, depth_coefficient=3.1, resolution=600, dropout_rate=0.5, blocks=(BlockConfig(input_filters=32, output_filters=16, kernel_size=3, num_repeat=1, expand_ratio=1, strides=(1, 1), se_ratio=0.25, id_skip=True, fused_conv=False, conv_type='depthwise'), BlockConfig(input_filters=16, output_filters=24, kernel_size=3, num_repeat=2, expand_ratio=6, strides=(2, 2), se_ratio=0.25, id_skip=True, fused_conv=False, conv_type='depthwise'), BlockConfig(input_filters=24, output_filters=40, kernel_size=5, num_repeat=2, expand_ratio=6, strides=(2, 2), se_ratio=0.25, id_skip=True, fused_conv=False, conv_type='depthwise'), BlockConfig(input_filters=40, output_filters=80, kernel_size=3, num_repeat=3, expand_ratio=6, strides=(2, 2), se_ratio=0.25, id_skip=True, fused_conv=False, conv_type='depthwise'), BlockConfig(input_filters=80, output_filters=112, kernel_size=5, num_repeat=3, expand_ratio=6, strides=(1, 1), se_ratio=0.25, id_skip=True, fused_conv=False, conv_type='depthwise'), BlockConfig(input_filters=112, output_filters=192, kernel_size=5, num_repeat=4, expand_ratio=6, strides=(2, 2), se_ratio=0.25, id_skip=True, fused_conv=False, conv_type='depthwise'), BlockConfig(input_filters=192, output_filters=320, kernel_size=3, num_repeat=1, expand_ratio=6, strides=(1, 1), se_ratio=0.25, id_skip=True, fused_conv=False, conv_type='depthwise')), stem_base_filters=32, top_base_filters=1280, activation='simple_swish', batch_norm='default', bn_momentum=0.99, bn_epsilon=0.001, weight_decay=5e-06, drop_connect_rate=0.2, depth_divisor=8, min_depth=None, use_se=True, input_channels=3, num_classes=1000, model_name='efficientnet', rescale_input=False, data_format='channels_last', dtype='float32')\n",
      "INFO:tensorflow:time(__main__.ModelBuilderTF2Test.test_create_ssd_models_from_config): 16.38s\n",
      "I0602 21:15:25.656863 11000 test_util.py:2458] time(__main__.ModelBuilderTF2Test.test_create_ssd_models_from_config): 16.38s\n",
      "[       OK ] ModelBuilderTF2Test.test_create_ssd_models_from_config\n",
      "[ RUN      ] ModelBuilderTF2Test.test_invalid_faster_rcnn_batchnorm_update\n",
      "INFO:tensorflow:time(__main__.ModelBuilderTF2Test.test_invalid_faster_rcnn_batchnorm_update): 0.0s\n",
      "I0602 21:15:25.660858 11000 test_util.py:2458] time(__main__.ModelBuilderTF2Test.test_invalid_faster_rcnn_batchnorm_update): 0.0s\n",
      "[       OK ] ModelBuilderTF2Test.test_invalid_faster_rcnn_batchnorm_update\n",
      "[ RUN      ] ModelBuilderTF2Test.test_invalid_first_stage_nms_iou_threshold\n",
      "INFO:tensorflow:time(__main__.ModelBuilderTF2Test.test_invalid_first_stage_nms_iou_threshold): 0.0s\n",
      "I0602 21:15:25.664853 11000 test_util.py:2458] time(__main__.ModelBuilderTF2Test.test_invalid_first_stage_nms_iou_threshold): 0.0s\n",
      "[       OK ] ModelBuilderTF2Test.test_invalid_first_stage_nms_iou_threshold\n",
      "[ RUN      ] ModelBuilderTF2Test.test_invalid_model_config_proto\n",
      "INFO:tensorflow:time(__main__.ModelBuilderTF2Test.test_invalid_model_config_proto): 0.0s\n",
      "I0602 21:15:25.664853 11000 test_util.py:2458] time(__main__.ModelBuilderTF2Test.test_invalid_model_config_proto): 0.0s\n",
      "[       OK ] ModelBuilderTF2Test.test_invalid_model_config_proto\n",
      "[ RUN      ] ModelBuilderTF2Test.test_invalid_second_stage_batch_size\n",
      "INFO:tensorflow:time(__main__.ModelBuilderTF2Test.test_invalid_second_stage_batch_size): 0.0s\n",
      "I0602 21:15:25.664853 11000 test_util.py:2458] time(__main__.ModelBuilderTF2Test.test_invalid_second_stage_batch_size): 0.0s\n",
      "[       OK ] ModelBuilderTF2Test.test_invalid_second_stage_batch_size\n",
      "[ RUN      ] ModelBuilderTF2Test.test_session\n",
      "[  SKIPPED ] ModelBuilderTF2Test.test_session\n",
      "[ RUN      ] ModelBuilderTF2Test.test_unknown_faster_rcnn_feature_extractor\n",
      "INFO:tensorflow:time(__main__.ModelBuilderTF2Test.test_unknown_faster_rcnn_feature_extractor): 0.0s\n",
      "I0602 21:15:25.664853 11000 test_util.py:2458] time(__main__.ModelBuilderTF2Test.test_unknown_faster_rcnn_feature_extractor): 0.0s\n",
      "[       OK ] ModelBuilderTF2Test.test_unknown_faster_rcnn_feature_extractor\n",
      "[ RUN      ] ModelBuilderTF2Test.test_unknown_meta_architecture\n",
      "INFO:tensorflow:time(__main__.ModelBuilderTF2Test.test_unknown_meta_architecture): 0.0s\n",
      "I0602 21:15:25.664853 11000 test_util.py:2458] time(__main__.ModelBuilderTF2Test.test_unknown_meta_architecture): 0.0s\n",
      "[       OK ] ModelBuilderTF2Test.test_unknown_meta_architecture\n",
      "[ RUN      ] ModelBuilderTF2Test.test_unknown_ssd_feature_extractor\n",
      "INFO:tensorflow:time(__main__.ModelBuilderTF2Test.test_unknown_ssd_feature_extractor): 0.0s\n",
      "I0602 21:15:25.668847 11000 test_util.py:2458] time(__main__.ModelBuilderTF2Test.test_unknown_ssd_feature_extractor): 0.0s\n",
      "[       OK ] ModelBuilderTF2Test.test_unknown_ssd_feature_extractor\n",
      "----------------------------------------------------------------------\n",
      "Ran 24 tests in 20.536s\n",
      "\n",
      "OK (skipped=1)\n"
     ]
    }
   ],
   "source": [
    "import tensorflow as tf\n",
    "VERIFICATION_SCRIPT = os.path.join(paths['APIMODEL_PATH'], 'research', 'object_detection', 'builders', 'model_builder_tf2_test.py')\n",
    "# Verify Installation\n",
    "!python {VERIFICATION_SCRIPT}"
   ]
  },
  {
   "cell_type": "code",
   "execution_count": null,
   "metadata": {},
   "outputs": [],
   "source": [
    "!pip uninstall keras\n",
    "!pip install -U tensorflow keras"
   ]
  },
  {
   "cell_type": "code",
   "execution_count": null,
   "metadata": {},
   "outputs": [],
   "source": [
    "!pip uninstall protobuf matplotlib -y\n"
   ]
  },
  {
   "cell_type": "code",
   "execution_count": 10,
   "metadata": {},
   "outputs": [],
   "source": [
    "import object_detection"
   ]
  },
  {
   "cell_type": "code",
   "execution_count": 11,
   "metadata": {
    "colab": {
     "base_uri": "https://localhost:8080/"
    },
    "id": "csofht2npfDE",
    "outputId": "ff5471b2-bed2-43f2-959c-327a706527b6"
   },
   "outputs": [
    {
     "name": "stdout",
     "output_type": "stream",
     "text": [
      "100% [........................................................................] 20515344 / 20515344        1 file(s) moved.\n"
     ]
    },
    {
     "name": "stderr",
     "output_type": "stream",
     "text": [
      "x ssd_mobilenet_v2_fpnlite_320x320_coco17_tpu-8/\n",
      "x ssd_mobilenet_v2_fpnlite_320x320_coco17_tpu-8/checkpoint/\n",
      "x ssd_mobilenet_v2_fpnlite_320x320_coco17_tpu-8/checkpoint/ckpt-0.data-00000-of-00001\n",
      "x ssd_mobilenet_v2_fpnlite_320x320_coco17_tpu-8/checkpoint/checkpoint\n",
      "x ssd_mobilenet_v2_fpnlite_320x320_coco17_tpu-8/checkpoint/ckpt-0.index\n",
      "x ssd_mobilenet_v2_fpnlite_320x320_coco17_tpu-8/pipeline.config\n",
      "x ssd_mobilenet_v2_fpnlite_320x320_coco17_tpu-8/saved_model/\n",
      "x ssd_mobilenet_v2_fpnlite_320x320_coco17_tpu-8/saved_model/saved_model.pb\n",
      "x ssd_mobilenet_v2_fpnlite_320x320_coco17_tpu-8/saved_model/variables/\n",
      "x ssd_mobilenet_v2_fpnlite_320x320_coco17_tpu-8/saved_model/variables/variables.data-00000-of-00001\n",
      "x ssd_mobilenet_v2_fpnlite_320x320_coco17_tpu-8/saved_model/variables/variables.index\n"
     ]
    }
   ],
   "source": [
    "if os.name =='posix':\n",
    "    !wget {PRETRAINED_MODEL_URL}\n",
    "    !mv {PRETRAINED_MODEL_NAME+'.tar.gz'} {paths['PRETRAINED_MODEL_PATH']}\n",
    "    !cd {paths['PRETRAINED_MODEL_PATH']} && tar -zxvf {PRETRAINED_MODEL_NAME+'.tar.gz'}\n",
    "if os.name == 'nt':\n",
    "    wget.download(PRETRAINED_MODEL_URL)\n",
    "    !move {PRETRAINED_MODEL_NAME+'.tar.gz'} {paths['PRETRAINED_MODEL_PATH']}\n",
    "    !cd {paths['PRETRAINED_MODEL_PATH']} && tar -zxvf {PRETRAINED_MODEL_NAME+'.tar.gz'}"
   ]
  },
  {
   "cell_type": "markdown",
   "metadata": {
    "id": "M5KJTnkfpfDC"
   },
   "source": [
    "# 2. Create Label Map"
   ]
  },
  {
   "cell_type": "code",
   "execution_count": 7,
   "metadata": {
    "id": "p1BVDWo7pfDC"
   },
   "outputs": [],
   "source": [
    "labels = [{'name':'person', 'id':1}, {'name':'car', 'id':2}, {'name':'phone', 'id':3}]\n",
    "\n",
    "with open(files['LABELMAP'], 'w') as f:\n",
    "    for label in labels:\n",
    "        f.write('item { \\n')\n",
    "        f.write('\\tname:\\'{}\\'\\n'.format(label['name']))\n",
    "        f.write('\\tid:{}\\n'.format(label['id']))\n",
    "        f.write('}\\n')"
   ]
  },
  {
   "cell_type": "markdown",
   "metadata": {
    "id": "C88zyVELpfDC"
   },
   "source": [
    "# 3. Create TF records"
   ]
  },
  {
   "cell_type": "code",
   "execution_count": 13,
   "metadata": {
    "colab": {
     "base_uri": "https://localhost:8080/"
    },
    "id": "kvf5WccwrFGq",
    "outputId": "49902aeb-0bd7-4298-e1a0-5b4a64eb2064"
   },
   "outputs": [],
   "source": [
    "# OPTIONAL IF RUNNING ON COLAB\n",
    "ARCHIVE_FILES = os.path.join(paths['IMAGE_PATH'], 'archive.tar.gz')\n",
    "if os.path.exists(ARCHIVE_FILES):\n",
    "  !tar -zxvf {ARCHIVE_FILES}"
   ]
  },
  {
   "cell_type": "code",
   "execution_count": 14,
   "metadata": {
    "colab": {
     "base_uri": "https://localhost:8080/"
    },
    "id": "KWpb_BVUpfDD",
    "outputId": "56ce2a3f-3933-4ee6-8a9d-d5ec65f7d73c"
   },
   "outputs": [],
   "source": [
    "if not os.path.exists(files['TF_RECORD_SCRIPT']):\n",
    "    !git clone https://github.com/nicknochnack/GenerateTFRecord {paths['SCRIPTS_PATH']}"
   ]
  },
  {
   "cell_type": "code",
   "execution_count": 15,
   "metadata": {
    "colab": {
     "base_uri": "https://localhost:8080/"
    },
    "id": "UPFToGZqpfDD",
    "outputId": "0ebb456f-aadc-4a1f-96e6-fbfec1923e1c"
   },
   "outputs": [
    {
     "name": "stdout",
     "output_type": "stream",
     "text": [
      "Successfully created the TFRecord file: Tensorflow\\workspace\\annotations\\train.record\n",
      "Successfully created the TFRecord file: Tensorflow\\workspace\\annotations\\test.record\n"
     ]
    }
   ],
   "source": [
    "!python {files['TF_RECORD_SCRIPT']} -x {os.path.join(paths['IMAGE_PATH'], 'train')} -l {files['LABELMAP']} -o {os.path.join(paths['ANNOTATION_PATH'], 'train.record')} \n",
    "!python {files['TF_RECORD_SCRIPT']} -x {os.path.join(paths['IMAGE_PATH'], 'test')} -l {files['LABELMAP']} -o {os.path.join(paths['ANNOTATION_PATH'], 'test.record')} "
   ]
  },
  {
   "cell_type": "markdown",
   "metadata": {
    "id": "qT4QU7pLpfDE"
   },
   "source": [
    "# 4. Copy Model Config to Training Folder"
   ]
  },
  {
   "cell_type": "code",
   "execution_count": 16,
   "metadata": {
    "id": "cOjuTFbwpfDF"
   },
   "outputs": [
    {
     "name": "stdout",
     "output_type": "stream",
     "text": [
      "        1 file(s) copied.\n"
     ]
    }
   ],
   "source": [
    "if os.name =='posix':\n",
    "    !cp {os.path.join(paths['PRETRAINED_MODEL_PATH'], PRETRAINED_MODEL_NAME, 'pipeline.config')} {os.path.join(paths['CHECKPOINT_PATH'])}\n",
    "if os.name == 'nt':\n",
    "    !copy {os.path.join(paths['PRETRAINED_MODEL_PATH'], PRETRAINED_MODEL_NAME, 'pipeline.config')} {os.path.join(paths['CHECKPOINT_PATH'])}"
   ]
  },
  {
   "cell_type": "markdown",
   "metadata": {
    "id": "Ga8gpNslpfDF"
   },
   "source": [
    "# 5. Update Config For Transfer Learning"
   ]
  },
  {
   "cell_type": "code",
   "execution_count": 10,
   "metadata": {
    "id": "Z9hRrO_ppfDF"
   },
   "outputs": [
    {
     "name": "stdout",
     "output_type": "stream",
     "text": [
      "Collecting tensorflow==2.7\n",
      "  Downloading tensorflow-2.7.0-cp39-cp39-win_amd64.whl (430.8 MB)\n",
      "     ------------------------------------ 430.8/430.8 MB 981.4 kB/s eta 0:00:00\n",
      "Collecting tensorflow-gpu==2.7\n",
      "  Downloading tensorflow_gpu-2.7.0-cp39-cp39-win_amd64.whl (430.8 MB)\n",
      "     ------------------------------------ 430.8/430.8 MB 987.5 kB/s eta 0:00:00\n",
      "Requirement already satisfied: gast<0.5.0,>=0.2.1 in c:\\users\\irtis\\anpr\\tfod\\lib\\site-packages (from tensorflow==2.7) (0.4.0)\n",
      "Requirement already satisfied: six>=1.12.0 in c:\\users\\irtis\\anpr\\tfod\\lib\\site-packages (from tensorflow==2.7) (1.15.0)\n",
      "Requirement already satisfied: grpcio<2.0,>=1.24.3 in c:\\users\\irtis\\anpr\\tfod\\lib\\site-packages (from tensorflow==2.7) (1.34.1)\n",
      "Requirement already satisfied: termcolor>=1.1.0 in c:\\users\\irtis\\anpr\\tfod\\lib\\site-packages\\termcolor-1.1.0-py3.9.egg (from tensorflow==2.7) (1.1.0)\n",
      "Requirement already satisfied: tensorflow-io-gcs-filesystem>=0.21.0 in c:\\users\\irtis\\anpr\\tfod\\lib\\site-packages\\tensorflow_io_gcs_filesystem-0.26.0-py3.9-win-amd64.egg (from tensorflow==2.7) (0.26.0)\n",
      "Collecting tensorflow-estimator<2.8,~=2.7.0rc0\n",
      "  Downloading tensorflow_estimator-2.7.0-py2.py3-none-any.whl (463 kB)\n",
      "     -------------------------------------- 463.1/463.1 kB 1.3 MB/s eta 0:00:00\n",
      "Requirement already satisfied: libclang>=9.0.1 in c:\\users\\irtis\\anpr\\tfod\\lib\\site-packages (from tensorflow==2.7) (14.0.1)\n",
      "Requirement already satisfied: h5py>=2.9.0 in c:\\users\\irtis\\anpr\\tfod\\lib\\site-packages (from tensorflow==2.7) (3.1.0)\n",
      "Requirement already satisfied: typing-extensions>=3.6.6 in c:\\users\\irtis\\anpr\\tfod\\lib\\site-packages (from tensorflow==2.7) (3.7.4.3)\n",
      "Requirement already satisfied: keras-preprocessing>=1.1.1 in c:\\users\\irtis\\anpr\\tfod\\lib\\site-packages (from tensorflow==2.7) (1.1.2)\n",
      "Requirement already satisfied: protobuf>=3.9.2 in c:\\users\\irtis\\anpr\\tfod\\lib\\site-packages (from tensorflow==2.7) (3.20.0)\n",
      "Requirement already satisfied: wheel<1.0,>=0.32.0 in c:\\users\\irtis\\anpr\\tfod\\lib\\site-packages (from tensorflow==2.7) (0.37.1)\n",
      "Requirement already satisfied: absl-py>=0.4.0 in c:\\users\\irtis\\anpr\\tfod\\lib\\site-packages (from tensorflow==2.7) (1.1.0)\n",
      "Requirement already satisfied: google-pasta>=0.1.1 in c:\\users\\irtis\\anpr\\tfod\\lib\\site-packages (from tensorflow==2.7) (0.2.0)\n",
      "Collecting keras<2.8,>=2.7.0rc0\n",
      "  Downloading keras-2.7.0-py2.py3-none-any.whl (1.3 MB)\n",
      "     ---------------------------------------- 1.3/1.3 MB 1.3 MB/s eta 0:00:00\n",
      "Requirement already satisfied: astunparse>=1.6.0 in c:\\users\\irtis\\anpr\\tfod\\lib\\site-packages (from tensorflow==2.7) (1.6.3)\n",
      "Requirement already satisfied: numpy>=1.14.5 in c:\\users\\irtis\\anpr\\tfod\\lib\\site-packages (from tensorflow==2.7) (1.22.4)\n",
      "Requirement already satisfied: opt-einsum>=2.3.2 in c:\\users\\irtis\\anpr\\tfod\\lib\\site-packages (from tensorflow==2.7) (3.3.0)\n",
      "Requirement already satisfied: flatbuffers<3.0,>=1.12 in c:\\users\\irtis\\anpr\\tfod\\lib\\site-packages (from tensorflow==2.7) (1.12)\n",
      "Requirement already satisfied: tensorboard~=2.6 in c:\\users\\irtis\\anpr\\tfod\\lib\\site-packages\\tensorboard-2.9.0-py3.9.egg (from tensorflow==2.7) (2.9.0)\n",
      "Requirement already satisfied: wrapt>=1.11.0 in c:\\users\\irtis\\anpr\\tfod\\lib\\site-packages (from tensorflow==2.7) (1.12.1)\n",
      "Requirement already satisfied: google-auth-oauthlib<0.5,>=0.4.1 in c:\\users\\irtis\\anpr\\tfod\\lib\\site-packages (from tensorboard~=2.6->tensorflow==2.7) (0.4.6)\n",
      "Requirement already satisfied: google-auth<3,>=1.6.3 in c:\\users\\irtis\\anpr\\tfod\\lib\\site-packages (from tensorboard~=2.6->tensorflow==2.7) (2.6.6)\n",
      "Requirement already satisfied: markdown>=2.6.8 in c:\\users\\irtis\\anpr\\tfod\\lib\\site-packages (from tensorboard~=2.6->tensorflow==2.7) (3.3.7)\n",
      "Requirement already satisfied: requests<3,>=2.21.0 in c:\\users\\irtis\\anpr\\tfod\\lib\\site-packages\\requests-2.27.1-py3.9.egg (from tensorboard~=2.6->tensorflow==2.7) (2.27.1)\n",
      "Requirement already satisfied: setuptools>=41.0.0 in c:\\users\\irtis\\anpr\\tfod\\lib\\site-packages (from tensorboard~=2.6->tensorflow==2.7) (58.1.0)\n",
      "Requirement already satisfied: tensorboard-data-server<0.7.0,>=0.6.0 in c:\\users\\irtis\\anpr\\tfod\\lib\\site-packages (from tensorboard~=2.6->tensorflow==2.7) (0.6.1)\n",
      "Requirement already satisfied: tensorboard-plugin-wit>=1.6.0 in c:\\users\\irtis\\anpr\\tfod\\lib\\site-packages (from tensorboard~=2.6->tensorflow==2.7) (1.8.1)\n",
      "Requirement already satisfied: werkzeug>=1.0.1 in c:\\users\\irtis\\anpr\\tfod\\lib\\site-packages (from tensorboard~=2.6->tensorflow==2.7) (2.1.2)\n",
      "Requirement already satisfied: rsa<5,>=3.1.4 in c:\\users\\irtis\\anpr\\tfod\\lib\\site-packages (from google-auth<3,>=1.6.3->tensorboard~=2.6->tensorflow==2.7) (4.8)\n",
      "Requirement already satisfied: cachetools<6.0,>=2.0.0 in c:\\users\\irtis\\anpr\\tfod\\lib\\site-packages (from google-auth<3,>=1.6.3->tensorboard~=2.6->tensorflow==2.7) (5.2.0)\n",
      "Requirement already satisfied: pyasn1-modules>=0.2.1 in c:\\users\\irtis\\anpr\\tfod\\lib\\site-packages (from google-auth<3,>=1.6.3->tensorboard~=2.6->tensorflow==2.7) (0.2.8)\n",
      "Requirement already satisfied: requests-oauthlib>=0.7.0 in c:\\users\\irtis\\anpr\\tfod\\lib\\site-packages (from google-auth-oauthlib<0.5,>=0.4.1->tensorboard~=2.6->tensorflow==2.7) (1.3.1)\n",
      "Requirement already satisfied: importlib-metadata>=4.4 in c:\\users\\irtis\\anpr\\tfod\\lib\\site-packages (from markdown>=2.6.8->tensorboard~=2.6->tensorflow==2.7) (4.11.4)\n",
      "Requirement already satisfied: certifi>=2017.4.17 in c:\\users\\irtis\\anpr\\tfod\\lib\\site-packages (from requests<3,>=2.21.0->tensorboard~=2.6->tensorflow==2.7) (2022.5.18.1)\n",
      "Requirement already satisfied: charset-normalizer~=2.0.0 in c:\\users\\irtis\\anpr\\tfod\\lib\\site-packages (from requests<3,>=2.21.0->tensorboard~=2.6->tensorflow==2.7) (2.0.12)\n",
      "Requirement already satisfied: idna<4,>=2.5 in c:\\users\\irtis\\anpr\\tfod\\lib\\site-packages (from requests<3,>=2.21.0->tensorboard~=2.6->tensorflow==2.7) (3.3)\n",
      "Requirement already satisfied: urllib3<1.27,>=1.21.1 in c:\\users\\irtis\\anpr\\tfod\\lib\\site-packages (from requests<3,>=2.21.0->tensorboard~=2.6->tensorflow==2.7) (1.26.9)\n",
      "Requirement already satisfied: zipp>=0.5 in c:\\users\\irtis\\anpr\\tfod\\lib\\site-packages (from importlib-metadata>=4.4->markdown>=2.6.8->tensorboard~=2.6->tensorflow==2.7) (3.8.0)\n",
      "Requirement already satisfied: pyasn1<0.5.0,>=0.4.6 in c:\\users\\irtis\\anpr\\tfod\\lib\\site-packages (from pyasn1-modules>=0.2.1->google-auth<3,>=1.6.3->tensorboard~=2.6->tensorflow==2.7) (0.4.8)\n",
      "Requirement already satisfied: oauthlib>=3.0.0 in c:\\users\\irtis\\anpr\\tfod\\lib\\site-packages (from requests-oauthlib>=0.7.0->google-auth-oauthlib<0.5,>=0.4.1->tensorboard~=2.6->tensorflow==2.7) (3.2.0)\n",
      "Installing collected packages: tensorflow-estimator, keras, tensorflow-gpu, tensorflow\n",
      "  Attempting uninstall: tensorflow-estimator\n",
      "    Found existing installation: tensorflow-estimator 2.9.0\n",
      "    Uninstalling tensorflow-estimator-2.9.0:\n",
      "      Successfully uninstalled tensorflow-estimator-2.9.0\n",
      "  Attempting uninstall: keras\n",
      "    Found existing installation: keras 2.9.0\n",
      "    Uninstalling keras-2.9.0:\n",
      "      Successfully uninstalled keras-2.9.0\n",
      "  Attempting uninstall: tensorflow-gpu\n",
      "    Found existing installation: tensorflow-gpu 2.9.0\n",
      "    Uninstalling tensorflow-gpu-2.9.0:\n",
      "      Successfully uninstalled tensorflow-gpu-2.9.0\n"
     ]
    },
    {
     "name": "stderr",
     "output_type": "stream",
     "text": [
      "WARNING: Ignoring invalid distribution -otobuf (c:\\users\\irtis\\anpr\\tfod\\lib\\site-packages)\n",
      "WARNING: Ignoring invalid distribution -rotobuf (c:\\users\\irtis\\anpr\\tfod\\lib\\site-packages)\n",
      "WARNING: Ignoring invalid distribution - (c:\\users\\irtis\\anpr\\tfod\\lib\\site-packages)\n",
      "WARNING: Ignoring invalid distribution -otobuf (c:\\users\\irtis\\anpr\\tfod\\lib\\site-packages)\n",
      "WARNING: Ignoring invalid distribution -rotobuf (c:\\users\\irtis\\anpr\\tfod\\lib\\site-packages)\n",
      "WARNING: Ignoring invalid distribution - (c:\\users\\irtis\\anpr\\tfod\\lib\\site-packages)\n",
      "WARNING: Ignoring invalid distribution -otobuf (c:\\users\\irtis\\anpr\\tfod\\lib\\site-packages)\n",
      "WARNING: Ignoring invalid distribution -rotobuf (c:\\users\\irtis\\anpr\\tfod\\lib\\site-packages)\n",
      "WARNING: Ignoring invalid distribution - (c:\\users\\irtis\\anpr\\tfod\\lib\\site-packages)\n",
      "    WARNING: Ignoring invalid distribution -otobuf (c:\\users\\irtis\\anpr\\tfod\\lib\\site-packages)\n",
      "    WARNING: Ignoring invalid distribution -rotobuf (c:\\users\\irtis\\anpr\\tfod\\lib\\site-packages)\n",
      "    WARNING: Ignoring invalid distribution - (c:\\users\\irtis\\anpr\\tfod\\lib\\site-packages)\n",
      "    WARNING: Ignoring invalid distribution -otobuf (c:\\users\\irtis\\anpr\\tfod\\lib\\site-packages)\n",
      "    WARNING: Ignoring invalid distribution -rotobuf (c:\\users\\irtis\\anpr\\tfod\\lib\\site-packages)\n",
      "    WARNING: Ignoring invalid distribution - (c:\\users\\irtis\\anpr\\tfod\\lib\\site-packages)\n",
      "    WARNING: Ignoring invalid distribution -otobuf (c:\\users\\irtis\\anpr\\tfod\\lib\\site-packages)\n",
      "    WARNING: Ignoring invalid distribution -rotobuf (c:\\users\\irtis\\anpr\\tfod\\lib\\site-packages)\n",
      "    WARNING: Ignoring invalid distribution - (c:\\users\\irtis\\anpr\\tfod\\lib\\site-packages)\n",
      "ERROR: Could not install packages due to an OSError: [WinError 5] Access is denied: 'C:\\\\Users\\\\irtis\\\\ANPR\\\\tfod\\\\Lib\\\\site-packages\\\\~ensorflow\\\\compiler\\\\tf2tensorrt\\\\_pywrap_py_utils.pyd'\n",
      "Check the permissions.\n",
      "\n",
      "WARNING: Ignoring invalid distribution -otobuf (c:\\users\\irtis\\anpr\\tfod\\lib\\site-packages)\n",
      "WARNING: Ignoring invalid distribution -rotobuf (c:\\users\\irtis\\anpr\\tfod\\lib\\site-packages)\n",
      "WARNING: Ignoring invalid distribution - (c:\\users\\irtis\\anpr\\tfod\\lib\\site-packages)\n",
      "WARNING: Ignoring invalid distribution -otobuf (c:\\users\\irtis\\anpr\\tfod\\lib\\site-packages)\n",
      "WARNING: Ignoring invalid distribution -rotobuf (c:\\users\\irtis\\anpr\\tfod\\lib\\site-packages)\n",
      "WARNING: Ignoring invalid distribution - (c:\\users\\irtis\\anpr\\tfod\\lib\\site-packages)\n",
      "WARNING: Ignoring invalid distribution -otobuf (c:\\users\\irtis\\anpr\\tfod\\lib\\site-packages)\n",
      "WARNING: Ignoring invalid distribution -rotobuf (c:\\users\\irtis\\anpr\\tfod\\lib\\site-packages)\n",
      "WARNING: Ignoring invalid distribution - (c:\\users\\irtis\\anpr\\tfod\\lib\\site-packages)\n"
     ]
    }
   ],
   "source": [
    "!pip install tensorflow==2.7 tensorflow-gpu==2.7 --upgrade\n"
   ]
  },
  {
   "cell_type": "code",
   "execution_count": 11,
   "metadata": {},
   "outputs": [
    {
     "name": "stdout",
     "output_type": "stream",
     "text": [
      "Collecting protobuf==3.20\n",
      "  Using cached protobuf-3.20.0-cp39-cp39-win_amd64.whl (904 kB)\n",
      "Installing collected packages: protobuf\n",
      "  Attempting uninstall: protobuf\n",
      "    Found existing installation: protobuf 3.19.1\n",
      "    Uninstalling protobuf-3.19.1:\n",
      "      Successfully uninstalled protobuf-3.19.1\n",
      "Successfully installed protobuf-3.20.0\n"
     ]
    },
    {
     "name": "stderr",
     "output_type": "stream",
     "text": [
      "ERROR: pip's dependency resolver does not currently take into account all the packages that are installed. This behaviour is the source of the following dependency conflicts.\n",
      "tensorflow 2.9.1 requires protobuf<3.20,>=3.9.2, but you have protobuf 3.20.0 which is incompatible.\n"
     ]
    }
   ],
   "source": [
    "!pip install protobuf==3.20"
   ]
  },
  {
   "cell_type": "code",
   "execution_count": null,
   "metadata": {},
   "outputs": [],
   "source": [
    "pip install keras==2.9"
   ]
  },
  {
   "cell_type": "code",
   "execution_count": 8,
   "metadata": {},
   "outputs": [],
   "source": [
    "from object_detection.utils import config_util\n",
    "from object_detection.protos import pipeline_pb2\n",
    "from google.protobuf import text_format"
   ]
  },
  {
   "cell_type": "code",
   "execution_count": 18,
   "metadata": {},
   "outputs": [
    {
     "name": "stdout",
     "output_type": "stream",
     "text": [
      "C:\\Users\\irtis\\ANPR\\tfod\\Scripts\\python.exe\n",
      "3.9.12 (main, Apr  4 2022, 05:22:27) [MSC v.1916 64 bit (AMD64)]\n",
      "sys.version_info(major=3, minor=9, micro=12, releaselevel='final', serial=0)\n"
     ]
    }
   ],
   "source": [
    "import sys\n",
    "print(sys.executable)\n",
    "print(sys.version)\n",
    "print(sys.version_info)"
   ]
  },
  {
   "cell_type": "code",
   "execution_count": 9,
   "metadata": {
    "id": "c2A0mn4ipfDF"
   },
   "outputs": [],
   "source": [
    "config = config_util.get_configs_from_pipeline_file(files['PIPELINE_CONFIG'])"
   ]
  },
  {
   "cell_type": "code",
   "execution_count": 8,
   "metadata": {
    "colab": {
     "base_uri": "https://localhost:8080/"
    },
    "id": "uQA13-afpfDF",
    "outputId": "907496a4-a39d-4b13-8c2c-e5978ecb1f10"
   },
   "outputs": [
    {
     "data": {
      "text/plain": [
       "{'model': ssd {\n",
       "   num_classes: 3\n",
       "   image_resizer {\n",
       "     fixed_shape_resizer {\n",
       "       height: 320\n",
       "       width: 320\n",
       "     }\n",
       "   }\n",
       "   feature_extractor {\n",
       "     type: \"ssd_mobilenet_v2_fpn_keras\"\n",
       "     depth_multiplier: 1.0\n",
       "     min_depth: 16\n",
       "     conv_hyperparams {\n",
       "       regularizer {\n",
       "         l2_regularizer {\n",
       "           weight: 3.9999998989515007e-05\n",
       "         }\n",
       "       }\n",
       "       initializer {\n",
       "         random_normal_initializer {\n",
       "           mean: 0.0\n",
       "           stddev: 0.009999999776482582\n",
       "         }\n",
       "       }\n",
       "       activation: RELU_6\n",
       "       batch_norm {\n",
       "         decay: 0.996999979019165\n",
       "         scale: true\n",
       "         epsilon: 0.0010000000474974513\n",
       "       }\n",
       "     }\n",
       "     use_depthwise: true\n",
       "     override_base_feature_extractor_hyperparams: true\n",
       "     fpn {\n",
       "       min_level: 3\n",
       "       max_level: 7\n",
       "       additional_layer_depth: 128\n",
       "     }\n",
       "   }\n",
       "   box_coder {\n",
       "     faster_rcnn_box_coder {\n",
       "       y_scale: 10.0\n",
       "       x_scale: 10.0\n",
       "       height_scale: 5.0\n",
       "       width_scale: 5.0\n",
       "     }\n",
       "   }\n",
       "   matcher {\n",
       "     argmax_matcher {\n",
       "       matched_threshold: 0.5\n",
       "       unmatched_threshold: 0.5\n",
       "       ignore_thresholds: false\n",
       "       negatives_lower_than_unmatched: true\n",
       "       force_match_for_each_row: true\n",
       "       use_matmul_gather: true\n",
       "     }\n",
       "   }\n",
       "   similarity_calculator {\n",
       "     iou_similarity {\n",
       "     }\n",
       "   }\n",
       "   box_predictor {\n",
       "     weight_shared_convolutional_box_predictor {\n",
       "       conv_hyperparams {\n",
       "         regularizer {\n",
       "           l2_regularizer {\n",
       "             weight: 3.9999998989515007e-05\n",
       "           }\n",
       "         }\n",
       "         initializer {\n",
       "           random_normal_initializer {\n",
       "             mean: 0.0\n",
       "             stddev: 0.009999999776482582\n",
       "           }\n",
       "         }\n",
       "         activation: RELU_6\n",
       "         batch_norm {\n",
       "           decay: 0.996999979019165\n",
       "           scale: true\n",
       "           epsilon: 0.0010000000474974513\n",
       "         }\n",
       "       }\n",
       "       depth: 128\n",
       "       num_layers_before_predictor: 4\n",
       "       kernel_size: 3\n",
       "       class_prediction_bias_init: -4.599999904632568\n",
       "       share_prediction_tower: true\n",
       "       use_depthwise: true\n",
       "     }\n",
       "   }\n",
       "   anchor_generator {\n",
       "     multiscale_anchor_generator {\n",
       "       min_level: 3\n",
       "       max_level: 7\n",
       "       anchor_scale: 4.0\n",
       "       aspect_ratios: 1.0\n",
       "       aspect_ratios: 2.0\n",
       "       aspect_ratios: 0.5\n",
       "       scales_per_octave: 2\n",
       "     }\n",
       "   }\n",
       "   post_processing {\n",
       "     batch_non_max_suppression {\n",
       "       score_threshold: 9.99999993922529e-09\n",
       "       iou_threshold: 0.6000000238418579\n",
       "       max_detections_per_class: 100\n",
       "       max_total_detections: 100\n",
       "       use_static_shapes: false\n",
       "     }\n",
       "     score_converter: SIGMOID\n",
       "   }\n",
       "   normalize_loss_by_num_matches: true\n",
       "   loss {\n",
       "     localization_loss {\n",
       "       weighted_smooth_l1 {\n",
       "       }\n",
       "     }\n",
       "     classification_loss {\n",
       "       weighted_sigmoid_focal {\n",
       "         gamma: 2.0\n",
       "         alpha: 0.25\n",
       "       }\n",
       "     }\n",
       "     classification_weight: 1.0\n",
       "     localization_weight: 1.0\n",
       "   }\n",
       "   encode_background_as_zeros: true\n",
       "   normalize_loc_loss_by_codesize: true\n",
       "   inplace_batchnorm_update: true\n",
       "   freeze_batchnorm: false\n",
       " },\n",
       " 'train_config': batch_size: 4\n",
       " data_augmentation_options {\n",
       "   random_horizontal_flip {\n",
       "   }\n",
       " }\n",
       " data_augmentation_options {\n",
       "   random_crop_image {\n",
       "     min_object_covered: 0.0\n",
       "     min_aspect_ratio: 0.75\n",
       "     max_aspect_ratio: 3.0\n",
       "     min_area: 0.75\n",
       "     max_area: 1.0\n",
       "     overlap_thresh: 0.0\n",
       "   }\n",
       " }\n",
       " sync_replicas: true\n",
       " optimizer {\n",
       "   momentum_optimizer {\n",
       "     learning_rate {\n",
       "       cosine_decay_learning_rate {\n",
       "         learning_rate_base: 0.07999999821186066\n",
       "         total_steps: 50000\n",
       "         warmup_learning_rate: 0.026666000485420227\n",
       "         warmup_steps: 1000\n",
       "       }\n",
       "     }\n",
       "     momentum_optimizer_value: 0.8999999761581421\n",
       "   }\n",
       "   use_moving_average: false\n",
       " }\n",
       " fine_tune_checkpoint: \"Tensorflow\\\\workspace\\\\pre-trained-models\\\\ssd_mobilenet_v2_fpnlite_320x320_coco17_tpu-8\\\\checkpoint\\\\ckpt-0\"\n",
       " num_steps: 50000\n",
       " startup_delay_steps: 0.0\n",
       " replicas_to_aggregate: 8\n",
       " max_number_of_boxes: 100\n",
       " unpad_groundtruth_tensors: false\n",
       " fine_tune_checkpoint_type: \"detection\"\n",
       " fine_tune_checkpoint_version: V2,\n",
       " 'train_input_config': label_map_path: \"Tensorflow\\\\workspace\\\\annotations\\\\label_map.pbtxt\"\n",
       " tf_record_input_reader {\n",
       "   input_path: \"Tensorflow\\\\workspace\\\\annotations\\\\train.record\"\n",
       " },\n",
       " 'eval_config': metrics_set: \"coco_detection_metrics\"\n",
       " use_moving_averages: false,\n",
       " 'eval_input_configs': [label_map_path: \"Tensorflow\\\\workspace\\\\annotations\\\\label_map.pbtxt\"\n",
       " shuffle: false\n",
       " num_epochs: 1\n",
       " tf_record_input_reader {\n",
       "   input_path: \"Tensorflow\\\\workspace\\\\annotations\\\\test.record\"\n",
       " }\n",
       " ],\n",
       " 'eval_input_config': label_map_path: \"Tensorflow\\\\workspace\\\\annotations\\\\label_map.pbtxt\"\n",
       " shuffle: false\n",
       " num_epochs: 1\n",
       " tf_record_input_reader {\n",
       "   input_path: \"Tensorflow\\\\workspace\\\\annotations\\\\test.record\"\n",
       " }}"
      ]
     },
     "execution_count": 8,
     "metadata": {},
     "output_type": "execute_result"
    }
   ],
   "source": [
    "config"
   ]
  },
  {
   "cell_type": "code",
   "execution_count": 21,
   "metadata": {
    "id": "9vK5lotDpfDF"
   },
   "outputs": [],
   "source": [
    "import tensorflow as tf\n",
    "pipeline_config = pipeline_pb2.TrainEvalPipelineConfig()\n",
    "with tf.io.gfile.GFile(files['PIPELINE_CONFIG'], \"r\") as f:                                                                                                                                                                                                                     \n",
    "    proto_str = f.read()                                                                                                                                                                                                                                          \n",
    "    text_format.Merge(proto_str, pipeline_config)  "
   ]
  },
  {
   "cell_type": "code",
   "execution_count": 22,
   "metadata": {
    "id": "rP43Ph0JpfDG"
   },
   "outputs": [],
   "source": [
    "pipeline_config.model.ssd.num_classes = len(labels)\n",
    "pipeline_config.train_config.batch_size = 4\n",
    "pipeline_config.train_config.fine_tune_checkpoint = os.path.join(paths['PRETRAINED_MODEL_PATH'], PRETRAINED_MODEL_NAME, 'checkpoint', 'ckpt-0')\n",
    "pipeline_config.train_config.fine_tune_checkpoint_type = \"detection\"\n",
    "pipeline_config.train_input_reader.label_map_path= files['LABELMAP']\n",
    "pipeline_config.train_input_reader.tf_record_input_reader.input_path[:] = [os.path.join(paths['ANNOTATION_PATH'], 'train.record')]\n",
    "pipeline_config.eval_input_reader[0].label_map_path = files['LABELMAP']\n",
    "pipeline_config.eval_input_reader[0].tf_record_input_reader.input_path[:] = [os.path.join(paths['ANNOTATION_PATH'], 'test.record')]"
   ]
  },
  {
   "cell_type": "code",
   "execution_count": 23,
   "metadata": {
    "id": "oJvfgwWqpfDG"
   },
   "outputs": [],
   "source": [
    "config_text = text_format.MessageToString(pipeline_config)                                                                                                                                                                                                        \n",
    "with tf.io.gfile.GFile(files['PIPELINE_CONFIG'], \"wb\") as f:                                                                                                                                                                                                                     \n",
    "    f.write(config_text)   "
   ]
  },
  {
   "cell_type": "markdown",
   "metadata": {
    "id": "Zr3ON7xMpfDG"
   },
   "source": [
    "# 6. Train the model"
   ]
  },
  {
   "cell_type": "code",
   "execution_count": 24,
   "metadata": {
    "id": "B-Y2UQmQpfDG"
   },
   "outputs": [],
   "source": [
    "TRAINING_SCRIPT = os.path.join(paths['APIMODEL_PATH'], 'research', 'object_detection', 'model_main_tf2.py')"
   ]
  },
  {
   "cell_type": "code",
   "execution_count": 25,
   "metadata": {
    "id": "jMP2XDfQpfDH"
   },
   "outputs": [],
   "source": [
    "command = \"python {} --model_dir={} --pipeline_config_path={} --num_train_steps=2000\".format(TRAINING_SCRIPT, paths['CHECKPOINT_PATH'],files['PIPELINE_CONFIG'])"
   ]
  },
  {
   "cell_type": "code",
   "execution_count": 26,
   "metadata": {
    "colab": {
     "base_uri": "https://localhost:8080/"
    },
    "id": "A4OXXi-ApfDH",
    "outputId": "117a0e83-012b-466e-b7a6-ccaa349ac5ab"
   },
   "outputs": [
    {
     "name": "stdout",
     "output_type": "stream",
     "text": [
      "python Tensorflow\\models\\research\\object_detection\\model_main_tf2.py --model_dir=Tensorflow\\workspace\\models\\my_ssd_mobnet --pipeline_config_path=Tensorflow\\workspace\\models\\my_ssd_mobnet\\pipeline.config --num_train_steps=2000\n"
     ]
    }
   ],
   "source": [
    "print(command)"
   ]
  },
  {
   "cell_type": "code",
   "execution_count": null,
   "metadata": {},
   "outputs": [],
   "source": [
    "pip install google"
   ]
  },
  {
   "cell_type": "code",
   "execution_count": null,
   "metadata": {
    "scrolled": true
   },
   "outputs": [],
   "source": [
    "pip install protobuf==3.2.0"
   ]
  },
  {
   "cell_type": "code",
   "execution_count": null,
   "metadata": {},
   "outputs": [],
   "source": [
    "pip install numpy=1.14.3"
   ]
  },
  {
   "cell_type": "code",
   "execution_count": null,
   "metadata": {},
   "outputs": [],
   "source": [
    "pip install pycocotools==2.0.0\n"
   ]
  },
  {
   "cell_type": "code",
   "execution_count": null,
   "metadata": {},
   "outputs": [],
   "source": [
    "pip install pycocotools"
   ]
  },
  {
   "cell_type": "code",
   "execution_count": null,
   "metadata": {},
   "outputs": [],
   "source": [
    "pip install numpy --upgrade\n"
   ]
  },
  {
   "cell_type": "code",
   "execution_count": 31,
   "metadata": {},
   "outputs": [
    {
     "name": "stdout",
     "output_type": "stream",
     "text": [
      "Collecting typeguard\n",
      "  Using cached typeguard-2.13.3-py3-none-any.whl (17 kB)\n",
      "Installing collected packages: typeguard\n",
      "Successfully installed typeguard-2.13.3\n",
      "Note: you may need to restart the kernel to use updated packages.\n"
     ]
    },
    {
     "name": "stderr",
     "output_type": "stream",
     "text": [
      "WARNING: Ignoring invalid distribution -otobuf (c:\\users\\irtis\\anpr\\tfod\\lib\\site-packages)\n",
      "WARNING: Ignoring invalid distribution -rotobuf (c:\\users\\irtis\\anpr\\tfod\\lib\\site-packages)\n",
      "WARNING: Ignoring invalid distribution - (c:\\users\\irtis\\anpr\\tfod\\lib\\site-packages)\n",
      "WARNING: Ignoring invalid distribution -ensorflow-gpu (c:\\users\\irtis\\anpr\\tfod\\lib\\site-packages)\n",
      "WARNING: Ignoring invalid distribution -otobuf (c:\\users\\irtis\\anpr\\tfod\\lib\\site-packages)\n",
      "WARNING: Ignoring invalid distribution -rotobuf (c:\\users\\irtis\\anpr\\tfod\\lib\\site-packages)\n",
      "WARNING: Ignoring invalid distribution - (c:\\users\\irtis\\anpr\\tfod\\lib\\site-packages)\n",
      "WARNING: Ignoring invalid distribution -ensorflow-gpu (c:\\users\\irtis\\anpr\\tfod\\lib\\site-packages)\n",
      "WARNING: Ignoring invalid distribution -otobuf (c:\\users\\irtis\\anpr\\tfod\\lib\\site-packages)\n",
      "WARNING: Ignoring invalid distribution -rotobuf (c:\\users\\irtis\\anpr\\tfod\\lib\\site-packages)\n",
      "WARNING: Ignoring invalid distribution - (c:\\users\\irtis\\anpr\\tfod\\lib\\site-packages)\n",
      "WARNING: Ignoring invalid distribution -ensorflow-gpu (c:\\users\\irtis\\anpr\\tfod\\lib\\site-packages)\n",
      "WARNING: Ignoring invalid distribution -otobuf (c:\\users\\irtis\\anpr\\tfod\\lib\\site-packages)\n",
      "WARNING: Ignoring invalid distribution -rotobuf (c:\\users\\irtis\\anpr\\tfod\\lib\\site-packages)\n",
      "WARNING: Ignoring invalid distribution - (c:\\users\\irtis\\anpr\\tfod\\lib\\site-packages)\n",
      "WARNING: Ignoring invalid distribution -ensorflow-gpu (c:\\users\\irtis\\anpr\\tfod\\lib\\site-packages)\n",
      "WARNING: Ignoring invalid distribution -otobuf (c:\\users\\irtis\\anpr\\tfod\\lib\\site-packages)\n",
      "WARNING: Ignoring invalid distribution -rotobuf (c:\\users\\irtis\\anpr\\tfod\\lib\\site-packages)\n",
      "WARNING: Ignoring invalid distribution - (c:\\users\\irtis\\anpr\\tfod\\lib\\site-packages)\n",
      "WARNING: Ignoring invalid distribution -ensorflow-gpu (c:\\users\\irtis\\anpr\\tfod\\lib\\site-packages)\n",
      "WARNING: Ignoring invalid distribution -otobuf (c:\\users\\irtis\\anpr\\tfod\\lib\\site-packages)\n",
      "WARNING: Ignoring invalid distribution -rotobuf (c:\\users\\irtis\\anpr\\tfod\\lib\\site-packages)\n",
      "WARNING: Ignoring invalid distribution - (c:\\users\\irtis\\anpr\\tfod\\lib\\site-packages)\n",
      "WARNING: Ignoring invalid distribution -ensorflow-gpu (c:\\users\\irtis\\anpr\\tfod\\lib\\site-packages)\n",
      "WARNING: Ignoring invalid distribution -otobuf (c:\\users\\irtis\\anpr\\tfod\\lib\\site-packages)\n",
      "WARNING: Ignoring invalid distribution -rotobuf (c:\\users\\irtis\\anpr\\tfod\\lib\\site-packages)\n",
      "WARNING: Ignoring invalid distribution - (c:\\users\\irtis\\anpr\\tfod\\lib\\site-packages)\n",
      "WARNING: Ignoring invalid distribution -ensorflow-gpu (c:\\users\\irtis\\anpr\\tfod\\lib\\site-packages)\n"
     ]
    }
   ],
   "source": [
    "pip install typeguard"
   ]
  },
  {
   "cell_type": "code",
   "execution_count": null,
   "metadata": {
    "colab": {
     "base_uri": "https://localhost:8080/"
    },
    "id": "i3ZsJR-qpfDH",
    "outputId": "cabec5e1-45e6-4f2f-d9cf-297d9c1d0225"
   },
   "outputs": [],
   "source": [
    "!{command}"
   ]
  },
  {
   "cell_type": "markdown",
   "metadata": {
    "id": "4_YRZu7npfDH"
   },
   "source": [
    "# 7. Evaluate the Model"
   ]
  },
  {
   "cell_type": "code",
   "execution_count": null,
   "metadata": {
    "id": "80L7-fdPpfDH"
   },
   "outputs": [],
   "source": [
    "command = \"python {} --model_dir={} --pipeline_config_path={} --checkpoint_dir={}\".format(TRAINING_SCRIPT, paths['CHECKPOINT_PATH'],files['PIPELINE_CONFIG'], paths['CHECKPOINT_PATH'])"
   ]
  },
  {
   "cell_type": "code",
   "execution_count": null,
   "metadata": {
    "colab": {
     "base_uri": "https://localhost:8080/"
    },
    "id": "lYsgEPx9pfDH",
    "outputId": "8632d48b-91d2-45d9-bcb8-c1b172bf6eed"
   },
   "outputs": [],
   "source": [
    "print(command)"
   ]
  },
  {
   "cell_type": "code",
   "execution_count": null,
   "metadata": {
    "id": "lqTV2jGBpfDH"
   },
   "outputs": [],
   "source": [
    "!{command}"
   ]
  },
  {
   "cell_type": "markdown",
   "metadata": {
    "id": "orvRk02UpfDI"
   },
   "source": [
    "# 8. Load Train Model From Checkpoint"
   ]
  },
  {
   "cell_type": "code",
   "execution_count": 10,
   "metadata": {
    "id": "8TYk4_oIpfDI"
   },
   "outputs": [],
   "source": [
    "import os\n",
    "import tensorflow as tf\n",
    "from object_detection.utils import label_map_util\n",
    "from object_detection.utils import visualization_utils as viz_utils\n",
    "from object_detection.builders import model_builder\n",
    "from object_detection.utils import config_util"
   ]
  },
  {
   "cell_type": "code",
   "execution_count": 11,
   "metadata": {
    "id": "tDnQg-cYpfDI"
   },
   "outputs": [],
   "source": [
    "# Load pipeline config and build a detection model\n",
    "configs = config_util.get_configs_from_pipeline_file(files['PIPELINE_CONFIG'])\n",
    "detection_model = model_builder.build(model_config=configs['model'], is_training=False)\n",
    "\n",
    "# Restore checkpoint\n",
    "ckpt = tf.compat.v2.train.Checkpoint(model=detection_model)\n",
    "ckpt.restore(os.path.join(paths['CHECKPOINT_PATH'], 'ckpt-4')).expect_partial()\n",
    "\n",
    "@tf.function\n",
    "def detect_fn(image):\n",
    "    image, shapes = detection_model.preprocess(image)\n",
    "    prediction_dict = detection_model.predict(image, shapes)\n",
    "    detections = detection_model.postprocess(prediction_dict, shapes)\n",
    "    return detections\n"
   ]
  },
  {
   "cell_type": "markdown",
   "metadata": {
    "id": "0EmsmbBZpfDI"
   },
   "source": [
    "# 9. Detect from an Image"
   ]
  },
  {
   "cell_type": "code",
   "execution_count": 11,
   "metadata": {
    "id": "Y_MKiuZ4pfDI"
   },
   "outputs": [],
   "source": [
    "import cv2 \n",
    "import numpy as np\n",
    "from matplotlib import pyplot as plt\n",
    "%matplotlib inline"
   ]
  },
  {
   "cell_type": "code",
   "execution_count": 12,
   "metadata": {
    "id": "cBDbIhNapfDI"
   },
   "outputs": [],
   "source": [
    "category_index = label_map_util.create_category_index_from_labelmap(files['LABELMAP'])"
   ]
  },
  {
   "cell_type": "code",
   "execution_count": 13,
   "metadata": {
    "id": "Lx3crOhOzITB"
   },
   "outputs": [],
   "source": [
    "IMAGE_PATH = os.path.join(paths['IMAGE_PATH'], 'test', 'istockphoto-1319763415-170667a.jpg')"
   ]
  },
  {
   "cell_type": "code",
   "execution_count": 14,
   "metadata": {
    "colab": {
     "base_uri": "https://localhost:8080/",
     "height": 269
    },
    "id": "Tpzn1SMry1yK",
    "outputId": "c392a2c5-10fe-4fc4-9998-a1d4c7db2bd3"
   },
   "outputs": [
    {
     "data": {
      "image/png": "[encoded data removed]",
      "text/plain": [
       "<Figure size 432x288 with 1 Axes>"
      ]
     },
     "metadata": {
      "needs_background": "light"
     },
     "output_type": "display_data"
    }
   ],
   "source": [
    "img = cv2.imread(IMAGE_PATH)\n",
    "image_np = np.array(img)\n",
    "\n",
    "input_tensor = tf.convert_to_tensor(np.expand_dims(image_np, 0), dtype=tf.float32)\n",
    "detections = detect_fn(input_tensor)\n",
    "\n",
    "num_detections = int(detections.pop('num_detections'))\n",
    "detections = {key: value[0, :num_detections].numpy()\n",
    "              for key, value in detections.items()}\n",
    "detections['num_detections'] = num_detections\n",
    "\n",
    "# detection_classes should be ints.\n",
    "detections['detection_classes'] = detections['detection_classes'].astype(np.int64)\n",
    "\n",
    "label_id_offset = 1\n",
    "image_np_with_detections = image_np.copy()\n",
    "\n",
    "viz_utils.visualize_boxes_and_labels_on_image_array(\n",
    "            image_np_with_detections,\n",
    "            detections['detection_boxes'],\n",
    "            detections['detection_classes']+label_id_offset,\n",
    "            detections['detection_scores'],\n",
    "            category_index,\n",
    "            use_normalized_coordinates=True,\n",
    "            max_boxes_to_draw=5,\n",
    "            min_score_thresh=.8,\n",
    "            agnostic_mode=False)\n",
    "\n",
    "plt.imshow(cv2.cvtColor(image_np_with_detections, cv2.COLOR_BGR2RGB))\n",
    "plt.show()"
   ]
  },
  {
   "cell_type": "markdown",
   "metadata": {
    "id": "IsNAaYAo0WVL"
   },
   "source": [
    "# 10. Real Time Detections from your Webcam"
   ]
  },
  {
   "cell_type": "code",
   "execution_count": 50,
   "metadata": {},
   "outputs": [
    {
     "name": "stderr",
     "output_type": "stream",
     "text": [
      "WARNING: Skipping opencv-python-headless as it is not installed.\n"
     ]
    }
   ],
   "source": [
    "!pip uninstall opencv-python-headless -y"
   ]
  },
  {
   "cell_type": "code",
   "execution_count": 51,
   "metadata": {},
   "outputs": [
    {
     "name": "stderr",
     "output_type": "stream",
     "text": [
      "WARNING: Skipping opencv-python as it is not installed.\n"
     ]
    }
   ],
   "source": [
    "!pip uninstall opencv-python -y"
   ]
  },
  {
   "cell_type": "code",
   "execution_count": 35,
   "metadata": {},
   "outputs": [
    {
     "name": "stdout",
     "output_type": "stream",
     "text": [
      "Found existing installation: opencv-python 4.5.5.64\n",
      "Uninstalling opencv-python-4.5.5.64:\n",
      "  Successfully uninstalled opencv-python-4.5.5.64\n"
     ]
    }
   ],
   "source": [
    "!pip uninstall opencv-python -y"
   ]
  },
  {
   "cell_type": "code",
   "execution_count": 55,
   "metadata": {},
   "outputs": [
    {
     "name": "stdout",
     "output_type": "stream",
     "text": [
      "Requirement already satisfied: opencv-python in c:\\users\\irtis\\anaconda3\\lib\\site-packages (4.5.5.64)\n",
      "Requirement already satisfied: numpy>=1.17.3 in c:\\users\\irtis\\anaconda3\\lib\\site-packages (from opencv-python) (1.21.5)\n"
     ]
    }
   ],
   "source": [
    "!pip install opencv-python --upgrade"
   ]
  },
  {
   "cell_type": "code",
   "execution_count": 1,
   "metadata": {
    "id": "o_grs6OGpfDJ"
   },
   "outputs": [
    {
     "ename": "NameError",
     "evalue": "name 'detect_fn' is not defined",
     "output_type": "error",
     "traceback": [
      "\u001b[1;31m---------------------------------------------------------------------------\u001b[0m",
      "\u001b[1;31mNameError\u001b[0m                                 Traceback (most recent call last)",
      "Input \u001b[1;32mIn [1]\u001b[0m, in \u001b[0;36m<cell line: 8>\u001b[1;34m()\u001b[0m\n\u001b[0;32m     12\u001b[0m image_np \u001b[38;5;241m=\u001b[39m np\u001b[38;5;241m.\u001b[39marray(frame)\n\u001b[0;32m     14\u001b[0m input_tensor \u001b[38;5;241m=\u001b[39m tf\u001b[38;5;241m.\u001b[39mconvert_to_tensor(np\u001b[38;5;241m.\u001b[39mexpand_dims(image_np, \u001b[38;5;241m0\u001b[39m), dtype\u001b[38;5;241m=\u001b[39mtf\u001b[38;5;241m.\u001b[39mfloat32)\n\u001b[1;32m---> 15\u001b[0m detections \u001b[38;5;241m=\u001b[39m \u001b[43mdetect_fn\u001b[49m(input_tensor)\n\u001b[0;32m     17\u001b[0m num_detections \u001b[38;5;241m=\u001b[39m \u001b[38;5;28mint\u001b[39m(detections\u001b[38;5;241m.\u001b[39mpop(\u001b[38;5;124m'\u001b[39m\u001b[38;5;124mnum_detections\u001b[39m\u001b[38;5;124m'\u001b[39m))\n\u001b[0;32m     18\u001b[0m detections \u001b[38;5;241m=\u001b[39m {key: value[\u001b[38;5;241m0\u001b[39m, :num_detections]\u001b[38;5;241m.\u001b[39mnumpy()\n\u001b[0;32m     19\u001b[0m               \u001b[38;5;28;01mfor\u001b[39;00m key, value \u001b[38;5;129;01min\u001b[39;00m detections\u001b[38;5;241m.\u001b[39mitems()}\n",
      "\u001b[1;31mNameError\u001b[0m: name 'detect_fn' is not defined"
     ]
    }
   ],
   "source": [
    "import tensorflow as tf\n",
    "import cv2\n",
    "import numpy as np\n",
    "cap = cv2.VideoCapture(0)\n",
    "width = int(cap.get(cv2.CAP_PROP_FRAME_WIDTH))\n",
    "height = int(cap.get(cv2.CAP_PROP_FRAME_HEIGHT))\n",
    "\n",
    "while cap.isOpened(): \n",
    "    ret, frame = cap.read()\n",
    "    \n",
    "    \n",
    "    image_np = np.array(frame)\n",
    "    \n",
    "    input_tensor = tf.convert_to_tensor(np.expand_dims(image_np, 0), dtype=tf.float32)\n",
    "    detections = detect_fn(input_tensor)\n",
    "    \n",
    "    num_detections = int(detections.pop('num_detections'))\n",
    "    detections = {key: value[0, :num_detections].numpy()\n",
    "                  for key, value in detections.items()}\n",
    "    detections['num_detections'] = num_detections\n",
    "\n",
    "    # detection_classes should be ints.\n",
    "    detections['detection_classes'] = detections['detection_classes'].astype(np.int64)\n",
    "\n",
    "    label_id_offset = 1\n",
    "    image_np_with_detections = image_np.copy()\n",
    "\n",
    "    viz_utils.visualize_boxes_and_labels_on_image_array(\n",
    "                image_np_with_detections,\n",
    "                detections['detection_boxes'],\n",
    "                detections['detection_classes']+label_id_offset,\n",
    "                detections['detection_scores'],\n",
    "                category_index,\n",
    "                use_normalized_coordinates=True,\n",
    "                max_boxes_to_draw=5,\n",
    "                min_score_thresh=.8,\n",
    "                agnostic_mode=False)\n",
    "    \n",
    "    try: \n",
    "        text, region = ocr_it(image_np_with_detections, detections, detection_threshold, region_threshold)\n",
    "        save_results(text, region, 'realtimeresults.csv', 'Detection_Images')\n",
    "    except:\n",
    "        pass\n",
    "\n",
    "    cv2.imshow('object detection',  cv2.resize(image_np_with_detections, (800, 600)))\n",
    "    \n",
    "    if cv2.waitKey(10) & 0xFF == ord('q'):\n",
    "        cap.release()\n",
    "        cv2.destroyAllWindows()\n",
    "        break"
   ]
  },
  {
   "cell_type": "markdown",
   "metadata": {
    "id": "rzlM4jt0pfDJ"
   },
   "source": [
    "# 10. Freezing the Graph"
   ]
  },
  {
   "cell_type": "code",
   "execution_count": null,
   "metadata": {
    "id": "n4olHB2npfDJ"
   },
   "outputs": [],
   "source": [
    "FREEZE_SCRIPT = os.path.join(paths['APIMODEL_PATH'], 'research', 'object_detection', 'exporter_main_v2.py ')"
   ]
  },
  {
   "cell_type": "code",
   "execution_count": null,
   "metadata": {
    "id": "0AjO93QDpfDJ"
   },
   "outputs": [],
   "source": [
    "command = \"python {} --input_type=image_tensor --pipeline_config_path={} --trained_checkpoint_dir={} --output_directory={}\".format(FREEZE_SCRIPT ,files['PIPELINE_CONFIG'], paths['CHECKPOINT_PATH'], paths['OUTPUT_PATH'])"
   ]
  },
  {
   "cell_type": "code",
   "execution_count": null,
   "metadata": {
    "colab": {
     "base_uri": "https://localhost:8080/"
    },
    "id": "F6Lsp3tCpfDJ",
    "outputId": "c3828529-bf06-4df5-d7f3-145890ec3edd"
   },
   "outputs": [],
   "source": [
    "print(command)"
   ]
  },
  {
   "cell_type": "code",
   "execution_count": null,
   "metadata": {
    "colab": {
     "base_uri": "https://localhost:8080/"
    },
    "id": "1Sw1ULgHpfDJ",
    "outputId": "6fd441e1-9fc9-4889-d072-3395c21e40b6"
   },
   "outputs": [],
   "source": [
    "!{command}"
   ]
  },
  {
   "cell_type": "markdown",
   "metadata": {
    "id": "wTPmdqaXpfDK"
   },
   "source": [
    "# 11. Conversion to TFJS"
   ]
  },
  {
   "cell_type": "code",
   "execution_count": null,
   "metadata": {
    "colab": {
     "base_uri": "https://localhost:8080/"
    },
    "id": "gZ6UzY_fpfDK",
    "outputId": "0c84722e-1c2b-4002-d857-80827ade828a",
    "scrolled": true
   },
   "outputs": [],
   "source": [
    "!pip install tensorflowjs"
   ]
  },
  {
   "cell_type": "code",
   "execution_count": null,
   "metadata": {
    "id": "0oxbVynHpfDK"
   },
   "outputs": [],
   "source": [
    "command = \"tensorflowjs_converter --input_format=tf_saved_model --output_node_names='detection_boxes,detection_classes,detection_features,detection_multiclass_scores,detection_scores,num_detections,raw_detection_boxes,raw_detection_scores' --output_format=tfjs_graph_model --signature_name=serving_default {} {}\".format(os.path.join(paths['OUTPUT_PATH'], 'saved_model'), paths['TFJS_PATH'])"
   ]
  },
  {
   "cell_type": "code",
   "execution_count": null,
   "metadata": {
    "colab": {
     "base_uri": "https://localhost:8080/"
    },
    "id": "DB2AGNmJpfDK",
    "outputId": "fbc9f747-f511-47e8-df8f-5ea65cef0374"
   },
   "outputs": [],
   "source": [
    "print(command)"
   ]
  },
  {
   "cell_type": "code",
   "execution_count": null,
   "metadata": {
    "colab": {
     "base_uri": "https://localhost:8080/"
    },
    "id": "K7rfT4-hpfDK",
    "outputId": "532707fd-6feb-4bc6-84a3-325b5d16303c"
   },
   "outputs": [],
   "source": [
    "!{command}"
   ]
  },
  {
   "cell_type": "code",
   "execution_count": null,
   "metadata": {
    "id": "o8_hm-itpfDK"
   },
   "outputs": [],
   "source": [
    "# Test Code: https://github.com/nicknochnack/RealTimeSignLanguageDetectionwithTFJS"
   ]
  },
  {
   "cell_type": "markdown",
   "metadata": {
    "id": "VtUw73FHpfDK"
   },
   "source": [
    "# 12. Conversion to TFLite"
   ]
  },
  {
   "cell_type": "code",
   "execution_count": null,
   "metadata": {
    "id": "XviMtewLpfDK"
   },
   "outputs": [],
   "source": [
    "TFLITE_SCRIPT = os.path.join(paths['APIMODEL_PATH'], 'research', 'object_detection', 'export_tflite_graph_tf2.py ')"
   ]
  },
  {
   "cell_type": "code",
   "execution_count": null,
   "metadata": {
    "id": "us86cjC4pfDL"
   },
   "outputs": [],
   "source": [
    "command = \"python {} --pipeline_config_path={} --trained_checkpoint_dir={} --output_directory={}\".format(TFLITE_SCRIPT ,files['PIPELINE_CONFIG'], paths['CHECKPOINT_PATH'], paths['TFLITE_PATH'])"
   ]
  },
  {
   "cell_type": "code",
   "execution_count": null,
   "metadata": {
    "colab": {
     "base_uri": "https://localhost:8080/"
    },
    "id": "n1r5YO3rpfDL",
    "outputId": "5fcdf7a4-eee2-4365-f1ca-1751968379ea"
   },
   "outputs": [],
   "source": [
    "print(command)"
   ]
  },
  {
   "cell_type": "code",
   "execution_count": null,
   "metadata": {
    "colab": {
     "base_uri": "https://localhost:8080/"
    },
    "id": "I-xWpHN8pfDL",
    "outputId": "7f6bacd8-d077-43b5-c131-5b081fba24a4"
   },
   "outputs": [],
   "source": [
    "!{command}"
   ]
  },
  {
   "cell_type": "code",
   "execution_count": null,
   "metadata": {
    "id": "iJfYMbN6pfDL"
   },
   "outputs": [],
   "source": [
    "FROZEN_TFLITE_PATH = os.path.join(paths['TFLITE_PATH'], 'saved_model')\n",
    "TFLITE_MODEL = os.path.join(paths['TFLITE_PATH'], 'saved_model', 'detect.tflite')"
   ]
  },
  {
   "cell_type": "code",
   "execution_count": null,
   "metadata": {},
   "outputs": [],
   "source": [
    "command = \"tflite_convert \\\n",
    "--saved_model_dir={} \\\n",
    "--output_file={} \\\n",
    "--input_shapes=1,300,300,3 \\\n",
    "--input_arrays=normalized_input_image_tensor \\\n",
    "--output_arrays='TFLite_Detection_PostProcess','TFLite_Detection_PostProcess:1','TFLite_Detection_PostProcess:2','TFLite_Detection_PostProcess:3' \\\n",
    "--inference_type=FLOAT \\\n",
    "--allow_custom_ops\".format(FROZEN_TFLITE_PATH, TFLITE_MODEL, )"
   ]
  },
  {
   "cell_type": "code",
   "execution_count": null,
   "metadata": {
    "colab": {
     "base_uri": "https://localhost:8080/"
    },
    "id": "E8GwUeoFpfDL",
    "outputId": "fac43ea4-cc85-471b-a362-e994b06fd583"
   },
   "outputs": [],
   "source": [
    "print(command)"
   ]
  },
  {
   "cell_type": "code",
   "execution_count": null,
   "metadata": {
    "colab": {
     "base_uri": "https://localhost:8080/"
    },
    "id": "Nbd7gqHMpfDL",
    "outputId": "7c8fe6d5-2415-4641-8548-39d425c202f7"
   },
   "outputs": [],
   "source": [
    "!{command}"
   ]
  },
  {
   "cell_type": "markdown",
   "metadata": {
    "id": "5NQqZRdA21Uc"
   },
   "source": [
    "# 13. Zip and Export Models "
   ]
  },
  {
   "cell_type": "code",
   "execution_count": null,
   "metadata": {
    "id": "tTVTGCQp2ZJJ"
   },
   "outputs": [],
   "source": [
    "!tar -czf models.tar.gz {paths['CHECKPOINT_PATH']}"
   ]
  },
  {
   "cell_type": "code",
   "execution_count": null,
   "metadata": {
    "colab": {
     "base_uri": "https://localhost:8080/"
    },
    "id": "whShhB0x3PYJ",
    "outputId": "b773201d-35c9-46a8-b893-4a76bd4d5d97"
   },
   "outputs": [],
   "source": [
    "from google.colab import drive\n",
    "drive.mount('/content/drive')"
   ]
  }
 ],
 "metadata": {
  "accelerator": "GPU",
  "colab": {
   "name": "3. Training and Detection.ipynb",
   "provenance": []
  },
  "kernelspec": {
   "display_name": "Python 3 (ipykernel)",
   "language": "python",
   "name": "python3"
  },
  "language_info": {
   "codemirror_mode": {
    "name": "ipython",
    "version": 3
   },
   "file_extension": ".py",
   "mimetype": "text/x-python",
   "name": "python",
   "nbconvert_exporter": "python",
   "pygments_lexer": "ipython3",
   "version": "3.9.12"
  }
 },
 "nbformat": 4,
 "nbformat_minor": 1
}
